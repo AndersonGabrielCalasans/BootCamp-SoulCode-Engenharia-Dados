{
  "nbformat": 4,
  "nbformat_minor": 0,
  "metadata": {
    "colab": {
      "provenance": [],
      "authorship_tag": "ABX9TyOshOIXjyqv+VIa/3SIWMNt",
      "include_colab_link": true
    },
    "kernelspec": {
      "name": "python3",
      "display_name": "Python 3"
    },
    "language_info": {
      "name": "python"
    }
  },
  "cells": [
    {
      "cell_type": "markdown",
      "metadata": {
        "id": "view-in-github",
        "colab_type": "text"
      },
      "source": [
        "<a href=\"https://colab.research.google.com/github/AndersonGabrielCalasans/BootCamp-SoulCode-Engenharia-Dados/blob/main/SoulCode/DataMigration_MongoDB.ipynb\" target=\"_parent\"><img src=\"https://colab.research.google.com/assets/colab-badge.svg\" alt=\"Open In Colab\"/></a>"
      ]
    },
    {
      "cell_type": "markdown",
      "source": [
        "## 1. Importando Bibliotecas"
      ],
      "metadata": {
        "id": "gzbyTjN4S-1G"
      }
    },
    {
      "cell_type": "code",
      "source": [
        "import pymongo\n",
        "from pymongo import MongoClient\n",
        "import pandas as pd"
      ],
      "metadata": {
        "id": "_-DfeQHVTCfM"
      },
      "execution_count": null,
      "outputs": []
    },
    {
      "cell_type": "markdown",
      "source": [
        "# 2. Localizando arquivos e gerando os DataFrames"
      ],
      "metadata": {
        "id": "6Jtc8fyQTJ7b"
      }
    },
    {
      "cell_type": "code",
      "execution_count": null,
      "metadata": {
        "id": "rp0Mm3jiS2Oz"
      },
      "outputs": [],
      "source": [
        "# URL dos arquivos\n",
        "urlcenipa = 'https://storage.googleapis.com/aulas-dados-python/ocorrencia.csv'\n",
        "urlalesp_cad = 'https://storage.googleapis.com/aulas-dados-python/cadastro_alesp.csv'\n",
        "urlalesp_desp = 'https://storage.googleapis.com/aulas-dados-python/despesa_alesp.csv'\n",
        "\n",
        "# Gerando DataFrames\n",
        "dfcenipa = pd.read_csv(urlcenipa, sep=\";\", encoding='ISO-8859-1', parse_dates = ['ocorrencia_dia'], dayfirst=True)\n",
        "dfalesp_cad = pd.read_csv(urlalesp_cad)\n",
        "dfalesp_desp = pd.read_csv(urlalesp_desp)"
      ]
    },
    {
      "cell_type": "code",
      "source": [
        "dfcenipa.shape"
      ],
      "metadata": {
        "colab": {
          "base_uri": "https://localhost:8080/"
        },
        "id": "-ouYUvMyWAHo",
        "outputId": "dbc30e9f-bd67-4bea-f10a-5101ee7c9fb3"
      },
      "execution_count": null,
      "outputs": [
        {
          "output_type": "execute_result",
          "data": {
            "text/plain": [
              "(6769, 22)"
            ]
          },
          "metadata": {},
          "execution_count": 7
        }
      ]
    },
    {
      "cell_type": "code",
      "source": [
        "dfalesp_cad.shape"
      ],
      "metadata": {
        "colab": {
          "base_uri": "https://localhost:8080/"
        },
        "id": "RKOORs3PWFgr",
        "outputId": "4687106b-2c8e-4a1c-ae9e-8dcf2b3c496f"
      },
      "execution_count": null,
      "outputs": [
        {
          "output_type": "execute_result",
          "data": {
            "text/plain": [
              "(93, 16)"
            ]
          },
          "metadata": {},
          "execution_count": 9
        }
      ]
    },
    {
      "cell_type": "code",
      "source": [
        "dfalesp_desp.shape"
      ],
      "metadata": {
        "colab": {
          "base_uri": "https://localhost:8080/"
        },
        "id": "wn2fHaniWIws",
        "outputId": "54c1cded-6d32-4f96-88e7-c1f47bce9f21"
      },
      "execution_count": null,
      "outputs": [
        {
          "output_type": "execute_result",
          "data": {
            "text/plain": [
              "(118417, 7)"
            ]
          },
          "metadata": {},
          "execution_count": 10
        }
      ]
    },
    {
      "cell_type": "markdown",
      "source": [
        "# 3. Conectando Mongo"
      ],
      "metadata": {
        "id": "MVfBIH8MVRJK"
      }
    },
    {
      "cell_type": "code",
      "source": [
        "# Enderenço do cluster\n",
        "uri = \"mongodb+srv://cluster0.2qynihy.mongodb.net/?authSource=%24external&authMechanism=MONGODB-X509&retryWrites=true&w=majority\"\n",
        "\n",
        "# Altenticando o Mongo\n",
        "client = MongoClient(\"mongodb+srv://cluster0.2qynihy.mongodb.net/?authSource=%24external&authMechanism=MONGODB-X509&retryWrites=true&w=majority\",\n",
        "                     tls=True, tlsCertificateKeyFile='/content/password_mongodb.pem')"
      ],
      "metadata": {
        "id": "pgpuwaMHVWeW"
      },
      "execution_count": null,
      "outputs": []
    },
    {
      "cell_type": "markdown",
      "source": [
        "# 4. Migrando os DataFrames para o Mongo"
      ],
      "metadata": {
        "id": "ZsqtmzyZVm1d"
      }
    },
    {
      "cell_type": "markdown",
      "source": [
        "## Dados do CENIPA"
      ],
      "metadata": {
        "id": "iZaZNLH8W6fF"
      }
    },
    {
      "cell_type": "code",
      "source": [
        "#Escolha do DataBase e Coleção\n",
        "dbcenipa = client['DataMigration']\n",
        "colecaocenipa = dbcenipa['cenipa']"
      ],
      "metadata": {
        "id": "pjkhlYjgVjUo"
      },
      "execution_count": null,
      "outputs": []
    },
    {
      "cell_type": "code",
      "source": [
        "#Enviar o DF para colecao selecionada no mongo\n",
        "df_dict = dfcenipa.to_dict(\"records\")\n",
        "\n",
        "colecaocenipa.insert_many(df_dict)"
      ],
      "metadata": {
        "colab": {
          "base_uri": "https://localhost:8080/"
        },
        "id": "nRe7rW9yWitB",
        "outputId": "a2eac0df-6aed-4011-d68f-3e36a0a2efe3"
      },
      "execution_count": null,
      "outputs": [
        {
          "output_type": "execute_result",
          "data": {
            "text/plain": [
              "<pymongo.results.InsertManyResult at 0x7f99cd792790>"
            ]
          },
          "metadata": {},
          "execution_count": 13
        }
      ]
    },
    {
      "cell_type": "code",
      "source": [
        "# Verificando a quantidade de documentos\n",
        "colecaocenipa.count_documents({})"
      ],
      "metadata": {
        "colab": {
          "base_uri": "https://localhost:8080/"
        },
        "id": "nX2Ungs2Wi1E",
        "outputId": "e316bfd9-5a4d-4c73-83dd-230809f81ad5"
      },
      "execution_count": null,
      "outputs": [
        {
          "output_type": "execute_result",
          "data": {
            "text/plain": [
              "6769"
            ]
          },
          "metadata": {},
          "execution_count": 14
        }
      ]
    },
    {
      "cell_type": "markdown",
      "source": [
        "## Dados Alesp cadastro"
      ],
      "metadata": {
        "id": "ANgz-0ZcXQtO"
      }
    },
    {
      "cell_type": "code",
      "source": [
        "#Escolha do DataBase e Coleção\n",
        "dbalesp_cad = client['DataMigration']\n",
        "colecaoalesp_cad = dbcenipa['alesp_cadastro']"
      ],
      "metadata": {
        "id": "0XozA58PWi3E"
      },
      "execution_count": null,
      "outputs": []
    },
    {
      "cell_type": "code",
      "source": [
        "#Enviar o DF para colecao selecionada no mongo\n",
        "df_dict = dfalesp_cad.to_dict(\"records\")\n",
        "\n",
        "colecaoalesp_cad.insert_many(df_dict)"
      ],
      "metadata": {
        "colab": {
          "base_uri": "https://localhost:8080/"
        },
        "id": "lftoRfoIWi5r",
        "outputId": "26e2c918-338b-4408-af37-9bfd4a4f33c3"
      },
      "execution_count": null,
      "outputs": [
        {
          "output_type": "execute_result",
          "data": {
            "text/plain": [
              "<pymongo.results.InsertManyResult at 0x7f99c90dd280>"
            ]
          },
          "metadata": {},
          "execution_count": 16
        }
      ]
    },
    {
      "cell_type": "code",
      "source": [
        "# Verificando a quantidade de documentos\n",
        "colecaoalesp_cad.count_documents({})"
      ],
      "metadata": {
        "colab": {
          "base_uri": "https://localhost:8080/"
        },
        "id": "TKt99fEmXXnL",
        "outputId": "3d1bcc5a-d66a-49a1-9159-39d8816be32e"
      },
      "execution_count": null,
      "outputs": [
        {
          "output_type": "execute_result",
          "data": {
            "text/plain": [
              "93"
            ]
          },
          "metadata": {},
          "execution_count": 17
        }
      ]
    },
    {
      "cell_type": "markdown",
      "source": [
        "## Dados Alesp Despesas"
      ],
      "metadata": {
        "id": "O5vo6QWRXy-z"
      }
    },
    {
      "cell_type": "code",
      "source": [
        "#Escolha do DataBase e Coleção\n",
        "dbalesp_desp = client['DataMigration']\n",
        "colecaoalesp_desp = dbcenipa['alesp_despesas']"
      ],
      "metadata": {
        "id": "H3B5LEF-X6h4"
      },
      "execution_count": null,
      "outputs": []
    },
    {
      "cell_type": "code",
      "source": [
        "#Enviar o DF para colecao selecionada no mongo\n",
        "df_dict = dfalesp_desp.to_dict(\"records\")\n",
        "\n",
        "colecaoalesp_desp.insert_many(df_dict)"
      ],
      "metadata": {
        "colab": {
          "base_uri": "https://localhost:8080/"
        },
        "id": "Hi4ZkqFuX7Tf",
        "outputId": "2c28ac28-d1fc-4d8b-d508-c80cd905f5e6"
      },
      "execution_count": null,
      "outputs": [
        {
          "output_type": "execute_result",
          "data": {
            "text/plain": [
              "<pymongo.results.InsertManyResult at 0x7f99cb345d00>"
            ]
          },
          "metadata": {},
          "execution_count": 19
        }
      ]
    },
    {
      "cell_type": "code",
      "source": [
        "# Verificando a quantidade de documentos\n",
        "colecaoalesp_desp.count_documents({})"
      ],
      "metadata": {
        "colab": {
          "base_uri": "https://localhost:8080/"
        },
        "id": "_YG-sy1IX-5S",
        "outputId": "f30e801b-f9fe-4875-9588-4d96150574c5"
      },
      "execution_count": null,
      "outputs": [
        {
          "output_type": "execute_result",
          "data": {
            "text/plain": [
              "118417"
            ]
          },
          "metadata": {},
          "execution_count": 20
        }
      ]
    }
  ]
}