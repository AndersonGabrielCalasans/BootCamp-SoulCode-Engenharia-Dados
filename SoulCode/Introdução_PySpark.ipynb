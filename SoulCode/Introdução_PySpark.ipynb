{
  "nbformat": 4,
  "nbformat_minor": 0,
  "metadata": {
    "colab": {
      "provenance": [],
      "toc_visible": true,
      "mount_file_id": "1GNFAKfOPOyKyRESj9wQTP4sI8Nb0G2fp",
      "authorship_tag": "ABX9TyNBEE8EWFDEG4dXsxGqo3HB",
      "include_colab_link": true
    },
    "kernelspec": {
      "name": "python3",
      "display_name": "Python 3"
    },
    "language_info": {
      "name": "python"
    }
  },
  "cells": [
    {
      "cell_type": "markdown",
      "metadata": {
        "id": "view-in-github",
        "colab_type": "text"
      },
      "source": [
        "<a href=\"https://colab.research.google.com/github/AndersonGabrielCalasans/BootCamp-SoulCode-Engenharia-Dados/blob/main/SoulCode/Introdu%C3%A7%C3%A3o_PySpark.ipynb\" target=\"_parent\"><img src=\"https://colab.research.google.com/assets/colab-badge.svg\" alt=\"Open In Colab\"/></a>"
      ]
    },
    {
      "cell_type": "markdown",
      "source": [
        "# Configurando ambiente e importando as bibliotecas"
      ],
      "metadata": {
        "id": "wl12SddgsSVC"
      }
    },
    {
      "cell_type": "code",
      "execution_count": null,
      "metadata": {
        "colab": {
          "base_uri": "https://localhost:8080/"
        },
        "id": "VcnpgJXI1BuM",
        "outputId": "df15b41d-259e-4f1a-93bd-f31cd645897b"
      },
      "outputs": [
        {
          "output_type": "stream",
          "name": "stdout",
          "text": [
            "Looking in indexes: https://pypi.org/simple, https://us-python.pkg.dev/colab-wheels/public/simple/\n",
            "Requirement already satisfied: pyspark in /usr/local/lib/python3.8/dist-packages (3.3.1)\n",
            "Requirement already satisfied: py4j==0.10.9.5 in /usr/local/lib/python3.8/dist-packages (from pyspark) (0.10.9.5)\n"
          ]
        }
      ],
      "source": [
        "# Instalação da biblioteca PySpark\n",
        "!pip install pyspark"
      ]
    },
    {
      "cell_type": "code",
      "source": [
        "# Importando a SparkSession\n",
        "from pyspark.sql import SparkSession\n",
        "\n",
        "# Import as functions\n",
        "import pyspark.sql.functions as F"
      ],
      "metadata": {
        "id": "2-2Ecr_I1u-t"
      },
      "execution_count": null,
      "outputs": []
    },
    {
      "cell_type": "code",
      "source": [
        "# Configurando a variável de ambiente (sessão) Spark \n",
        "spark = (SparkSession.builder\n",
        "                    .master('local')\n",
        "                    .appName('Intro-pyspark')\n",
        "                    .config('spark.ui.port', '4050')\n",
        "                    .getOrCreate()\n",
        ")\n",
        "\n",
        "# master: a máquina principal para execução\n",
        "# appname: nome da aplicação\n",
        "# config: porta local\n",
        "# getorcreate: retorna ou cria caso não exista"
      ],
      "metadata": {
        "id": "qKOqPYPc3eVk"
      },
      "execution_count": null,
      "outputs": []
    },
    {
      "cell_type": "code",
      "source": [
        "# Testando se iniciou a variável\n",
        "spark"
      ],
      "metadata": {
        "colab": {
          "base_uri": "https://localhost:8080/",
          "height": 219
        },
        "id": "uypYQ7LM48eR",
        "outputId": "73e54ba5-a18e-4845-824c-26653a2bbef3"
      },
      "execution_count": null,
      "outputs": [
        {
          "output_type": "execute_result",
          "data": {
            "text/plain": [
              "<pyspark.sql.session.SparkSession at 0x7f7e1c0656d0>"
            ],
            "text/html": [
              "\n",
              "            <div>\n",
              "                <p><b>SparkSession - in-memory</b></p>\n",
              "                \n",
              "        <div>\n",
              "            <p><b>SparkContext</b></p>\n",
              "\n",
              "            <p><a href=\"http://90e77399b57b:4050\">Spark UI</a></p>\n",
              "\n",
              "            <dl>\n",
              "              <dt>Version</dt>\n",
              "                <dd><code>v3.3.1</code></dd>\n",
              "              <dt>Master</dt>\n",
              "                <dd><code>local</code></dd>\n",
              "              <dt>AppName</dt>\n",
              "                <dd><code>Intro-pyspark</code></dd>\n",
              "            </dl>\n",
              "        </div>\n",
              "        \n",
              "            </div>\n",
              "        "
            ]
          },
          "metadata": {},
          "execution_count": 58
        }
      ]
    },
    {
      "cell_type": "markdown",
      "source": [
        "# Primeiros comandos com Spark"
      ],
      "metadata": {
        "id": "_XK_ZpVPsN3d"
      }
    },
    {
      "cell_type": "code",
      "source": [
        "# Como funciona os DataFrames no Spark\n",
        "schema = ['id', 'nome', 'cpf', 'celular']\n",
        "\n",
        "dados = [\n",
        "    (1, 'Anderson Gabriel', '999.999.999-99','(81)9.9999-9999'),\n",
        "    (2, 'Ligia Paula', '111.111.111-11','(81)9.1111-1111'),\n",
        "    (3, 'Tales Paulo', '222.222.222-22', '(82)9.8888-8888'),\n",
        "    (4, 'Maria das Gracas', '333.333.333-33', '(21)9.8585-8585')\n",
        "]\n",
        "\n",
        "# Gerando o DataFrame\n",
        "df = spark.createDataFrame(dados, schema)"
      ],
      "metadata": {
        "id": "CzffCpTg5Aq5"
      },
      "execution_count": null,
      "outputs": []
    },
    {
      "cell_type": "code",
      "source": [
        "# Mostrando o DataFrame\n",
        "df.show()"
      ],
      "metadata": {
        "colab": {
          "base_uri": "https://localhost:8080/"
        },
        "id": "6_Uu_FYN7BbP",
        "outputId": "135f9fc0-6191-45a9-d189-670751cc7440"
      },
      "execution_count": null,
      "outputs": [
        {
          "output_type": "stream",
          "name": "stdout",
          "text": [
            "+---+----------------+--------------+---------------+\n",
            "| id|            nome|           cpf|        celular|\n",
            "+---+----------------+--------------+---------------+\n",
            "|  1|Anderson Gabriel|999.999.999-99|(81)9.9999-9999|\n",
            "|  2|     Ligia Paula|111.111.111-11|(81)9.1111-1111|\n",
            "|  3|     Tales Paulo|222.222.222-22|(82)9.8888-8888|\n",
            "|  4|Maria das Gracas|333.333.333-33|(21)9.8585-8585|\n",
            "+---+----------------+--------------+---------------+\n",
            "\n"
          ]
        }
      ]
    },
    {
      "cell_type": "markdown",
      "source": [
        "No spark caso você não defina os tipos das variáveis, ele infere por si só."
      ],
      "metadata": {
        "id": "o3mX_D0i7eLS"
      }
    },
    {
      "cell_type": "code",
      "source": [
        "# Schema do DataFrame\n",
        "df.printSchema()"
      ],
      "metadata": {
        "colab": {
          "base_uri": "https://localhost:8080/"
        },
        "id": "g35RlCRT7JLv",
        "outputId": "6957a378-93bd-4ac1-e199-06a98086cd6b"
      },
      "execution_count": null,
      "outputs": [
        {
          "output_type": "stream",
          "name": "stdout",
          "text": [
            "root\n",
            " |-- id: long (nullable = true)\n",
            " |-- nome: string (nullable = true)\n",
            " |-- cpf: string (nullable = true)\n",
            " |-- celular: string (nullable = true)\n",
            "\n"
          ]
        }
      ]
    },
    {
      "cell_type": "code",
      "source": [
        "schema2 = 'id INT, nome STRING, cpf STRING, celular STRING, cidade STRING'\n",
        "\n",
        "dados2 = [\n",
        "    (1, 'Anderson Gabriel', '999.999.999-99','(81)9.9999-9999', 'Recife'),\n",
        "    (2, 'Ligia Paula', '111.111.111-11','(81)9.1111-1111', 'Jaboatao'),\n",
        "    (3, 'Tales Paulo', '222.222.222-22', '(82)9.8888-8888', 'Escada'),\n",
        "    (4, 'Maria das Gracas', '333.333.333-33', '(21)9.8585-8585','Escada')\n",
        "]\n",
        "\n",
        "# Gerando o DataFrame\n",
        "df2 = spark.createDataFrame(dados2, schema2)"
      ],
      "metadata": {
        "id": "G9LYRX4b7O7g"
      },
      "execution_count": null,
      "outputs": []
    },
    {
      "cell_type": "markdown",
      "source": [
        "Ao realizar a inferência do schema manualmente você ganha em relação ao processamento (pois o spark não necessita percorrer a coluna para verificar o tipo dos dados) e evita a tipagem errada dos mesmo."
      ],
      "metadata": {
        "id": "eyRQHfYn8YgR"
      }
    },
    {
      "cell_type": "code",
      "source": [
        "# Schema do DataFrame\n",
        "df2.printSchema()"
      ],
      "metadata": {
        "colab": {
          "base_uri": "https://localhost:8080/"
        },
        "id": "pxZ-ZoEi8Ev5",
        "outputId": "5f49f60a-4340-4304-c209-88ab18e677d9"
      },
      "execution_count": null,
      "outputs": [
        {
          "output_type": "stream",
          "name": "stdout",
          "text": [
            "root\n",
            " |-- id: integer (nullable = true)\n",
            " |-- nome: string (nullable = true)\n",
            " |-- cpf: string (nullable = true)\n",
            " |-- celular: string (nullable = true)\n",
            " |-- cidade: string (nullable = true)\n",
            "\n"
          ]
        }
      ]
    },
    {
      "cell_type": "code",
      "source": [
        "# verificar quantidade de linhas do DataFrame\n",
        "df2.count()"
      ],
      "metadata": {
        "colab": {
          "base_uri": "https://localhost:8080/"
        },
        "id": "V7O7wA4n8GV4",
        "outputId": "d15acee6-f0ea-48cd-d52a-f953809ef91e"
      },
      "execution_count": null,
      "outputs": [
        {
          "output_type": "execute_result",
          "data": {
            "text/plain": [
              "4"
            ]
          },
          "metadata": {},
          "execution_count": 64
        }
      ]
    },
    {
      "cell_type": "code",
      "source": [
        "# Visualizar colunas\n",
        "df2.columns"
      ],
      "metadata": {
        "colab": {
          "base_uri": "https://localhost:8080/"
        },
        "id": "ujmAJbr0-C8U",
        "outputId": "b8e318e8-445b-4dbf-a34c-df84faae2413"
      },
      "execution_count": null,
      "outputs": [
        {
          "output_type": "execute_result",
          "data": {
            "text/plain": [
              "['id', 'nome', 'cpf', 'celular', 'cidade']"
            ]
          },
          "metadata": {},
          "execution_count": 65
        }
      ]
    },
    {
      "cell_type": "markdown",
      "source": [
        "Os DataFrames são imutáveis. O comando SELECT não altera o DataFrame, apenas mostra em tempo de execução"
      ],
      "metadata": {
        "id": "PCAaPu9VGmXp"
      }
    },
    {
      "cell_type": "code",
      "source": [
        "# 1º transformação dos dados - SELECT\n",
        "df2.select('nome', 'cpf').show()"
      ],
      "metadata": {
        "colab": {
          "base_uri": "https://localhost:8080/"
        },
        "id": "JxkAx1xuFvpn",
        "outputId": "6b8d52ef-0681-40d3-99d5-cc57eb6180c4"
      },
      "execution_count": null,
      "outputs": [
        {
          "output_type": "stream",
          "name": "stdout",
          "text": [
            "+----------------+--------------+\n",
            "|            nome|           cpf|\n",
            "+----------------+--------------+\n",
            "|Anderson Gabriel|999.999.999-99|\n",
            "|     Ligia Paula|111.111.111-11|\n",
            "|     Tales Paulo|222.222.222-22|\n",
            "|Maria das Gracas|333.333.333-33|\n",
            "+----------------+--------------+\n",
            "\n"
          ]
        }
      ]
    },
    {
      "cell_type": "code",
      "source": [
        "# Outra forma de fazer SELECT (com F.col)\n",
        "df2.select(F.col('nome'), F.col('cpf')).show()"
      ],
      "metadata": {
        "colab": {
          "base_uri": "https://localhost:8080/"
        },
        "id": "9biStC13J5Ng",
        "outputId": "db540ea3-9c15-4d04-ef97-d6ea85023e9e"
      },
      "execution_count": null,
      "outputs": [
        {
          "output_type": "stream",
          "name": "stdout",
          "text": [
            "+----------------+--------------+\n",
            "|            nome|           cpf|\n",
            "+----------------+--------------+\n",
            "|Anderson Gabriel|999.999.999-99|\n",
            "|     Ligia Paula|111.111.111-11|\n",
            "|     Tales Paulo|222.222.222-22|\n",
            "|Maria das Gracas|333.333.333-33|\n",
            "+----------------+--------------+\n",
            "\n"
          ]
        }
      ]
    },
    {
      "cell_type": "code",
      "source": [
        "df2.show()"
      ],
      "metadata": {
        "colab": {
          "base_uri": "https://localhost:8080/"
        },
        "id": "ZrEnrbVgHfOo",
        "outputId": "6624324f-3c38-414f-81a0-378d7264aff8"
      },
      "execution_count": null,
      "outputs": [
        {
          "output_type": "stream",
          "name": "stdout",
          "text": [
            "+---+----------------+--------------+---------------+--------+\n",
            "| id|            nome|           cpf|        celular|  cidade|\n",
            "+---+----------------+--------------+---------------+--------+\n",
            "|  1|Anderson Gabriel|999.999.999-99|(81)9.9999-9999|  Recife|\n",
            "|  2|     Ligia Paula|111.111.111-11|(81)9.1111-1111|Jaboatao|\n",
            "|  3|     Tales Paulo|222.222.222-22|(82)9.8888-8888|  Escada|\n",
            "|  4|Maria das Gracas|333.333.333-33|(21)9.8585-8585|  Escada|\n",
            "+---+----------------+--------------+---------------+--------+\n",
            "\n"
          ]
        }
      ]
    },
    {
      "cell_type": "code",
      "source": [
        "# Salvando as alterações em um novo DF\n",
        "df4 = df2.select('nome', 'cpf')\n",
        "df4.show()"
      ],
      "metadata": {
        "colab": {
          "base_uri": "https://localhost:8080/"
        },
        "id": "Qp5qt9PPHTjh",
        "outputId": "d1d77c1b-3af2-4173-ad99-a98c61b13e60"
      },
      "execution_count": null,
      "outputs": [
        {
          "output_type": "stream",
          "name": "stdout",
          "text": [
            "+----------------+--------------+\n",
            "|            nome|           cpf|\n",
            "+----------------+--------------+\n",
            "|Anderson Gabriel|999.999.999-99|\n",
            "|     Ligia Paula|111.111.111-11|\n",
            "|     Tales Paulo|222.222.222-22|\n",
            "|Maria das Gracas|333.333.333-33|\n",
            "+----------------+--------------+\n",
            "\n"
          ]
        }
      ]
    },
    {
      "cell_type": "code",
      "source": [
        "# Verificando o tipo do objeto\n",
        "type(df4)"
      ],
      "metadata": {
        "colab": {
          "base_uri": "https://localhost:8080/"
        },
        "id": "_JMskjQWJxg-",
        "outputId": "ef9bd87c-a5c8-4304-fb5f-19602b0d6f36"
      },
      "execution_count": null,
      "outputs": [
        {
          "output_type": "execute_result",
          "data": {
            "text/plain": [
              "pyspark.sql.dataframe.DataFrame"
            ]
          },
          "metadata": {},
          "execution_count": 70
        }
      ]
    },
    {
      "cell_type": "code",
      "source": [
        "# Aplicando um filtro para apenas cidade = Escada\n",
        "df2.filter(F.col('cidade')=='Escada').show()"
      ],
      "metadata": {
        "colab": {
          "base_uri": "https://localhost:8080/"
        },
        "id": "W16OKU2OMa4z",
        "outputId": "054f91ec-05db-4fbb-f24a-8c0471c3d68e"
      },
      "execution_count": null,
      "outputs": [
        {
          "output_type": "stream",
          "name": "stdout",
          "text": [
            "+---+----------------+--------------+---------------+------+\n",
            "| id|            nome|           cpf|        celular|cidade|\n",
            "+---+----------------+--------------+---------------+------+\n",
            "|  3|     Tales Paulo|222.222.222-22|(82)9.8888-8888|Escada|\n",
            "|  4|Maria das Gracas|333.333.333-33|(21)9.8585-8585|Escada|\n",
            "+---+----------------+--------------+---------------+------+\n",
            "\n"
          ]
        }
      ]
    },
    {
      "cell_type": "code",
      "source": [
        "# Filtrando e mostrando apenas colunas nome e cpf onde cidade = Escada\n",
        "df2.select(F.col('nome'), F.col('cpf')).filter(F.col('cidade')=='Escada').show()"
      ],
      "metadata": {
        "colab": {
          "base_uri": "https://localhost:8080/"
        },
        "id": "K1weCM6tMvkp",
        "outputId": "8e8360d2-b008-4bc6-f5e3-3914d1dd1852"
      },
      "execution_count": null,
      "outputs": [
        {
          "output_type": "stream",
          "name": "stdout",
          "text": [
            "+----------------+--------------+\n",
            "|            nome|           cpf|\n",
            "+----------------+--------------+\n",
            "|     Tales Paulo|222.222.222-22|\n",
            "|Maria das Gracas|333.333.333-33|\n",
            "+----------------+--------------+\n",
            "\n"
          ]
        }
      ]
    },
    {
      "cell_type": "code",
      "source": [
        "# Filtrando e mostrando apenas colunas nome e cpf onde cidade = Escada ou Recife\n",
        "df2.select(F.col('nome'), F.col('cpf')).filter(\"cidade='Escada' or cidade='Recife'\").show()"
      ],
      "metadata": {
        "colab": {
          "base_uri": "https://localhost:8080/"
        },
        "id": "4W5h5uwTO1H3",
        "outputId": "e8ecac25-583d-4529-cb1c-c087048d2f9d"
      },
      "execution_count": null,
      "outputs": [
        {
          "output_type": "stream",
          "name": "stdout",
          "text": [
            "+----------------+--------------+\n",
            "|            nome|           cpf|\n",
            "+----------------+--------------+\n",
            "|Anderson Gabriel|999.999.999-99|\n",
            "|     Tales Paulo|222.222.222-22|\n",
            "|Maria das Gracas|333.333.333-33|\n",
            "+----------------+--------------+\n",
            "\n"
          ]
        }
      ]
    },
    {
      "cell_type": "code",
      "source": [
        "# Filtrando e mostrando apenas colunas nome e cpf onde cidade = Escada ou Recife (outra forma com | para 'or' e & para 'and')\n",
        "df2.select(F.col('nome'), F.col('cpf')).filter((F.col('cidade')=='Escada') | (F.col('cidade')=='Recife')).show()"
      ],
      "metadata": {
        "colab": {
          "base_uri": "https://localhost:8080/"
        },
        "id": "xZroQCoaPI1a",
        "outputId": "044574a1-cb5d-40ec-9b01-c0eb49891135"
      },
      "execution_count": null,
      "outputs": [
        {
          "output_type": "stream",
          "name": "stdout",
          "text": [
            "+----------------+--------------+\n",
            "|            nome|           cpf|\n",
            "+----------------+--------------+\n",
            "|Anderson Gabriel|999.999.999-99|\n",
            "|     Tales Paulo|222.222.222-22|\n",
            "|Maria das Gracas|333.333.333-33|\n",
            "+----------------+--------------+\n",
            "\n"
          ]
        }
      ]
    },
    {
      "cell_type": "code",
      "source": [
        "# Filtrando e mostrando apenas colunas nome e cpf onde cidade = Escada e nome = Tales Paulo (outra forma com | para 'or' e & para 'and')\n",
        "df2.select(F.col('nome'), F.col('cpf')).filter((F.col('cidade')=='Escada') & (F.col('nome')=='Tales Paulo')).show()"
      ],
      "metadata": {
        "colab": {
          "base_uri": "https://localhost:8080/"
        },
        "id": "tsfJLls-NTIh",
        "outputId": "91bc0739-eed7-491b-b577-7cadcf5fdf89"
      },
      "execution_count": null,
      "outputs": [
        {
          "output_type": "stream",
          "name": "stdout",
          "text": [
            "+-----------+--------------+\n",
            "|       nome|           cpf|\n",
            "+-----------+--------------+\n",
            "|Tales Paulo|222.222.222-22|\n",
            "+-----------+--------------+\n",
            "\n"
          ]
        }
      ]
    },
    {
      "cell_type": "markdown",
      "source": [
        "# Segundo dia de trabalho com Spark"
      ],
      "metadata": {
        "id": "DF-tsHL9sm8N"
      }
    },
    {
      "cell_type": "code",
      "source": [
        "# Trabalhando com DataFrames\n",
        "df = (\n",
        "    spark.read\n",
        "         .format('csv')\n",
        "         .option('header', 'true')\n",
        "         .option('inferschema', 'true')\n",
        "         .option('delimiter', ';')\n",
        "         .load('/content/drive/MyDrive/SoulCode/compras.csv')\n",
        ")"
      ],
      "metadata": {
        "id": "3GbZE5FKsqlR"
      },
      "execution_count": null,
      "outputs": []
    },
    {
      "cell_type": "code",
      "source": [
        "# Visualizando o Schema\n",
        "df.printSchema()"
      ],
      "metadata": {
        "colab": {
          "base_uri": "https://localhost:8080/"
        },
        "id": "iHVHpvikyUC5",
        "outputId": "5f4e42f1-e723-4332-9f7a-30aa695c6647"
      },
      "execution_count": null,
      "outputs": [
        {
          "output_type": "stream",
          "name": "stdout",
          "text": [
            "root\n",
            " |-- Username: string (nullable = true)\n",
            " |-- Nome: string (nullable = true)\n",
            " |-- Sexo: string (nullable = true)\n",
            " |-- Data_Nascimento: string (nullable = true)\n",
            " |-- Ocupação: string (nullable = true)\n",
            " |-- Assinatura: string (nullable = true)\n",
            " |-- Total_Gasto : double (nullable = true)\n",
            "\n"
          ]
        }
      ]
    },
    {
      "cell_type": "code",
      "source": [
        "# Visualizando os dados\n",
        "df.show(truncate=False)"
      ],
      "metadata": {
        "colab": {
          "base_uri": "https://localhost:8080/"
        },
        "id": "y1k_YvPzyjkS",
        "outputId": "5b8ee70c-e815-4fca-be52-cb1cf75dd3ea"
      },
      "execution_count": null,
      "outputs": [
        {
          "output_type": "stream",
          "name": "stdout",
          "text": [
            "+-------------+-------------------------+---------+---------------+-----------------------------------+----------+------------+\n",
            "|Username     |Nome                     |Sexo     |Data_Nascimento|Ocupação                           |Assinatura|Total_Gasto |\n",
            "+-------------+-------------------------+---------+---------------+-----------------------------------+----------+------------+\n",
            "|Neaude1978   |  Mr \\tbailey Glover     |masculino|01/12/1979     |Analista de Inteligência de Mercado|01/10/2021|1257.45     |\n",
            "|Maress39     |Mrs  \\t isabella   Fowler|feminino |04/08/1960     |Arquiteto de Dados                 |24/03/2020|771.99      |\n",
            "|Kehonell     | Mrs Chloe \\tKirby       |feminino |28/06/1949     |Analista de RH                     |07/06/2020|1021.77     |\n",
            "|Thimpay      | Mrs louise \\tClark      |feminino |07/01/1995     |Arquiteto de Dados                 |03/11/2020|234.76      |\n",
            "|Giall1985    |Mr Harrison \\t Bowen     |feminino |04/04/1987     |Engenheiro de Dados                |25/03/2020|628.07      |\n",
            "|Neave1959    |Mrs anna \\t     Sharp    |feminino |02/02/1970     |Engenheiro de Dados                |18/09/2020|140.04      |\n",
            "|Nicterims1993|  Mrs \\tDaisy Anderson   |masculino|05/07/1985     |Engenheiro de Dados                |29/01/2021|2417.81     |\n",
            "|Fouldlairity |Ms zoe \\tPeacock         |masculino|03/06/1964     |Analista Financeiro                |04/12/2020|51.95       |\n",
            "|Ancomettiody | Mrs Libby \\tWilliams    |feminino |04/09/1974     |Estatístico                        |21/11/2020|130.73      |\n",
            "|Onswis       |Ms Katie \\tMmtcalfe      |feminino |01/07/1983     |Engenheiro de Machine Learning     |27/02/2021|1778.72     |\n",
            "|Majeappre    |Mr Luca \\tVaughan        |feminino |03/01/1971     |Gerente de Tecnologia              |15/07/2022|1034.74     |\n",
            "|Theired      |Mr Henry \\tHaynes        |masculino|06/09/1951     |Analista de Inteligência de Mercado|23/12/2022|1320.04     |\n",
            "|Botter       |Mr Noah \\tWalton         |feminino |09/03/1991     |Web Designer                       |26/07/2022|3464.72     |\n",
            "+-------------+-------------------------+---------+---------------+-----------------------------------+----------+------------+\n",
            "\n"
          ]
        }
      ]
    },
    {
      "cell_type": "code",
      "source": [
        "# Verificando o tamanho do DataFrame\n",
        "df.count()"
      ],
      "metadata": {
        "colab": {
          "base_uri": "https://localhost:8080/"
        },
        "id": "Blo_vbry0JUe",
        "outputId": "35fb4c66-2b29-41ce-8f6c-ec2f2cd924b8"
      },
      "execution_count": null,
      "outputs": [
        {
          "output_type": "execute_result",
          "data": {
            "text/plain": [
              "13"
            ]
          },
          "metadata": {},
          "execution_count": 79
        }
      ]
    },
    {
      "cell_type": "code",
      "source": [
        "# Mostrar apenas o username, sexo, ocupação e total_gasto\n",
        "df.select('Username', 'Sexo', 'Ocupação', 'Total_Gasto ').show()"
      ],
      "metadata": {
        "colab": {
          "base_uri": "https://localhost:8080/"
        },
        "id": "vI4MtlMI0YQ-",
        "outputId": "be675a7d-413e-4d6d-8777-933ae4d6650b"
      },
      "execution_count": null,
      "outputs": [
        {
          "output_type": "stream",
          "name": "stdout",
          "text": [
            "+-------------+---------+--------------------+------------+\n",
            "|     Username|     Sexo|            Ocupação|Total_Gasto |\n",
            "+-------------+---------+--------------------+------------+\n",
            "|   Neaude1978|masculino|Analista de Intel...|     1257.45|\n",
            "|     Maress39| feminino|  Arquiteto de Dados|      771.99|\n",
            "|     Kehonell| feminino|      Analista de RH|     1021.77|\n",
            "|      Thimpay| feminino|  Arquiteto de Dados|      234.76|\n",
            "|    Giall1985| feminino| Engenheiro de Dados|      628.07|\n",
            "|    Neave1959| feminino| Engenheiro de Dados|      140.04|\n",
            "|Nicterims1993|masculino| Engenheiro de Dados|     2417.81|\n",
            "| Fouldlairity|masculino| Analista Financeiro|       51.95|\n",
            "| Ancomettiody| feminino|         Estatístico|      130.73|\n",
            "|       Onswis| feminino|Engenheiro de Mac...|     1778.72|\n",
            "|    Majeappre| feminino|Gerente de Tecnol...|     1034.74|\n",
            "|      Theired|masculino|Analista de Intel...|     1320.04|\n",
            "|       Botter| feminino|        Web Designer|     3464.72|\n",
            "+-------------+---------+--------------------+------------+\n",
            "\n"
          ]
        }
      ]
    },
    {
      "cell_type": "code",
      "source": [
        "# Mostrar apenas Username, Sexo, Ocupação e total gasto quando o total é maior que 1000\n",
        "df.select('Username', 'Sexo', 'Ocupação', 'Total_Gasto ').filter(F.col('Total_Gasto ') > 1000).show()"
      ],
      "metadata": {
        "colab": {
          "base_uri": "https://localhost:8080/"
        },
        "id": "DyKixdz42mDf",
        "outputId": "1da8ea05-45f8-4c4e-ec83-017270157d1a"
      },
      "execution_count": null,
      "outputs": [
        {
          "output_type": "stream",
          "name": "stdout",
          "text": [
            "+-------------+---------+--------------------+------------+\n",
            "|     Username|     Sexo|            Ocupação|Total_Gasto |\n",
            "+-------------+---------+--------------------+------------+\n",
            "|   Neaude1978|masculino|Analista de Intel...|     1257.45|\n",
            "|     Kehonell| feminino|      Analista de RH|     1021.77|\n",
            "|Nicterims1993|masculino| Engenheiro de Dados|     2417.81|\n",
            "|       Onswis| feminino|Engenheiro de Mac...|     1778.72|\n",
            "|    Majeappre| feminino|Gerente de Tecnol...|     1034.74|\n",
            "|      Theired|masculino|Analista de Intel...|     1320.04|\n",
            "|       Botter| feminino|        Web Designer|     3464.72|\n",
            "+-------------+---------+--------------------+------------+\n",
            "\n"
          ]
        }
      ]
    },
    {
      "cell_type": "code",
      "source": [
        "# Mostrar apenas Username, Sexo, Ocupação e total gasto quando o total é maior que 1000 e menor que 2000\n",
        "df2 = (df.select('Username', 'Sexo', 'Ocupação', 'Total_Gasto ')\n",
        "        .filter((F.col('Total_Gasto ') > 1000) & (F.col('Total_Gasto ') < 2000))\n",
        "        )\n",
        "df2.show(truncate=False)"
      ],
      "metadata": {
        "colab": {
          "base_uri": "https://localhost:8080/"
        },
        "id": "hsKsrJ6Y28Bc",
        "outputId": "4bb537a0-f166-4f78-d9ef-4de5d788b494"
      },
      "execution_count": null,
      "outputs": [
        {
          "output_type": "stream",
          "name": "stdout",
          "text": [
            "+----------+---------+-----------------------------------+------------+\n",
            "|Username  |Sexo     |Ocupação                           |Total_Gasto |\n",
            "+----------+---------+-----------------------------------+------------+\n",
            "|Neaude1978|masculino|Analista de Inteligência de Mercado|1257.45     |\n",
            "|Kehonell  |feminino |Analista de RH                     |1021.77     |\n",
            "|Onswis    |feminino |Engenheiro de Machine Learning     |1778.72     |\n",
            "|Majeappre |feminino |Gerente de Tecnologia              |1034.74     |\n",
            "|Theired   |masculino|Analista de Inteligência de Mercado|1320.04     |\n",
            "+----------+---------+-----------------------------------+------------+\n",
            "\n"
          ]
        }
      ]
    },
    {
      "cell_type": "code",
      "source": [
        "# Outra forma de usar filtro (WHERE)\n",
        "df.where(F.col('Total_Gasto ') > 1000).show()"
      ],
      "metadata": {
        "colab": {
          "base_uri": "https://localhost:8080/"
        },
        "id": "mPaOuVGq84cz",
        "outputId": "5fad62b0-18e7-4795-c784-26cb57abc0c2"
      },
      "execution_count": null,
      "outputs": [
        {
          "output_type": "stream",
          "name": "stdout",
          "text": [
            "+-------------+--------------------+---------+---------------+--------------------+----------+------------+\n",
            "|     Username|                Nome|     Sexo|Data_Nascimento|            Ocupação|Assinatura|Total_Gasto |\n",
            "+-------------+--------------------+---------+---------------+--------------------+----------+------------+\n",
            "|   Neaude1978|  Mr \\tbailey Glo...|masculino|     01/12/1979|Analista de Intel...|01/10/2021|     1257.45|\n",
            "|     Kehonell| Mrs Chloe \\tKirby  | feminino|     28/06/1949|      Analista de RH|07/06/2020|     1021.77|\n",
            "|Nicterims1993|  Mrs \\tDaisy And...|masculino|     05/07/1985| Engenheiro de Dados|29/01/2021|     2417.81|\n",
            "|       Onswis| Ms Katie \\tMmtcalfe| feminino|     01/07/1983|Engenheiro de Mac...|27/02/2021|     1778.72|\n",
            "|    Majeappre|   Mr Luca \\tVaughan| feminino|     03/01/1971|Gerente de Tecnol...|15/07/2022|     1034.74|\n",
            "|      Theired|   Mr Henry \\tHaynes|masculino|     06/09/1951|Analista de Intel...|23/12/2022|     1320.04|\n",
            "|       Botter|    Mr Noah \\tWalton| feminino|     09/03/1991|        Web Designer|26/07/2022|     3464.72|\n",
            "+-------------+--------------------+---------+---------------+--------------------+----------+------------+\n",
            "\n"
          ]
        }
      ]
    },
    {
      "cell_type": "code",
      "source": [
        "# Renomeando nome das colunas\n",
        "df2 = (df\n",
        "       .withColumnRenamed('Username', 'username')\n",
        "       .withColumnRenamed('Nome', 'nome')\n",
        "       .withColumnRenamed('Sexo', 'sexo')\n",
        "       .withColumnRenamed('Data_Nascimento', 'data_nasc')\n",
        "       .withColumnRenamed('Ocupação', 'ocupacao')\n",
        "       .withColumnRenamed('Assinatura', 'assinatura')\n",
        "       .withColumnRenamed('Total_Gasto ', 'total_gasto')\n",
        ")"
      ],
      "metadata": {
        "id": "BxzQ0Gx79rNY"
      },
      "execution_count": null,
      "outputs": []
    },
    {
      "cell_type": "code",
      "source": [
        "df2.show(truncate=False)"
      ],
      "metadata": {
        "colab": {
          "base_uri": "https://localhost:8080/"
        },
        "id": "7U-iyfJu-2FA",
        "outputId": "70768af8-8cb1-45a5-83bc-5d709c796cd6"
      },
      "execution_count": null,
      "outputs": [
        {
          "output_type": "stream",
          "name": "stdout",
          "text": [
            "+-------------+-------------------------+---------+----------+-----------------------------------+----------+-----------+\n",
            "|username     |nome                     |sexo     |data_nasc |ocupacao                           |assinatura|total_gasto|\n",
            "+-------------+-------------------------+---------+----------+-----------------------------------+----------+-----------+\n",
            "|Neaude1978   |  Mr \\tbailey Glover     |masculino|01/12/1979|Analista de Inteligência de Mercado|01/10/2021|1257.45    |\n",
            "|Maress39     |Mrs  \\t isabella   Fowler|feminino |04/08/1960|Arquiteto de Dados                 |24/03/2020|771.99     |\n",
            "|Kehonell     | Mrs Chloe \\tKirby       |feminino |28/06/1949|Analista de RH                     |07/06/2020|1021.77    |\n",
            "|Thimpay      | Mrs louise \\tClark      |feminino |07/01/1995|Arquiteto de Dados                 |03/11/2020|234.76     |\n",
            "|Giall1985    |Mr Harrison \\t Bowen     |feminino |04/04/1987|Engenheiro de Dados                |25/03/2020|628.07     |\n",
            "|Neave1959    |Mrs anna \\t     Sharp    |feminino |02/02/1970|Engenheiro de Dados                |18/09/2020|140.04     |\n",
            "|Nicterims1993|  Mrs \\tDaisy Anderson   |masculino|05/07/1985|Engenheiro de Dados                |29/01/2021|2417.81    |\n",
            "|Fouldlairity |Ms zoe \\tPeacock         |masculino|03/06/1964|Analista Financeiro                |04/12/2020|51.95      |\n",
            "|Ancomettiody | Mrs Libby \\tWilliams    |feminino |04/09/1974|Estatístico                        |21/11/2020|130.73     |\n",
            "|Onswis       |Ms Katie \\tMmtcalfe      |feminino |01/07/1983|Engenheiro de Machine Learning     |27/02/2021|1778.72    |\n",
            "|Majeappre    |Mr Luca \\tVaughan        |feminino |03/01/1971|Gerente de Tecnologia              |15/07/2022|1034.74    |\n",
            "|Theired      |Mr Henry \\tHaynes        |masculino|06/09/1951|Analista de Inteligência de Mercado|23/12/2022|1320.04    |\n",
            "|Botter       |Mr Noah \\tWalton         |feminino |09/03/1991|Web Designer                       |26/07/2022|3464.72    |\n",
            "+-------------+-------------------------+---------+----------+-----------------------------------+----------+-----------+\n",
            "\n"
          ]
        }
      ]
    },
    {
      "cell_type": "code",
      "source": [
        "# FILTRAR POR OCUPAÇÃO QUE COMECE COM 'Analista'\n",
        "df2.filter('ocupacao like \"Analista%\"').show(truncate=False)"
      ],
      "metadata": {
        "colab": {
          "base_uri": "https://localhost:8080/"
        },
        "id": "eL6vkqVC9JI_",
        "outputId": "98452b81-41d5-4c01-94ab-9be6697ad3ae"
      },
      "execution_count": null,
      "outputs": [
        {
          "output_type": "stream",
          "name": "stdout",
          "text": [
            "+------------+----------------------+---------+----------+-----------------------------------+----------+-----------+\n",
            "|username    |nome                  |sexo     |data_nasc |ocupacao                           |assinatura|total_gasto|\n",
            "+------------+----------------------+---------+----------+-----------------------------------+----------+-----------+\n",
            "|Neaude1978  |  Mr \\tbailey Glover  |masculino|01/12/1979|Analista de Inteligência de Mercado|01/10/2021|1257.45    |\n",
            "|Kehonell    | Mrs Chloe \\tKirby    |feminino |28/06/1949|Analista de RH                     |07/06/2020|1021.77    |\n",
            "|Fouldlairity|Ms zoe \\tPeacock      |masculino|03/06/1964|Analista Financeiro                |04/12/2020|51.95      |\n",
            "|Theired     |Mr Henry \\tHaynes     |masculino|06/09/1951|Analista de Inteligência de Mercado|23/12/2022|1320.04    |\n",
            "+------------+----------------------+---------+----------+-----------------------------------+----------+-----------+\n",
            "\n"
          ]
        }
      ]
    },
    {
      "cell_type": "code",
      "source": [
        "df2.filter(F.col('ocupacao').like('Analista%')).show(truncate=False)"
      ],
      "metadata": {
        "colab": {
          "base_uri": "https://localhost:8080/"
        },
        "id": "eeDoRV_3BlHE",
        "outputId": "9c381151-b56b-44fd-e03d-f401f8153d52"
      },
      "execution_count": null,
      "outputs": [
        {
          "output_type": "stream",
          "name": "stdout",
          "text": [
            "+------------+----------------------+---------+----------+-----------------------------------+----------+-----------+\n",
            "|username    |nome                  |sexo     |data_nasc |ocupacao                           |assinatura|total_gasto|\n",
            "+------------+----------------------+---------+----------+-----------------------------------+----------+-----------+\n",
            "|Neaude1978  |  Mr \\tbailey Glover  |masculino|01/12/1979|Analista de Inteligência de Mercado|01/10/2021|1257.45    |\n",
            "|Kehonell    | Mrs Chloe \\tKirby    |feminino |28/06/1949|Analista de RH                     |07/06/2020|1021.77    |\n",
            "|Fouldlairity|Ms zoe \\tPeacock      |masculino|03/06/1964|Analista Financeiro                |04/12/2020|51.95      |\n",
            "|Theired     |Mr Henry \\tHaynes     |masculino|06/09/1951|Analista de Inteligência de Mercado|23/12/2022|1320.04    |\n",
            "+------------+----------------------+---------+----------+-----------------------------------+----------+-----------+\n",
            "\n"
          ]
        }
      ]
    },
    {
      "cell_type": "code",
      "source": [
        "# FILTRAR POR OCUPAÇÃO QUE COMECE COM 'Analista'\n",
        "df2.filter(F.col('ocupacao').startswith('Analista')).show(truncate=False)"
      ],
      "metadata": {
        "colab": {
          "base_uri": "https://localhost:8080/"
        },
        "id": "98J_Quox_HHV",
        "outputId": "ebac946d-c593-42ac-ae72-0e6ba1b508f2"
      },
      "execution_count": null,
      "outputs": [
        {
          "output_type": "stream",
          "name": "stdout",
          "text": [
            "+------------+----------------------+---------+----------+-----------------------------------+----------+-----------+\n",
            "|username    |nome                  |sexo     |data_nasc |ocupacao                           |assinatura|total_gasto|\n",
            "+------------+----------------------+---------+----------+-----------------------------------+----------+-----------+\n",
            "|Neaude1978  |  Mr \\tbailey Glover  |masculino|01/12/1979|Analista de Inteligência de Mercado|01/10/2021|1257.45    |\n",
            "|Kehonell    | Mrs Chloe \\tKirby    |feminino |28/06/1949|Analista de RH                     |07/06/2020|1021.77    |\n",
            "|Fouldlairity|Ms zoe \\tPeacock      |masculino|03/06/1964|Analista Financeiro                |04/12/2020|51.95      |\n",
            "|Theired     |Mr Henry \\tHaynes     |masculino|06/09/1951|Analista de Inteligência de Mercado|23/12/2022|1320.04    |\n",
            "+------------+----------------------+---------+----------+-----------------------------------+----------+-----------+\n",
            "\n"
          ]
        }
      ]
    },
    {
      "cell_type": "code",
      "source": [
        "#BUSCA POR OCUPAÇÃO QUE TERMINE COM A PALAVRA Mercado\n",
        "df2.filter(F.col('ocupacao').endswith('Mercado')).show(truncate=False)"
      ],
      "metadata": {
        "colab": {
          "base_uri": "https://localhost:8080/"
        },
        "id": "2h7ncLATBUJB",
        "outputId": "107a4ad3-ea26-4a58-d1ef-8304e5a186ba"
      },
      "execution_count": null,
      "outputs": [
        {
          "output_type": "stream",
          "name": "stdout",
          "text": [
            "+----------+----------------------+---------+----------+-----------------------------------+----------+-----------+\n",
            "|username  |nome                  |sexo     |data_nasc |ocupacao                           |assinatura|total_gasto|\n",
            "+----------+----------------------+---------+----------+-----------------------------------+----------+-----------+\n",
            "|Neaude1978|  Mr \\tbailey Glover  |masculino|01/12/1979|Analista de Inteligência de Mercado|01/10/2021|1257.45    |\n",
            "|Theired   |Mr Henry \\tHaynes     |masculino|06/09/1951|Analista de Inteligência de Mercado|23/12/2022|1320.04    |\n",
            "+----------+----------------------+---------+----------+-----------------------------------+----------+-----------+\n",
            "\n"
          ]
        }
      ]
    },
    {
      "cell_type": "code",
      "source": [
        "#BUSCA POR OCUPAÇÃO QUE TENHA A PALAVRA Inteligência\n",
        "df2.filter(F.col('ocupacao').contains('Inteligência')).show()"
      ],
      "metadata": {
        "colab": {
          "base_uri": "https://localhost:8080/"
        },
        "id": "9pCFIsdIBW2R",
        "outputId": "ad862acc-797f-410e-c42f-35f220d4a420"
      },
      "execution_count": null,
      "outputs": [
        {
          "output_type": "stream",
          "name": "stdout",
          "text": [
            "+----------+--------------------+---------+----------+--------------------+----------+-----------+\n",
            "|  username|                nome|     sexo| data_nasc|            ocupacao|assinatura|total_gasto|\n",
            "+----------+--------------------+---------+----------+--------------------+----------+-----------+\n",
            "|Neaude1978|  Mr \\tbailey Glo...|masculino|01/12/1979|Analista de Intel...|01/10/2021|    1257.45|\n",
            "|   Theired|   Mr Henry \\tHaynes|masculino|06/09/1951|Analista de Intel...|23/12/2022|    1320.04|\n",
            "+----------+--------------------+---------+----------+--------------------+----------+-----------+\n",
            "\n"
          ]
        }
      ]
    },
    {
      "cell_type": "code",
      "source": [
        "#Criar uma nova coluna contendo 10% de desconto sobre o valor total gasto\n",
        "df3 = df2.withColumn('desconto', F.round((F.col('total_gasto')*0.1),2))\n",
        "df3.show()"
      ],
      "metadata": {
        "colab": {
          "base_uri": "https://localhost:8080/"
        },
        "id": "uLrpGq-ABetI",
        "outputId": "348950bd-b24a-489f-83d1-e85ec5f264cf"
      },
      "execution_count": null,
      "outputs": [
        {
          "output_type": "stream",
          "name": "stdout",
          "text": [
            "+-------------+--------------------+---------+----------+--------------------+----------+-----------+--------+\n",
            "|     username|                nome|     sexo| data_nasc|            ocupacao|assinatura|total_gasto|desconto|\n",
            "+-------------+--------------------+---------+----------+--------------------+----------+-----------+--------+\n",
            "|   Neaude1978|  Mr \\tbailey Glo...|masculino|01/12/1979|Analista de Intel...|01/10/2021|    1257.45|  125.75|\n",
            "|     Maress39|Mrs  \\t isabella ...| feminino|04/08/1960|  Arquiteto de Dados|24/03/2020|     771.99|    77.2|\n",
            "|     Kehonell| Mrs Chloe \\tKirby  | feminino|28/06/1949|      Analista de RH|07/06/2020|    1021.77|  102.18|\n",
            "|      Thimpay| Mrs louise \\tCla...| feminino|07/01/1995|  Arquiteto de Dados|03/11/2020|     234.76|   23.48|\n",
            "|    Giall1985|Mr Harrison \\t Bowen| feminino|04/04/1987| Engenheiro de Dados|25/03/2020|     628.07|   62.81|\n",
            "|    Neave1959|Mrs anna \\t     S...| feminino|02/02/1970| Engenheiro de Dados|18/09/2020|     140.04|    14.0|\n",
            "|Nicterims1993|  Mrs \\tDaisy And...|masculino|05/07/1985| Engenheiro de Dados|29/01/2021|    2417.81|  241.78|\n",
            "| Fouldlairity|    Ms zoe \\tPeacock|masculino|03/06/1964| Analista Financeiro|04/12/2020|      51.95|     5.2|\n",
            "| Ancomettiody| Mrs Libby \\tWill...| feminino|04/09/1974|         Estatístico|21/11/2020|     130.73|   13.07|\n",
            "|       Onswis| Ms Katie \\tMmtcalfe| feminino|01/07/1983|Engenheiro de Mac...|27/02/2021|    1778.72|  177.87|\n",
            "|    Majeappre|   Mr Luca \\tVaughan| feminino|03/01/1971|Gerente de Tecnol...|15/07/2022|    1034.74|  103.47|\n",
            "|      Theired|   Mr Henry \\tHaynes|masculino|06/09/1951|Analista de Intel...|23/12/2022|    1320.04|   132.0|\n",
            "|       Botter|    Mr Noah \\tWalton| feminino|09/03/1991|        Web Designer|26/07/2022|    3464.72|  346.47|\n",
            "+-------------+--------------------+---------+----------+--------------------+----------+-----------+--------+\n",
            "\n"
          ]
        }
      ]
    },
    {
      "cell_type": "code",
      "source": [
        "#Criar uma nova coluna contendo o valor total gasto - o desconto\n",
        "df3 = df3.withColumn('valor_final', F.round(F.col('total_gasto')-F.col('desconto'), 2))\n",
        "df3.show()"
      ],
      "metadata": {
        "colab": {
          "base_uri": "https://localhost:8080/"
        },
        "id": "Qzt_rPZHDIeB",
        "outputId": "f8ae9820-cea4-4266-a46b-6dcb7d0ec7b0"
      },
      "execution_count": null,
      "outputs": [
        {
          "output_type": "stream",
          "name": "stdout",
          "text": [
            "+-------------+--------------------+---------+----------+--------------------+----------+-----------+--------+-----------+\n",
            "|     username|                nome|     sexo| data_nasc|            ocupacao|assinatura|total_gasto|desconto|valor_final|\n",
            "+-------------+--------------------+---------+----------+--------------------+----------+-----------+--------+-----------+\n",
            "|   Neaude1978|  Mr \\tbailey Glo...|masculino|01/12/1979|Analista de Intel...|01/10/2021|    1257.45|  125.75|     1131.7|\n",
            "|     Maress39|Mrs  \\t isabella ...| feminino|04/08/1960|  Arquiteto de Dados|24/03/2020|     771.99|    77.2|     694.79|\n",
            "|     Kehonell| Mrs Chloe \\tKirby  | feminino|28/06/1949|      Analista de RH|07/06/2020|    1021.77|  102.18|     919.59|\n",
            "|      Thimpay| Mrs louise \\tCla...| feminino|07/01/1995|  Arquiteto de Dados|03/11/2020|     234.76|   23.48|     211.28|\n",
            "|    Giall1985|Mr Harrison \\t Bowen| feminino|04/04/1987| Engenheiro de Dados|25/03/2020|     628.07|   62.81|     565.26|\n",
            "|    Neave1959|Mrs anna \\t     S...| feminino|02/02/1970| Engenheiro de Dados|18/09/2020|     140.04|    14.0|     126.04|\n",
            "|Nicterims1993|  Mrs \\tDaisy And...|masculino|05/07/1985| Engenheiro de Dados|29/01/2021|    2417.81|  241.78|    2176.03|\n",
            "| Fouldlairity|    Ms zoe \\tPeacock|masculino|03/06/1964| Analista Financeiro|04/12/2020|      51.95|     5.2|      46.75|\n",
            "| Ancomettiody| Mrs Libby \\tWill...| feminino|04/09/1974|         Estatístico|21/11/2020|     130.73|   13.07|     117.66|\n",
            "|       Onswis| Ms Katie \\tMmtcalfe| feminino|01/07/1983|Engenheiro de Mac...|27/02/2021|    1778.72|  177.87|    1600.85|\n",
            "|    Majeappre|   Mr Luca \\tVaughan| feminino|03/01/1971|Gerente de Tecnol...|15/07/2022|    1034.74|  103.47|     931.27|\n",
            "|      Theired|   Mr Henry \\tHaynes|masculino|06/09/1951|Analista de Intel...|23/12/2022|    1320.04|   132.0|    1188.04|\n",
            "|       Botter|    Mr Noah \\tWalton| feminino|09/03/1991|        Web Designer|26/07/2022|    3464.72|  346.47|    3118.25|\n",
            "+-------------+--------------------+---------+----------+--------------------+----------+-----------+--------+-----------+\n",
            "\n"
          ]
        }
      ]
    },
    {
      "cell_type": "code",
      "source": [
        "#Criar uma nova coluna contendo o valor total - 10% de desconto sobre o valor total gasto"
      ],
      "metadata": {
        "id": "xMrpdnEaDKnv"
      },
      "execution_count": null,
      "outputs": []
    },
    {
      "cell_type": "code",
      "source": [
        "df4 = df2.withColumn('valor_com_desc', F.round((F.col('total_gasto')*0.9),2))\n",
        "df4.show()"
      ],
      "metadata": {
        "colab": {
          "base_uri": "https://localhost:8080/"
        },
        "id": "i-YNfpkxDMTn",
        "outputId": "561b991c-773a-4b5a-a49d-d396f42347b2"
      },
      "execution_count": null,
      "outputs": [
        {
          "output_type": "stream",
          "name": "stdout",
          "text": [
            "+-------------+--------------------+---------+----------+--------------------+----------+-----------+--------------+\n",
            "|     username|                nome|     sexo| data_nasc|            ocupacao|assinatura|total_gasto|valor_com_desc|\n",
            "+-------------+--------------------+---------+----------+--------------------+----------+-----------+--------------+\n",
            "|   Neaude1978|  Mr \\tbailey Glo...|masculino|01/12/1979|Analista de Intel...|01/10/2021|    1257.45|       1131.71|\n",
            "|     Maress39|Mrs  \\t isabella ...| feminino|04/08/1960|  Arquiteto de Dados|24/03/2020|     771.99|        694.79|\n",
            "|     Kehonell| Mrs Chloe \\tKirby  | feminino|28/06/1949|      Analista de RH|07/06/2020|    1021.77|        919.59|\n",
            "|      Thimpay| Mrs louise \\tCla...| feminino|07/01/1995|  Arquiteto de Dados|03/11/2020|     234.76|        211.28|\n",
            "|    Giall1985|Mr Harrison \\t Bowen| feminino|04/04/1987| Engenheiro de Dados|25/03/2020|     628.07|        565.26|\n",
            "|    Neave1959|Mrs anna \\t     S...| feminino|02/02/1970| Engenheiro de Dados|18/09/2020|     140.04|        126.04|\n",
            "|Nicterims1993|  Mrs \\tDaisy And...|masculino|05/07/1985| Engenheiro de Dados|29/01/2021|    2417.81|       2176.03|\n",
            "| Fouldlairity|    Ms zoe \\tPeacock|masculino|03/06/1964| Analista Financeiro|04/12/2020|      51.95|         46.76|\n",
            "| Ancomettiody| Mrs Libby \\tWill...| feminino|04/09/1974|         Estatístico|21/11/2020|     130.73|        117.66|\n",
            "|       Onswis| Ms Katie \\tMmtcalfe| feminino|01/07/1983|Engenheiro de Mac...|27/02/2021|    1778.72|       1600.85|\n",
            "|    Majeappre|   Mr Luca \\tVaughan| feminino|03/01/1971|Gerente de Tecnol...|15/07/2022|    1034.74|        931.27|\n",
            "|      Theired|   Mr Henry \\tHaynes|masculino|06/09/1951|Analista de Intel...|23/12/2022|    1320.04|       1188.04|\n",
            "|       Botter|    Mr Noah \\tWalton| feminino|09/03/1991|        Web Designer|26/07/2022|    3464.72|       3118.25|\n",
            "+-------------+--------------------+---------+----------+--------------------+----------+-----------+--------------+\n",
            "\n"
          ]
        }
      ]
    },
    {
      "cell_type": "code",
      "source": [
        "#Retornar todas as ocupações existentes \n",
        "df4.select('ocupacao').distinct().show(truncate = False)"
      ],
      "metadata": {
        "colab": {
          "base_uri": "https://localhost:8080/"
        },
        "id": "e8ndpdhvkaT0",
        "outputId": "f985313a-bcf6-44e4-d5fd-15cbaf2bdad3"
      },
      "execution_count": null,
      "outputs": [
        {
          "output_type": "stream",
          "name": "stdout",
          "text": [
            "+-----------------------------------+\n",
            "|ocupacao                           |\n",
            "+-----------------------------------+\n",
            "|Engenheiro de Machine Learning     |\n",
            "|Arquiteto de Dados                 |\n",
            "|Estatístico                        |\n",
            "|Analista de RH                     |\n",
            "|Engenheiro de Dados                |\n",
            "|Analista Financeiro                |\n",
            "|Gerente de Tecnologia              |\n",
            "|Web Designer                       |\n",
            "|Analista de Inteligência de Mercado|\n",
            "+-----------------------------------+\n",
            "\n"
          ]
        }
      ]
    },
    {
      "cell_type": "code",
      "source": [
        "# retornar usuario, data_nasc e ocupacao, ordenado pelo usuário em ordem crescente (A-Z)\n",
        "df4.select('username','data_nasc','ocupacao').orderBy(F.col('username')).show()"
      ],
      "metadata": {
        "colab": {
          "base_uri": "https://localhost:8080/"
        },
        "id": "0u4VCzsSkiMO",
        "outputId": "d9555695-5f7d-4f3d-de64-6cc75f530e0f"
      },
      "execution_count": null,
      "outputs": [
        {
          "output_type": "stream",
          "name": "stdout",
          "text": [
            "+-------------+----------+--------------------+\n",
            "|     username| data_nasc|            ocupacao|\n",
            "+-------------+----------+--------------------+\n",
            "| Ancomettiody|04/09/1974|         Estatístico|\n",
            "|       Botter|09/03/1991|        Web Designer|\n",
            "| Fouldlairity|03/06/1964| Analista Financeiro|\n",
            "|    Giall1985|04/04/1987| Engenheiro de Dados|\n",
            "|     Kehonell|28/06/1949|      Analista de RH|\n",
            "|    Majeappre|03/01/1971|Gerente de Tecnol...|\n",
            "|     Maress39|04/08/1960|  Arquiteto de Dados|\n",
            "|   Neaude1978|01/12/1979|Analista de Intel...|\n",
            "|    Neave1959|02/02/1970| Engenheiro de Dados|\n",
            "|Nicterims1993|05/07/1985| Engenheiro de Dados|\n",
            "|       Onswis|01/07/1983|Engenheiro de Mac...|\n",
            "|      Theired|06/09/1951|Analista de Intel...|\n",
            "|      Thimpay|07/01/1995|  Arquiteto de Dados|\n",
            "+-------------+----------+--------------------+\n",
            "\n"
          ]
        }
      ]
    },
    {
      "cell_type": "code",
      "source": [
        "# Retornar nome, ocupacao e total_gasto ordenado por total_gasto do maior ao menor\n",
        "# O .sort(F.col('total_gasto').desc()) tem o mesmo resultado\n",
        "df4.select('nome','ocupacao','total_gasto').orderBy(F.col('total_gasto').desc()).show(truncate = False)"
      ],
      "metadata": {
        "colab": {
          "base_uri": "https://localhost:8080/"
        },
        "id": "R7XSiyyVkxl0",
        "outputId": "9390c9b1-9151-4080-ebc9-2eefc65f97f0"
      },
      "execution_count": null,
      "outputs": [
        {
          "output_type": "stream",
          "name": "stdout",
          "text": [
            "+-------------------------+-----------------------------------+-----------+\n",
            "|nome                     |ocupacao                           |total_gasto|\n",
            "+-------------------------+-----------------------------------+-----------+\n",
            "|Mr Noah \\tWalton         |Web Designer                       |3464.72    |\n",
            "|  Mrs \\tDaisy Anderson   |Engenheiro de Dados                |2417.81    |\n",
            "|Ms Katie \\tMmtcalfe      |Engenheiro de Machine Learning     |1778.72    |\n",
            "|Mr Henry \\tHaynes        |Analista de Inteligência de Mercado|1320.04    |\n",
            "|  Mr \\tbailey Glover     |Analista de Inteligência de Mercado|1257.45    |\n",
            "|Mr Luca \\tVaughan        |Gerente de Tecnologia              |1034.74    |\n",
            "| Mrs Chloe \\tKirby       |Analista de RH                     |1021.77    |\n",
            "|Mrs  \\t isabella   Fowler|Arquiteto de Dados                 |771.99     |\n",
            "|Mr Harrison \\t Bowen     |Engenheiro de Dados                |628.07     |\n",
            "| Mrs louise \\tClark      |Arquiteto de Dados                 |234.76     |\n",
            "|Mrs anna \\t     Sharp    |Engenheiro de Dados                |140.04     |\n",
            "| Mrs Libby \\tWilliams    |Estatístico                        |130.73     |\n",
            "|Ms zoe \\tPeacock         |Analista Financeiro                |51.95      |\n",
            "+-------------------------+-----------------------------------+-----------+\n",
            "\n"
          ]
        }
      ]
    },
    {
      "cell_type": "code",
      "source": [
        "#RETORNAR A QUANTIDADE DE PESSOAS POR SEXO\n",
        "df4.groupBy('sexo').count().orderBy(F.col('count').desc()).show()"
      ],
      "metadata": {
        "colab": {
          "base_uri": "https://localhost:8080/"
        },
        "id": "HYK6x-Epox0z",
        "outputId": "4e863728-675b-485b-e323-3d11457e7c35"
      },
      "execution_count": null,
      "outputs": [
        {
          "output_type": "stream",
          "name": "stdout",
          "text": [
            "+---------+-----+\n",
            "|     sexo|count|\n",
            "+---------+-----+\n",
            "| feminino|    9|\n",
            "|masculino|    4|\n",
            "+---------+-----+\n",
            "\n"
          ]
        }
      ]
    },
    {
      "cell_type": "code",
      "source": [
        "#RETORNAR A QUANTIDADE DE PESSOAS POR OCUPAÇÃO\n",
        "df4.groupBy('ocupacao').count().orderBy(F.col('count').desc()).show()"
      ],
      "metadata": {
        "colab": {
          "base_uri": "https://localhost:8080/"
        },
        "id": "OZEx4meOvZqb",
        "outputId": "6d0e3f5e-cc0f-4021-ee36-a5526dfcce83"
      },
      "execution_count": null,
      "outputs": [
        {
          "output_type": "stream",
          "name": "stdout",
          "text": [
            "+--------------------+-----+\n",
            "|            ocupacao|count|\n",
            "+--------------------+-----+\n",
            "| Engenheiro de Dados|    3|\n",
            "|  Arquiteto de Dados|    2|\n",
            "|Analista de Intel...|    2|\n",
            "|Engenheiro de Mac...|    1|\n",
            "|         Estatístico|    1|\n",
            "|      Analista de RH|    1|\n",
            "|Gerente de Tecnol...|    1|\n",
            "| Analista Financeiro|    1|\n",
            "|        Web Designer|    1|\n",
            "+--------------------+-----+\n",
            "\n"
          ]
        }
      ]
    },
    {
      "cell_type": "code",
      "source": [
        "#RETORNAR O VALOR TOTAL GASTO POR OCUPAÇÃO\n",
        "df4.groupBy('ocupacao').sum('total_gasto').show(truncate = False)"
      ],
      "metadata": {
        "colab": {
          "base_uri": "https://localhost:8080/"
        },
        "id": "_g6v5jtRxvb4",
        "outputId": "a51d84a4-c92a-4cf1-c9e7-9cc1d6d36a16"
      },
      "execution_count": null,
      "outputs": [
        {
          "output_type": "stream",
          "name": "stdout",
          "text": [
            "+-----------------------------------+----------------+\n",
            "|ocupacao                           |sum(total_gasto)|\n",
            "+-----------------------------------+----------------+\n",
            "|Engenheiro de Machine Learning     |1778.72         |\n",
            "|Arquiteto de Dados                 |1006.75         |\n",
            "|Estatístico                        |130.73          |\n",
            "|Analista de RH                     |1021.77         |\n",
            "|Engenheiro de Dados                |3185.92         |\n",
            "|Analista Financeiro                |51.95           |\n",
            "|Gerente de Tecnologia              |1034.74         |\n",
            "|Web Designer                       |3464.72         |\n",
            "|Analista de Inteligência de Mercado|2577.49         |\n",
            "+-----------------------------------+----------------+\n",
            "\n"
          ]
        }
      ]
    },
    {
      "cell_type": "code",
      "source": [
        "#RETORNAR O VALOR TOTAL GASTO POR SEXO\n",
        "df4.groupBy('sexo').sum().show()"
      ],
      "metadata": {
        "colab": {
          "base_uri": "https://localhost:8080/"
        },
        "id": "XyjUaKcI0C98",
        "outputId": "2015e8f3-f4ad-4316-9cde-f647d42057c4"
      },
      "execution_count": null,
      "outputs": [
        {
          "output_type": "stream",
          "name": "stdout",
          "text": [
            "+---------+-----------------+-------------------+\n",
            "|     sexo| sum(total_gasto)|sum(valor_com_desc)|\n",
            "+---------+-----------------+-------------------+\n",
            "|masculino|          5047.25|  4542.540000000001|\n",
            "| feminino|9205.539999999999|            8284.99|\n",
            "+---------+-----------------+-------------------+\n",
            "\n"
          ]
        }
      ]
    },
    {
      "cell_type": "code",
      "source": [
        "#RETORNAR O VALOR TOTAL GASTO POR SEXO e o min e max por cada sexo\n",
        "#Usando agregação de funções\n",
        "df4.groupBy('sexo').agg(\n",
        "    F.round(F.sum('total_gasto'),2).alias('total_gasto'), \n",
        "    F.min('total_gasto').alias('valor_min'),\n",
        "    F.max('total_gasto').alias('valor_max')\n",
        "    ).show()"
      ],
      "metadata": {
        "colab": {
          "base_uri": "https://localhost:8080/"
        },
        "id": "Vq4RQQ9W3Vk8",
        "outputId": "f5f012e0-144a-4706-cbb3-40e2e7cf174f"
      },
      "execution_count": null,
      "outputs": [
        {
          "output_type": "stream",
          "name": "stdout",
          "text": [
            "+---------+-----------+---------+---------+\n",
            "|     sexo|total_gasto|valor_min|valor_max|\n",
            "+---------+-----------+---------+---------+\n",
            "|masculino|    5047.25|    51.95|  2417.81|\n",
            "| feminino|    9205.54|   130.73|  3464.72|\n",
            "+---------+-----------+---------+---------+\n",
            "\n"
          ]
        }
      ]
    },
    {
      "cell_type": "code",
      "source": [
        "# Criar uma nova coluna com 1 para masculino e 0 para feminino\n",
        "# Usando estruturas de condições\n",
        "df5 = (df4\n",
        "      .withColumn('id_sexo', F.when(F.col('sexo')=='masculino',F.lit(1))\n",
        "      .otherwise(F.lit(0)))\n",
        ")\n",
        "df5.show(truncate = False)"
      ],
      "metadata": {
        "colab": {
          "base_uri": "https://localhost:8080/"
        },
        "id": "4IDx9dj15bxv",
        "outputId": "c9903bba-3793-42bd-bc74-6835c758ef3b"
      },
      "execution_count": null,
      "outputs": [
        {
          "output_type": "stream",
          "name": "stdout",
          "text": [
            "+-------------+-------------------------+---------+----------+-----------------------------------+----------+-----------+--------------+-------+\n",
            "|username     |nome                     |sexo     |data_nasc |ocupacao                           |assinatura|total_gasto|valor_com_desc|id_sexo|\n",
            "+-------------+-------------------------+---------+----------+-----------------------------------+----------+-----------+--------------+-------+\n",
            "|Neaude1978   |  Mr \\tbailey Glover     |masculino|01/12/1979|Analista de Inteligência de Mercado|01/10/2021|1257.45    |1131.71       |1      |\n",
            "|Maress39     |Mrs  \\t isabella   Fowler|feminino |04/08/1960|Arquiteto de Dados                 |24/03/2020|771.99     |694.79        |0      |\n",
            "|Kehonell     | Mrs Chloe \\tKirby       |feminino |28/06/1949|Analista de RH                     |07/06/2020|1021.77    |919.59        |0      |\n",
            "|Thimpay      | Mrs louise \\tClark      |feminino |07/01/1995|Arquiteto de Dados                 |03/11/2020|234.76     |211.28        |0      |\n",
            "|Giall1985    |Mr Harrison \\t Bowen     |feminino |04/04/1987|Engenheiro de Dados                |25/03/2020|628.07     |565.26        |0      |\n",
            "|Neave1959    |Mrs anna \\t     Sharp    |feminino |02/02/1970|Engenheiro de Dados                |18/09/2020|140.04     |126.04        |0      |\n",
            "|Nicterims1993|  Mrs \\tDaisy Anderson   |masculino|05/07/1985|Engenheiro de Dados                |29/01/2021|2417.81    |2176.03       |1      |\n",
            "|Fouldlairity |Ms zoe \\tPeacock         |masculino|03/06/1964|Analista Financeiro                |04/12/2020|51.95      |46.76         |1      |\n",
            "|Ancomettiody | Mrs Libby \\tWilliams    |feminino |04/09/1974|Estatístico                        |21/11/2020|130.73     |117.66        |0      |\n",
            "|Onswis       |Ms Katie \\tMmtcalfe      |feminino |01/07/1983|Engenheiro de Machine Learning     |27/02/2021|1778.72    |1600.85       |0      |\n",
            "|Majeappre    |Mr Luca \\tVaughan        |feminino |03/01/1971|Gerente de Tecnologia              |15/07/2022|1034.74    |931.27        |0      |\n",
            "|Theired      |Mr Henry \\tHaynes        |masculino|06/09/1951|Analista de Inteligência de Mercado|23/12/2022|1320.04    |1188.04       |1      |\n",
            "|Botter       |Mr Noah \\tWalton         |feminino |09/03/1991|Web Designer                       |26/07/2022|3464.72    |3118.25       |0      |\n",
            "+-------------+-------------------------+---------+----------+-----------------------------------+----------+-----------+--------------+-------+\n",
            "\n"
          ]
        }
      ]
    },
    {
      "cell_type": "code",
      "source": [
        "# Separar Dia, mês e ano em cada coluna\n",
        "\n",
        "df5 = (df5\n",
        "            .withColumn('ano', F.substring(F.col('data_nasc'),7,4))\n",
        "            .withColumn('mes', F.substring(F.col('data_nasc'),4,2))\n",
        "            .withColumn('dia', F.substring(F.col('data_nasc'),1,2))\n",
        ")\n",
        "df5.show()"
      ],
      "metadata": {
        "colab": {
          "base_uri": "https://localhost:8080/"
        },
        "id": "u1_SMHiiBknA",
        "outputId": "54f477d5-ecd7-4da7-f843-b04faf368f4f"
      },
      "execution_count": null,
      "outputs": [
        {
          "output_type": "stream",
          "name": "stdout",
          "text": [
            "+-------------+--------------------+---------+----------+--------------------+----------+-----------+--------------+-------+----+---+---+\n",
            "|     username|                nome|     sexo| data_nasc|            ocupacao|assinatura|total_gasto|valor_com_desc|id_sexo| ano|mes|dia|\n",
            "+-------------+--------------------+---------+----------+--------------------+----------+-----------+--------------+-------+----+---+---+\n",
            "|   Neaude1978|  Mr \\tbailey Glo...|masculino|01/12/1979|Analista de Intel...|01/10/2021|    1257.45|       1131.71|      1|1979| 12| 01|\n",
            "|     Maress39|Mrs  \\t isabella ...| feminino|04/08/1960|  Arquiteto de Dados|24/03/2020|     771.99|        694.79|      0|1960| 08| 04|\n",
            "|     Kehonell| Mrs Chloe \\tKirby  | feminino|28/06/1949|      Analista de RH|07/06/2020|    1021.77|        919.59|      0|1949| 06| 28|\n",
            "|      Thimpay| Mrs louise \\tCla...| feminino|07/01/1995|  Arquiteto de Dados|03/11/2020|     234.76|        211.28|      0|1995| 01| 07|\n",
            "|    Giall1985|Mr Harrison \\t Bowen| feminino|04/04/1987| Engenheiro de Dados|25/03/2020|     628.07|        565.26|      0|1987| 04| 04|\n",
            "|    Neave1959|Mrs anna \\t     S...| feminino|02/02/1970| Engenheiro de Dados|18/09/2020|     140.04|        126.04|      0|1970| 02| 02|\n",
            "|Nicterims1993|  Mrs \\tDaisy And...|masculino|05/07/1985| Engenheiro de Dados|29/01/2021|    2417.81|       2176.03|      1|1985| 07| 05|\n",
            "| Fouldlairity|    Ms zoe \\tPeacock|masculino|03/06/1964| Analista Financeiro|04/12/2020|      51.95|         46.76|      1|1964| 06| 03|\n",
            "| Ancomettiody| Mrs Libby \\tWill...| feminino|04/09/1974|         Estatístico|21/11/2020|     130.73|        117.66|      0|1974| 09| 04|\n",
            "|       Onswis| Ms Katie \\tMmtcalfe| feminino|01/07/1983|Engenheiro de Mac...|27/02/2021|    1778.72|       1600.85|      0|1983| 07| 01|\n",
            "|    Majeappre|   Mr Luca \\tVaughan| feminino|03/01/1971|Gerente de Tecnol...|15/07/2022|    1034.74|        931.27|      0|1971| 01| 03|\n",
            "|      Theired|   Mr Henry \\tHaynes|masculino|06/09/1951|Analista de Intel...|23/12/2022|    1320.04|       1188.04|      1|1951| 09| 06|\n",
            "|       Botter|    Mr Noah \\tWalton| feminino|09/03/1991|        Web Designer|26/07/2022|    3464.72|       3118.25|      0|1991| 03| 09|\n",
            "+-------------+--------------------+---------+----------+--------------------+----------+-----------+--------------+-------+----+---+---+\n",
            "\n"
          ]
        }
      ]
    },
    {
      "cell_type": "code",
      "source": [
        "# Separar Dia, mês e ano em cada coluna com split\n",
        "\n",
        "split_cols = F.split(F.col('data_nasc'), '/')\n",
        "(\n",
        "    df4.withColumn('dia_nasc', split_cols.getItem(0))\n",
        "       .withColumn('mes_nasc', split_cols.getItem(1))\n",
        "       .withColumn('ano_nasc', split_cols.getItem(2))\n",
        "       .show()\n",
        ")"
      ],
      "metadata": {
        "colab": {
          "base_uri": "https://localhost:8080/"
        },
        "id": "5naZCHFkDs5k",
        "outputId": "29a81c54-c525-4659-819a-7e9c46fd9307"
      },
      "execution_count": null,
      "outputs": [
        {
          "output_type": "stream",
          "name": "stdout",
          "text": [
            "+-------------+--------------------+---------+----------+--------------------+----------+-----------+--------------+--------+--------+--------+\n",
            "|     username|                nome|     sexo| data_nasc|            ocupacao|assinatura|total_gasto|valor_com_desc|dia_nasc|mes_nasc|ano_nasc|\n",
            "+-------------+--------------------+---------+----------+--------------------+----------+-----------+--------------+--------+--------+--------+\n",
            "|   Neaude1978|  Mr \\tbailey Glo...|masculino|01/12/1979|Analista de Intel...|01/10/2021|    1257.45|       1131.71|      01|      12|    1979|\n",
            "|     Maress39|Mrs  \\t isabella ...| feminino|04/08/1960|  Arquiteto de Dados|24/03/2020|     771.99|        694.79|      04|      08|    1960|\n",
            "|     Kehonell| Mrs Chloe \\tKirby  | feminino|28/06/1949|      Analista de RH|07/06/2020|    1021.77|        919.59|      28|      06|    1949|\n",
            "|      Thimpay| Mrs louise \\tCla...| feminino|07/01/1995|  Arquiteto de Dados|03/11/2020|     234.76|        211.28|      07|      01|    1995|\n",
            "|    Giall1985|Mr Harrison \\t Bowen| feminino|04/04/1987| Engenheiro de Dados|25/03/2020|     628.07|        565.26|      04|      04|    1987|\n",
            "|    Neave1959|Mrs anna \\t     S...| feminino|02/02/1970| Engenheiro de Dados|18/09/2020|     140.04|        126.04|      02|      02|    1970|\n",
            "|Nicterims1993|  Mrs \\tDaisy And...|masculino|05/07/1985| Engenheiro de Dados|29/01/2021|    2417.81|       2176.03|      05|      07|    1985|\n",
            "| Fouldlairity|    Ms zoe \\tPeacock|masculino|03/06/1964| Analista Financeiro|04/12/2020|      51.95|         46.76|      03|      06|    1964|\n",
            "| Ancomettiody| Mrs Libby \\tWill...| feminino|04/09/1974|         Estatístico|21/11/2020|     130.73|        117.66|      04|      09|    1974|\n",
            "|       Onswis| Ms Katie \\tMmtcalfe| feminino|01/07/1983|Engenheiro de Mac...|27/02/2021|    1778.72|       1600.85|      01|      07|    1983|\n",
            "|    Majeappre|   Mr Luca \\tVaughan| feminino|03/01/1971|Gerente de Tecnol...|15/07/2022|    1034.74|        931.27|      03|      01|    1971|\n",
            "|      Theired|   Mr Henry \\tHaynes|masculino|06/09/1951|Analista de Intel...|23/12/2022|    1320.04|       1188.04|      06|      09|    1951|\n",
            "|       Botter|    Mr Noah \\tWalton| feminino|09/03/1991|        Web Designer|26/07/2022|    3464.72|       3118.25|      09|      03|    1991|\n",
            "+-------------+--------------------+---------+----------+--------------------+----------+-----------+--------------+--------+--------+--------+\n",
            "\n"
          ]
        }
      ]
    },
    {
      "cell_type": "code",
      "source": [
        "#FUNÇÃO PARA ALTERAR VALORES DENTRO DE UMA COLUNA\n",
        "df4.withColumn('sexo', F.regexp_replace(F.col('sexo'), 'masculino', 'm')).show()"
      ],
      "metadata": {
        "colab": {
          "base_uri": "https://localhost:8080/"
        },
        "id": "VJ1iIG78YmHV",
        "outputId": "7a5774e5-0c72-4bba-c029-26a824ddf1f0"
      },
      "execution_count": null,
      "outputs": [
        {
          "output_type": "stream",
          "name": "stdout",
          "text": [
            "+-------------+--------------------+--------+----------+--------------------+----------+-----------+--------------+\n",
            "|     username|                nome|    sexo| data_nasc|            ocupacao|assinatura|total_gasto|valor_com_desc|\n",
            "+-------------+--------------------+--------+----------+--------------------+----------+-----------+--------------+\n",
            "|   Neaude1978|  Mr \\tbailey Glo...|       m|01/12/1979|Analista de Intel...|01/10/2021|    1257.45|       1131.71|\n",
            "|     Maress39|Mrs  \\t isabella ...|feminino|04/08/1960|  Arquiteto de Dados|24/03/2020|     771.99|        694.79|\n",
            "|     Kehonell| Mrs Chloe \\tKirby  |feminino|28/06/1949|      Analista de RH|07/06/2020|    1021.77|        919.59|\n",
            "|      Thimpay| Mrs louise \\tCla...|feminino|07/01/1995|  Arquiteto de Dados|03/11/2020|     234.76|        211.28|\n",
            "|    Giall1985|Mr Harrison \\t Bowen|feminino|04/04/1987| Engenheiro de Dados|25/03/2020|     628.07|        565.26|\n",
            "|    Neave1959|Mrs anna \\t     S...|feminino|02/02/1970| Engenheiro de Dados|18/09/2020|     140.04|        126.04|\n",
            "|Nicterims1993|  Mrs \\tDaisy And...|       m|05/07/1985| Engenheiro de Dados|29/01/2021|    2417.81|       2176.03|\n",
            "| Fouldlairity|    Ms zoe \\tPeacock|       m|03/06/1964| Analista Financeiro|04/12/2020|      51.95|         46.76|\n",
            "| Ancomettiody| Mrs Libby \\tWill...|feminino|04/09/1974|         Estatístico|21/11/2020|     130.73|        117.66|\n",
            "|       Onswis| Ms Katie \\tMmtcalfe|feminino|01/07/1983|Engenheiro de Mac...|27/02/2021|    1778.72|       1600.85|\n",
            "|    Majeappre|   Mr Luca \\tVaughan|feminino|03/01/1971|Gerente de Tecnol...|15/07/2022|    1034.74|        931.27|\n",
            "|      Theired|   Mr Henry \\tHaynes|       m|06/09/1951|Analista de Intel...|23/12/2022|    1320.04|       1188.04|\n",
            "|       Botter|    Mr Noah \\tWalton|feminino|09/03/1991|        Web Designer|26/07/2022|    3464.72|       3118.25|\n",
            "+-------------+--------------------+--------+----------+--------------------+----------+-----------+--------------+\n",
            "\n"
          ]
        }
      ]
    },
    {
      "cell_type": "code",
      "source": [
        "# Substituir masculino por m e feminino por f\n",
        "df6 = ( df5.withColumn('sexo', F.when(F.col('sexo') == 'masculino', F.regexp_replace(F.col('sexo'), 'masculino', 'm'))\n",
        "                                .when(F.col('sexo') == 'feminino', F.regexp_replace(F.col('sexo'), 'feminino', 'f'))\n",
        "                                .otherwise('Nao informado')    \n",
        "                       )\n",
        ")\n",
        "df5.show()"
      ],
      "metadata": {
        "id": "7eB20PAUbY4Y",
        "colab": {
          "base_uri": "https://localhost:8080/"
        },
        "outputId": "428f8e05-bf13-4593-f0eb-2d7c7c2f6ab6"
      },
      "execution_count": null,
      "outputs": [
        {
          "output_type": "stream",
          "name": "stdout",
          "text": [
            "+-------------+--------------------+----+----------+--------------------+----------+-----------+--------------+-------+----+---+---+\n",
            "|     username|                nome|sexo| data_nasc|            ocupacao|assinatura|total_gasto|valor_com_desc|id_sexo| ano|mes|dia|\n",
            "+-------------+--------------------+----+----------+--------------------+----------+-----------+--------------+-------+----+---+---+\n",
            "|   Neaude1978|  Mr \\tbailey Glo...|   m|01/12/1979|Analista de Intel...|01/10/2021|    1257.45|       1131.71|      1|1979| 12| 01|\n",
            "|     Maress39|Mrs  \\t isabella ...|   f|04/08/1960|  Arquiteto de Dados|24/03/2020|     771.99|        694.79|      0|1960| 08| 04|\n",
            "|     Kehonell| Mrs Chloe \\tKirby  |   f|28/06/1949|      Analista de RH|07/06/2020|    1021.77|        919.59|      0|1949| 06| 28|\n",
            "|      Thimpay| Mrs louise \\tCla...|   f|07/01/1995|  Arquiteto de Dados|03/11/2020|     234.76|        211.28|      0|1995| 01| 07|\n",
            "|    Giall1985|Mr Harrison \\t Bowen|   f|04/04/1987| Engenheiro de Dados|25/03/2020|     628.07|        565.26|      0|1987| 04| 04|\n",
            "|    Neave1959|Mrs anna \\t     S...|   f|02/02/1970| Engenheiro de Dados|18/09/2020|     140.04|        126.04|      0|1970| 02| 02|\n",
            "|Nicterims1993|  Mrs \\tDaisy And...|   m|05/07/1985| Engenheiro de Dados|29/01/2021|    2417.81|       2176.03|      1|1985| 07| 05|\n",
            "| Fouldlairity|    Ms zoe \\tPeacock|   m|03/06/1964| Analista Financeiro|04/12/2020|      51.95|         46.76|      1|1964| 06| 03|\n",
            "| Ancomettiody| Mrs Libby \\tWill...|   f|04/09/1974|         Estatístico|21/11/2020|     130.73|        117.66|      0|1974| 09| 04|\n",
            "|       Onswis| Ms Katie \\tMmtcalfe|   f|01/07/1983|Engenheiro de Mac...|27/02/2021|    1778.72|       1600.85|      0|1983| 07| 01|\n",
            "|    Majeappre|   Mr Luca \\tVaughan|   f|03/01/1971|Gerente de Tecnol...|15/07/2022|    1034.74|        931.27|      0|1971| 01| 03|\n",
            "|      Theired|   Mr Henry \\tHaynes|   m|06/09/1951|Analista de Intel...|23/12/2022|    1320.04|       1188.04|      1|1951| 09| 06|\n",
            "|       Botter|    Mr Noah \\tWalton|   f|09/03/1991|        Web Designer|26/07/2022|    3464.72|       3118.25|      0|1991| 03| 09|\n",
            "+-------------+--------------------+----+----------+--------------------+----------+-----------+--------------+-------+----+---+---+\n",
            "\n"
          ]
        }
      ]
    },
    {
      "cell_type": "code",
      "source": [
        "# REMOVER LINHAS DUPLICADAS\n",
        "df6.dropDuplicates()\n",
        "df6.distinct()"
      ],
      "metadata": {
        "id": "ZbQ5GM-WYbb_",
        "colab": {
          "base_uri": "https://localhost:8080/"
        },
        "outputId": "940f57be-ce54-4fe4-bb2e-5495240f0e4b"
      },
      "execution_count": null,
      "outputs": [
        {
          "output_type": "execute_result",
          "data": {
            "text/plain": [
              "DataFrame[username: string, nome: string, sexo: string, data_nasc: string, ocupacao: string, assinatura: string, total_gasto: double, valor_com_desc: double, id_sexo: int, ano: string, mes: string, dia: string]"
            ]
          },
          "metadata": {},
          "execution_count": 110
        }
      ]
    },
    {
      "cell_type": "code",
      "source": [
        "# REMOVER COLUNA NO DATAFRAME\n",
        "df6.drop('id_sexo').show()"
      ],
      "metadata": {
        "colab": {
          "base_uri": "https://localhost:8080/"
        },
        "id": "4-oSx_7ge0r3",
        "outputId": "a507cb61-072d-4372-8db4-d0a9fb1b51a5"
      },
      "execution_count": null,
      "outputs": [
        {
          "output_type": "stream",
          "name": "stdout",
          "text": [
            "+-------------+--------------------+-------------+----------+--------------------+----------+-----------+--------------+----+---+---+\n",
            "|     username|                nome|         sexo| data_nasc|            ocupacao|assinatura|total_gasto|valor_com_desc| ano|mes|dia|\n",
            "+-------------+--------------------+-------------+----------+--------------------+----------+-----------+--------------+----+---+---+\n",
            "|   Neaude1978|  Mr \\tbailey Glo...|Nao informado|01/12/1979|Analista de Intel...|01/10/2021|    1257.45|       1131.71|1979| 12| 01|\n",
            "|     Maress39|Mrs  \\t isabella ...|Nao informado|04/08/1960|  Arquiteto de Dados|24/03/2020|     771.99|        694.79|1960| 08| 04|\n",
            "|     Kehonell| Mrs Chloe \\tKirby  |Nao informado|28/06/1949|      Analista de RH|07/06/2020|    1021.77|        919.59|1949| 06| 28|\n",
            "|      Thimpay| Mrs louise \\tCla...|Nao informado|07/01/1995|  Arquiteto de Dados|03/11/2020|     234.76|        211.28|1995| 01| 07|\n",
            "|    Giall1985|Mr Harrison \\t Bowen|Nao informado|04/04/1987| Engenheiro de Dados|25/03/2020|     628.07|        565.26|1987| 04| 04|\n",
            "|    Neave1959|Mrs anna \\t     S...|Nao informado|02/02/1970| Engenheiro de Dados|18/09/2020|     140.04|        126.04|1970| 02| 02|\n",
            "|Nicterims1993|  Mrs \\tDaisy And...|Nao informado|05/07/1985| Engenheiro de Dados|29/01/2021|    2417.81|       2176.03|1985| 07| 05|\n",
            "| Fouldlairity|    Ms zoe \\tPeacock|Nao informado|03/06/1964| Analista Financeiro|04/12/2020|      51.95|         46.76|1964| 06| 03|\n",
            "| Ancomettiody| Mrs Libby \\tWill...|Nao informado|04/09/1974|         Estatístico|21/11/2020|     130.73|        117.66|1974| 09| 04|\n",
            "|       Onswis| Ms Katie \\tMmtcalfe|Nao informado|01/07/1983|Engenheiro de Mac...|27/02/2021|    1778.72|       1600.85|1983| 07| 01|\n",
            "|    Majeappre|   Mr Luca \\tVaughan|Nao informado|03/01/1971|Gerente de Tecnol...|15/07/2022|    1034.74|        931.27|1971| 01| 03|\n",
            "|      Theired|   Mr Henry \\tHaynes|Nao informado|06/09/1951|Analista de Intel...|23/12/2022|    1320.04|       1188.04|1951| 09| 06|\n",
            "|       Botter|    Mr Noah \\tWalton|Nao informado|09/03/1991|        Web Designer|26/07/2022|    3464.72|       3118.25|1991| 03| 09|\n",
            "+-------------+--------------------+-------------+----------+--------------------+----------+-----------+--------------+----+---+---+\n",
            "\n"
          ]
        }
      ]
    },
    {
      "cell_type": "code",
      "source": [
        "# SUBSTITUIR VALORES NULOS\n",
        "df6.fillna('NA', subset=['nome', 'sexo', 'data_nasc']).show()"
      ],
      "metadata": {
        "colab": {
          "base_uri": "https://localhost:8080/"
        },
        "id": "6Q8wYkE1fRdG",
        "outputId": "0af62f89-4678-4641-f10b-ed1b7eb095d7"
      },
      "execution_count": null,
      "outputs": [
        {
          "output_type": "stream",
          "name": "stdout",
          "text": [
            "+-------------+--------------------+-------------+----------+--------------------+----------+-----------+--------------+-------+----+---+---+\n",
            "|     username|                nome|         sexo| data_nasc|            ocupacao|assinatura|total_gasto|valor_com_desc|id_sexo| ano|mes|dia|\n",
            "+-------------+--------------------+-------------+----------+--------------------+----------+-----------+--------------+-------+----+---+---+\n",
            "|   Neaude1978|  Mr \\tbailey Glo...|Nao informado|01/12/1979|Analista de Intel...|01/10/2021|    1257.45|       1131.71|      1|1979| 12| 01|\n",
            "|     Maress39|Mrs  \\t isabella ...|Nao informado|04/08/1960|  Arquiteto de Dados|24/03/2020|     771.99|        694.79|      0|1960| 08| 04|\n",
            "|     Kehonell| Mrs Chloe \\tKirby  |Nao informado|28/06/1949|      Analista de RH|07/06/2020|    1021.77|        919.59|      0|1949| 06| 28|\n",
            "|      Thimpay| Mrs louise \\tCla...|Nao informado|07/01/1995|  Arquiteto de Dados|03/11/2020|     234.76|        211.28|      0|1995| 01| 07|\n",
            "|    Giall1985|Mr Harrison \\t Bowen|Nao informado|04/04/1987| Engenheiro de Dados|25/03/2020|     628.07|        565.26|      0|1987| 04| 04|\n",
            "|    Neave1959|Mrs anna \\t     S...|Nao informado|02/02/1970| Engenheiro de Dados|18/09/2020|     140.04|        126.04|      0|1970| 02| 02|\n",
            "|Nicterims1993|  Mrs \\tDaisy And...|Nao informado|05/07/1985| Engenheiro de Dados|29/01/2021|    2417.81|       2176.03|      1|1985| 07| 05|\n",
            "| Fouldlairity|    Ms zoe \\tPeacock|Nao informado|03/06/1964| Analista Financeiro|04/12/2020|      51.95|         46.76|      1|1964| 06| 03|\n",
            "| Ancomettiody| Mrs Libby \\tWill...|Nao informado|04/09/1974|         Estatístico|21/11/2020|     130.73|        117.66|      0|1974| 09| 04|\n",
            "|       Onswis| Ms Katie \\tMmtcalfe|Nao informado|01/07/1983|Engenheiro de Mac...|27/02/2021|    1778.72|       1600.85|      0|1983| 07| 01|\n",
            "|    Majeappre|   Mr Luca \\tVaughan|Nao informado|03/01/1971|Gerente de Tecnol...|15/07/2022|    1034.74|        931.27|      0|1971| 01| 03|\n",
            "|      Theired|   Mr Henry \\tHaynes|Nao informado|06/09/1951|Analista de Intel...|23/12/2022|    1320.04|       1188.04|      1|1951| 09| 06|\n",
            "|       Botter|    Mr Noah \\tWalton|Nao informado|09/03/1991|        Web Designer|26/07/2022|    3464.72|       3118.25|      0|1991| 03| 09|\n",
            "+-------------+--------------------+-------------+----------+--------------------+----------+-----------+--------------+-------+----+---+---+\n",
            "\n"
          ]
        }
      ]
    }
  ]
}