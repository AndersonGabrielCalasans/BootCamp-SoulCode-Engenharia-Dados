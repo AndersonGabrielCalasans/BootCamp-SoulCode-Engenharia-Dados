{
  "nbformat": 4,
  "nbformat_minor": 0,
  "metadata": {
    "colab": {
      "provenance": [],
      "include_colab_link": true
    },
    "kernelspec": {
      "name": "python3",
      "display_name": "Python 3"
    },
    "language_info": {
      "name": "python"
    }
  },
  "cells": [
    {
      "cell_type": "markdown",
      "metadata": {
        "id": "view-in-github",
        "colab_type": "text"
      },
      "source": [
        "<a href=\"https://colab.research.google.com/github/AndersonGabrielCalasans/BootCamp-SoulCode-Engenharia-Dados/blob/main/SoulCode/Struct_Type_Window_functions_Gabriel.ipynb\" target=\"_parent\"><img src=\"https://colab.research.google.com/assets/colab-badge.svg\" alt=\"Open In Colab\"/></a>"
      ]
    },
    {
      "cell_type": "code",
      "execution_count": 1,
      "metadata": {
        "id": "tna8awauXmOs"
      },
      "outputs": [],
      "source": [
        "#STRUCT TYPES"
      ]
    },
    {
      "cell_type": "code",
      "source": [
        "'''\n",
        "TIPOS BÁSICOS DE DADOS DO SPARK\n",
        "ByteType() - int\n",
        "ShortType() - int\n",
        "IntegerType() - int\n",
        "LongType() - int\n",
        "FloatType() - float\n",
        "DoubleType() - float\n",
        "StringType() - str\n",
        "BooleanType - bool\n",
        "DecimalType() - float\n",
        "NULL\n",
        "'''"
      ],
      "metadata": {
        "id": "em7tcfrtkvGX",
        "colab": {
          "base_uri": "https://localhost:8080/",
          "height": 53
        },
        "outputId": "cc540f5d-e73d-47d4-924c-b0e90679d728"
      },
      "execution_count": 2,
      "outputs": [
        {
          "output_type": "execute_result",
          "data": {
            "text/plain": [
              "'\\nTIPOS BÁSICOS DE DADOS DO SPARK\\nByteType() - int\\nShortType() - int\\nIntegerType() - int\\nLongType() - int\\nFloatType() - float\\nDoubleType() - float\\nStringType() - str\\nBooleanType - bool\\nDecimalType() - float\\nNULL\\n'"
            ],
            "application/vnd.google.colaboratory.intrinsic+json": {
              "type": "string"
            }
          },
          "metadata": {},
          "execution_count": 2
        }
      ]
    },
    {
      "cell_type": "code",
      "source": [
        "'''\n",
        "TIPOS COMPLEXOS DE DADOS\n",
        "TimestampType() - datetime\n",
        "DateType() - datetime\n",
        "ArrayType() - lista, tupla, array\n",
        "MapType() - dict\n",
        "StructType() - lista, tupla\n",
        "StructField() - Tipo do campo\n",
        "'''"
      ],
      "metadata": {
        "id": "pKYKEDAWmAz3",
        "colab": {
          "base_uri": "https://localhost:8080/",
          "height": 53
        },
        "outputId": "5ba3c82d-9443-4335-b8f6-906ae279add0"
      },
      "execution_count": 3,
      "outputs": [
        {
          "output_type": "execute_result",
          "data": {
            "text/plain": [
              "'\\nTIPOS COMPLEXOS DE DADOS\\nTimestampType() - datetime\\nDateType() - datetime\\nArrayType() - lista, tupla, array\\nMapType() - dict\\nStructType() - lista, tupla\\nStructField() - Tipo do campo\\n'"
            ],
            "application/vnd.google.colaboratory.intrinsic+json": {
              "type": "string"
            }
          },
          "metadata": {},
          "execution_count": 3
        }
      ]
    },
    {
      "cell_type": "code",
      "source": [
        "!pip install pyspark"
      ],
      "metadata": {
        "colab": {
          "base_uri": "https://localhost:8080/"
        },
        "id": "l4Z_DnhvnqNE",
        "outputId": "989c9921-42d4-4768-b9d0-3268eb253642"
      },
      "execution_count": 4,
      "outputs": [
        {
          "output_type": "stream",
          "name": "stdout",
          "text": [
            "Looking in indexes: https://pypi.org/simple, https://us-python.pkg.dev/colab-wheels/public/simple/\n",
            "Collecting pyspark\n",
            "  Downloading pyspark-3.3.1.tar.gz (281.4 MB)\n",
            "\u001b[K     |████████████████████████████████| 281.4 MB 45 kB/s \n",
            "\u001b[?25hCollecting py4j==0.10.9.5\n",
            "  Downloading py4j-0.10.9.5-py2.py3-none-any.whl (199 kB)\n",
            "\u001b[K     |████████████████████████████████| 199 kB 64.3 MB/s \n",
            "\u001b[?25hBuilding wheels for collected packages: pyspark\n",
            "  Building wheel for pyspark (setup.py) ... \u001b[?25l\u001b[?25hdone\n",
            "  Created wheel for pyspark: filename=pyspark-3.3.1-py2.py3-none-any.whl size=281845512 sha256=ab52fe2a9ccd177d71c9f3b50db976b186b34a6215be10c36b38d8fe0ff391e3\n",
            "  Stored in directory: /root/.cache/pip/wheels/43/dc/11/ec201cd671da62fa9c5cc77078235e40722170ceba231d7598\n",
            "Successfully built pyspark\n",
            "Installing collected packages: py4j, pyspark\n",
            "Successfully installed py4j-0.10.9.5 pyspark-3.3.1\n"
          ]
        }
      ]
    },
    {
      "cell_type": "code",
      "source": [
        "from pyspark.sql import SparkSession"
      ],
      "metadata": {
        "id": "i8wTJGEmoPqD"
      },
      "execution_count": 5,
      "outputs": []
    },
    {
      "cell_type": "code",
      "source": [
        "spark = (\n",
        "    SparkSession.builder\n",
        "                .master('local')\n",
        "                .appName('structtype')\n",
        "                .config('spark.ui.port', '4050')\n",
        "                .getOrCreate()\n",
        ")"
      ],
      "metadata": {
        "id": "WZjY5lcqoT9f"
      },
      "execution_count": 6,
      "outputs": []
    },
    {
      "cell_type": "code",
      "source": [
        "spark"
      ],
      "metadata": {
        "colab": {
          "base_uri": "https://localhost:8080/",
          "height": 219
        },
        "id": "Ml1J8yFaov3H",
        "outputId": "71c839b4-073a-4828-f55f-d502541bde92"
      },
      "execution_count": 7,
      "outputs": [
        {
          "output_type": "execute_result",
          "data": {
            "text/plain": [
              "<pyspark.sql.session.SparkSession at 0x7f823dcef400>"
            ],
            "text/html": [
              "\n",
              "            <div>\n",
              "                <p><b>SparkSession - in-memory</b></p>\n",
              "                \n",
              "        <div>\n",
              "            <p><b>SparkContext</b></p>\n",
              "\n",
              "            <p><a href=\"http://915f1e52154e:4050\">Spark UI</a></p>\n",
              "\n",
              "            <dl>\n",
              "              <dt>Version</dt>\n",
              "                <dd><code>v3.3.1</code></dd>\n",
              "              <dt>Master</dt>\n",
              "                <dd><code>local</code></dd>\n",
              "              <dt>AppName</dt>\n",
              "                <dd><code>structtype</code></dd>\n",
              "            </dl>\n",
              "        </div>\n",
              "        \n",
              "            </div>\n",
              "        "
            ]
          },
          "metadata": {},
          "execution_count": 7
        }
      ]
    },
    {
      "cell_type": "code",
      "source": [
        "#IMPORTAR OS TIPOS DE VARIÁVEIS DO SPARK\n",
        "from pyspark.sql.types import *"
      ],
      "metadata": {
        "id": "tfJgsov8pLOT"
      },
      "execution_count": 8,
      "outputs": []
    },
    {
      "cell_type": "code",
      "source": [
        "#AQUI VOCÊ IRÁ MONTAR O ESQUEMA DE COLUNAS CONTENDO OS TIPOS DE CADA COLUNA\n",
        "esquema = (\n",
        "    StructType([\n",
        "        StructField('id', StringType()),\n",
        "        StructField('nome_musica', StringType()),\n",
        "        StructField('popularidade', IntegerType()),\n",
        "        StructField('duracao_musica', IntegerType()),\n",
        "        StructField('acustica', StringType()),\n",
        "        StructField('danceabilidade', StringType()),\n",
        "        StructField('energia', FloatType()),\n",
        "        StructField('instrumentalidade', StringType()),\n",
        "        StructField('nota_musical', IntegerType()),\n",
        "        StructField('ao_vivo', FloatType()),\n",
        "        StructField('volume', FloatType()),\n",
        "        StructField('modo_de_audio', IntegerType()),\n",
        "        StructField('discurso', FloatType()),\n",
        "        StructField('ritmo', FloatType()),\n",
        "        StructField('assinatura de tempo', FloatType()),\n",
        "        StructField('valencia_de_audio', FloatType())\n",
        "    ])\n",
        ")"
      ],
      "metadata": {
        "id": "mPnhfEo7o4wz"
      },
      "execution_count": 9,
      "outputs": []
    },
    {
      "cell_type": "code",
      "source": [
        "#AQUI IREMOS LER O DATAFRAME COLOCANDO INFERSCHEMA COMO FALSE PARA QUE O SPARK NÃO INFIRA O ESQUEMA\n",
        "# E ADICIONAMOS schema=esquema, PARA UTILIZARMOS O ESQUEMA QUE CRIAMOS ANTERIORMENTE\n",
        "df = (\n",
        "    spark.read.format('csv')\n",
        "              .option('header', 'true')\n",
        "              .option('inferschema', 'false')\n",
        "              .option('delimiter', ',')\n",
        "              .load('/content/sample_data', schema = esquema)\n",
        ")"
      ],
      "metadata": {
        "id": "iUgXDD8BuMGT"
      },
      "execution_count": 11,
      "outputs": []
    },
    {
      "cell_type": "code",
      "source": [
        "#COMANDO PARA VERIFICAR O ESQUEMA DO DATAFRAME\n",
        "df.printSchema()"
      ],
      "metadata": {
        "colab": {
          "base_uri": "https://localhost:8080/"
        },
        "id": "pZcxTwwYu2Td",
        "outputId": "12198f04-ea5b-4966-a09e-581df64e7c17"
      },
      "execution_count": 12,
      "outputs": [
        {
          "output_type": "stream",
          "name": "stdout",
          "text": [
            "root\n",
            " |-- id: string (nullable = true)\n",
            " |-- nome_musica: string (nullable = true)\n",
            " |-- popularidade: integer (nullable = true)\n",
            " |-- duracao_musica: integer (nullable = true)\n",
            " |-- acustica: string (nullable = true)\n",
            " |-- danceabilidade: string (nullable = true)\n",
            " |-- energia: float (nullable = true)\n",
            " |-- instrumentalidade: string (nullable = true)\n",
            " |-- nota_musical: integer (nullable = true)\n",
            " |-- ao_vivo: float (nullable = true)\n",
            " |-- volume: float (nullable = true)\n",
            " |-- modo_de_audio: integer (nullable = true)\n",
            " |-- discurso: float (nullable = true)\n",
            " |-- ritmo: float (nullable = true)\n",
            " |-- assinatura de tempo: float (nullable = true)\n",
            " |-- valencia_de_audio: float (nullable = true)\n",
            "\n"
          ]
        }
      ]
    },
    {
      "cell_type": "code",
      "source": [
        "df.show(truncate=False)"
      ],
      "metadata": {
        "colab": {
          "base_uri": "https://localhost:8080/"
        },
        "id": "-m8naKcgvEyz",
        "outputId": "f6aca0d0-8877-4a3d-c96e-1d2e076e3bce"
      },
      "execution_count": 13,
      "outputs": [
        {
          "output_type": "stream",
          "name": "stdout",
          "text": [
            "+---+-----------+------------+--------------+--------+--------------+-------+-----------------+------------+-------+------+-------------+--------+-----+-------------------+-----------------+\n",
            "|id |nome_musica|popularidade|duracao_musica|acustica|danceabilidade|energia|instrumentalidade|nota_musical|ao_vivo|volume|modo_de_audio|discurso|ritmo|assinatura de tempo|valencia_de_audio|\n",
            "+---+-----------+------------+--------------+--------+--------------+-------+-----------------+------------+-------+------+-------------+--------+-----+-------------------+-----------------+\n",
            "|5  |0          |0           |0             |0       |0             |0.0    |0                |0           |0.0    |0.0   |0            |0.0     |0.0  |0.0                |0.0              |\n",
            "|7  |0          |0           |0             |0       |0             |0.0    |0                |0           |0.0    |0.0   |0            |0.0     |0.0  |0.0                |0.0              |\n",
            "|9  |0          |0           |0             |0       |0             |0.0    |0                |0           |0.0    |0.0   |0            |0.0     |0.0  |0.0                |0.0              |\n",
            "|5  |0          |0           |0             |0       |0             |0.0    |0                |0           |0.0    |0.0   |0            |0.0     |0.0  |0.0                |0.0              |\n",
            "|2  |0          |0           |0             |0       |0             |0.0    |0                |0           |0.0    |0.0   |0            |0.0     |0.0  |0.0                |0.0              |\n",
            "|0  |0          |0           |0             |0       |0             |0.0    |0                |0           |0.0    |0.0   |0            |0.0     |0.0  |0.0                |0.0              |\n",
            "|6  |0          |0           |0             |0       |0             |0.0    |0                |0           |0.0    |0.0   |0            |0.0     |0.0  |0.0                |0.0              |\n",
            "|5  |0          |0           |0             |0       |0             |0.0    |0                |0           |0.0    |0.0   |0            |0.0     |0.0  |0.0                |0.0              |\n",
            "|5  |0          |0           |0             |0       |0             |0.0    |0                |0           |0.0    |0.0   |0            |0.0     |0.0  |0.0                |0.0              |\n",
            "|2  |0          |0           |0             |0       |0             |0.0    |0                |0           |0.0    |0.0   |0            |0.0     |0.0  |0.0                |0.0              |\n",
            "|7  |0          |0           |0             |0       |0             |0.0    |0                |0           |0.0    |0.0   |0            |0.0     |0.0  |0.0                |0.0              |\n",
            "|7  |0          |0           |0             |0       |0             |0.0    |0                |0           |0.0    |0.0   |0            |0.0     |0.0  |0.0                |0.0              |\n",
            "|6  |0          |0           |0             |0       |0             |0.0    |0                |0           |0.0    |0.0   |0            |0.0     |0.0  |0.0                |0.0              |\n",
            "|8  |0          |0           |0             |0       |0             |0.0    |0                |0           |0.0    |0.0   |0            |0.0     |0.0  |0.0                |0.0              |\n",
            "|9  |0          |0           |0             |0       |0             |0.0    |0                |0           |0.0    |0.0   |0            |0.0     |0.0  |0.0                |0.0              |\n",
            "|3  |0          |0           |0             |0       |0             |0.0    |0                |0           |0.0    |0.0   |0            |0.0     |0.0  |0.0                |0.0              |\n",
            "|5  |0          |0           |0             |0       |0             |0.0    |0                |0           |0.0    |0.0   |0            |0.0     |0.0  |0.0                |0.0              |\n",
            "|7  |0          |0           |0             |0       |0             |0.0    |0                |0           |0.0    |0.0   |0            |0.0     |0.0  |0.0                |0.0              |\n",
            "|6  |0          |0           |0             |0       |0             |0.0    |0                |0           |0.0    |0.0   |0            |0.0     |0.0  |0.0                |0.0              |\n",
            "|9  |0          |0           |0             |0       |0             |0.0    |0                |0           |0.0    |0.0   |0            |0.0     |0.0  |0.0                |0.0              |\n",
            "+---+-----------+------------+--------------+--------+--------------+-------+-----------------+------------+-------+------+-------------+--------+-----+-------------------+-----------------+\n",
            "only showing top 20 rows\n",
            "\n"
          ]
        }
      ]
    },
    {
      "cell_type": "code",
      "source": [
        "#WINDOW FUNCTIONS\n",
        "from pyspark.sql.window import Window\n",
        "import pyspark.sql.functions as F"
      ],
      "metadata": {
        "id": "dDyeleKQ2MyX"
      },
      "execution_count": 20,
      "outputs": []
    },
    {
      "cell_type": "code",
      "source": [
        "schema = ['nome', 'departamento', 'estado', 'salario']\n",
        "\n",
        "dados = [('Anderson', 'vendas', 'SP', 9000),\n",
        "         ('Kennedy', 'vendas', 'RJ', 4500),\n",
        "         ('Luciana', 'vendas', 'SP', 4500),\n",
        "         ('Marta', 'vendas', 'SP', 4500),\n",
        "         ('João', 'vendas', 'SP', 4500),\n",
        "         ('Diego', 'vendas', 'SP', 4500),\n",
        "         ('Marilia', 'vendas', 'SP', 1200),\n",
        "         ('Gustavo', 'financeiro', 'AM', 8000),\n",
        "         ('Pedro', 'financeiro', 'AM', 2750),\n",
        "         ('Juliana', 'financeiro', 'MG', 3000),\n",
        "         ('Leticia', 'financeiro', 'RJ', 7500),\n",
        "         ('Oswaldo', 'marketing', 'RJ', 2450),\n",
        "         ('Denis', 'marketing', 'MG', 1300)\n",
        "         \n",
        "        ]"
      ],
      "metadata": {
        "id": "EFXmgcFI25Ox"
      },
      "execution_count": 22,
      "outputs": []
    },
    {
      "cell_type": "code",
      "source": [
        "df2 = spark.createDataFrame(dados, schema)"
      ],
      "metadata": {
        "id": "AOK41b7I3Gdt"
      },
      "execution_count": 23,
      "outputs": []
    },
    {
      "cell_type": "code",
      "source": [
        "df2.show()"
      ],
      "metadata": {
        "id": "rtuq_K183LPL",
        "outputId": "bb78aad1-1d2b-4375-a701-49fc95090c05",
        "colab": {
          "base_uri": "https://localhost:8080/"
        }
      },
      "execution_count": 24,
      "outputs": [
        {
          "output_type": "stream",
          "name": "stdout",
          "text": [
            "+--------+------------+------+-------+\n",
            "|    nome|departamento|estado|salario|\n",
            "+--------+------------+------+-------+\n",
            "|Anderson|      vendas|    SP|   9000|\n",
            "| Kennedy|      vendas|    RJ|   4500|\n",
            "| Luciana|      vendas|    SP|   4500|\n",
            "|   Marta|      vendas|    SP|   4500|\n",
            "|    João|      vendas|    SP|   4500|\n",
            "|   Diego|      vendas|    SP|   4500|\n",
            "| Marilia|      vendas|    SP|   1200|\n",
            "| Gustavo|  financeiro|    AM|   8000|\n",
            "|   Pedro|  financeiro|    AM|   2750|\n",
            "| Juliana|  financeiro|    MG|   3000|\n",
            "| Leticia|  financeiro|    RJ|   7500|\n",
            "| Oswaldo|   marketing|    RJ|   2450|\n",
            "|   Denis|   marketing|    MG|   1300|\n",
            "+--------+------------+------+-------+\n",
            "\n"
          ]
        }
      ]
    },
    {
      "cell_type": "code",
      "source": [
        "#CRIAR UMA PARTIÇÃO SOBRE O DATAFRAME PARA UTILIZAR ALGUM TIPO DE CLASSIFICAÇÃO\n",
        "w0 = Window.partitionBy(F.col('departamento')).orderBy(F.col('salario').desc())"
      ],
      "metadata": {
        "id": "fe4cxJZk6W8E"
      },
      "execution_count": 27,
      "outputs": []
    },
    {
      "cell_type": "code",
      "source": [
        "# 1) ROW_NUMBER - RETORNA O NÚMERO DA LINHA DE ACORDO COM A PARTIÇÃO CRIADA\n",
        "df3 = df2.withColumn('numero_linha', F.row_number().over(w0))"
      ],
      "metadata": {
        "id": "kkc8be4_6rib"
      },
      "execution_count": 28,
      "outputs": []
    },
    {
      "cell_type": "code",
      "source": [
        "df3.show()"
      ],
      "metadata": {
        "colab": {
          "base_uri": "https://localhost:8080/"
        },
        "id": "soTY-R5l6yXg",
        "outputId": "a3ad38be-898a-4464-84e9-d7f1e5acf919"
      },
      "execution_count": 29,
      "outputs": [
        {
          "output_type": "stream",
          "name": "stdout",
          "text": [
            "+--------+------------+------+-------+------------+\n",
            "|    nome|departamento|estado|salario|numero_linha|\n",
            "+--------+------------+------+-------+------------+\n",
            "| Gustavo|  financeiro|    AM|   8000|           1|\n",
            "| Leticia|  financeiro|    RJ|   7500|           2|\n",
            "| Juliana|  financeiro|    MG|   3000|           3|\n",
            "|   Pedro|  financeiro|    AM|   2750|           4|\n",
            "| Oswaldo|   marketing|    RJ|   2450|           1|\n",
            "|   Denis|   marketing|    MG|   1300|           2|\n",
            "|Anderson|      vendas|    SP|   9000|           1|\n",
            "| Kennedy|      vendas|    RJ|   4500|           2|\n",
            "| Luciana|      vendas|    SP|   4500|           3|\n",
            "|   Marta|      vendas|    SP|   4500|           4|\n",
            "|    João|      vendas|    SP|   4500|           5|\n",
            "|   Diego|      vendas|    SP|   4500|           6|\n",
            "| Marilia|      vendas|    SP|   1200|           7|\n",
            "+--------+------------+------+-------+------------+\n",
            "\n"
          ]
        }
      ]
    },
    {
      "cell_type": "code",
      "source": [
        "# RANK\n",
        "df3 = df3.withColumn('rank',F.rank().over(w0))\n",
        "df3.show()"
      ],
      "metadata": {
        "colab": {
          "base_uri": "https://localhost:8080/"
        },
        "id": "guLfTMPi76r1",
        "outputId": "5f94b3bf-5dde-481b-9d77-152646ae0edf"
      },
      "execution_count": 31,
      "outputs": [
        {
          "output_type": "stream",
          "name": "stdout",
          "text": [
            "+--------+------------+------+-------+------------+----+\n",
            "|    nome|departamento|estado|salario|numero_linha|rank|\n",
            "+--------+------------+------+-------+------------+----+\n",
            "| Gustavo|  financeiro|    AM|   8000|           1|   1|\n",
            "| Leticia|  financeiro|    RJ|   7500|           2|   2|\n",
            "| Juliana|  financeiro|    MG|   3000|           3|   3|\n",
            "|   Pedro|  financeiro|    AM|   2750|           4|   4|\n",
            "| Oswaldo|   marketing|    RJ|   2450|           1|   1|\n",
            "|   Denis|   marketing|    MG|   1300|           2|   2|\n",
            "|Anderson|      vendas|    SP|   9000|           1|   1|\n",
            "| Kennedy|      vendas|    RJ|   4500|           2|   2|\n",
            "| Luciana|      vendas|    SP|   4500|           3|   2|\n",
            "|   Marta|      vendas|    SP|   4500|           4|   2|\n",
            "|    João|      vendas|    SP|   4500|           5|   2|\n",
            "|   Diego|      vendas|    SP|   4500|           6|   2|\n",
            "| Marilia|      vendas|    SP|   1200|           7|   7|\n",
            "+--------+------------+------+-------+------------+----+\n",
            "\n"
          ]
        }
      ]
    },
    {
      "cell_type": "code",
      "source": [
        "# DENSE_RANK\n",
        "df3 = df3.withColumn('dense_rank', F.dense_rank().over(w0))\n",
        "df3.show()"
      ],
      "metadata": {
        "colab": {
          "base_uri": "https://localhost:8080/"
        },
        "id": "BX_6G2jJ9JM1",
        "outputId": "c7c352cd-79a9-4aea-980a-fa16c0249759"
      },
      "execution_count": 33,
      "outputs": [
        {
          "output_type": "stream",
          "name": "stdout",
          "text": [
            "+--------+------------+------+-------+------------+----+----------+\n",
            "|    nome|departamento|estado|salario|numero_linha|rank|dense_rank|\n",
            "+--------+------------+------+-------+------------+----+----------+\n",
            "| Gustavo|  financeiro|    AM|   8000|           1|   1|         1|\n",
            "| Leticia|  financeiro|    RJ|   7500|           2|   2|         2|\n",
            "| Juliana|  financeiro|    MG|   3000|           3|   3|         3|\n",
            "|   Pedro|  financeiro|    AM|   2750|           4|   4|         4|\n",
            "| Oswaldo|   marketing|    RJ|   2450|           1|   1|         1|\n",
            "|   Denis|   marketing|    MG|   1300|           2|   2|         2|\n",
            "|Anderson|      vendas|    SP|   9000|           1|   1|         1|\n",
            "| Kennedy|      vendas|    RJ|   4500|           2|   2|         2|\n",
            "| Luciana|      vendas|    SP|   4500|           3|   2|         2|\n",
            "|   Marta|      vendas|    SP|   4500|           4|   2|         2|\n",
            "|    João|      vendas|    SP|   4500|           5|   2|         2|\n",
            "|   Diego|      vendas|    SP|   4500|           6|   2|         2|\n",
            "| Marilia|      vendas|    SP|   1200|           7|   7|         3|\n",
            "+--------+------------+------+-------+------------+----+----------+\n",
            "\n"
          ]
        }
      ]
    },
    {
      "cell_type": "code",
      "source": [
        "# LAG\n",
        "#Retorna duas posições atrás\n",
        "df3 = df3.withColumn('lag', F.lag('salario', 2).over(w0))\n",
        "df3.show()"
      ],
      "metadata": {
        "colab": {
          "base_uri": "https://localhost:8080/"
        },
        "id": "-iVMhldYQ11O",
        "outputId": "3dd7c4db-3a1b-497a-93f7-5c5c0cfdaf93"
      },
      "execution_count": 34,
      "outputs": [
        {
          "output_type": "stream",
          "name": "stdout",
          "text": [
            "+--------+------------+------+-------+------------+----+----------+----+\n",
            "|    nome|departamento|estado|salario|numero_linha|rank|dense_rank| lag|\n",
            "+--------+------------+------+-------+------------+----+----------+----+\n",
            "| Gustavo|  financeiro|    AM|   8000|           1|   1|         1|null|\n",
            "| Leticia|  financeiro|    RJ|   7500|           2|   2|         2|null|\n",
            "| Juliana|  financeiro|    MG|   3000|           3|   3|         3|8000|\n",
            "|   Pedro|  financeiro|    AM|   2750|           4|   4|         4|7500|\n",
            "| Oswaldo|   marketing|    RJ|   2450|           1|   1|         1|null|\n",
            "|   Denis|   marketing|    MG|   1300|           2|   2|         2|null|\n",
            "|Anderson|      vendas|    SP|   9000|           1|   1|         1|null|\n",
            "| Kennedy|      vendas|    RJ|   4500|           2|   2|         2|null|\n",
            "| Luciana|      vendas|    SP|   4500|           3|   2|         2|9000|\n",
            "|   Marta|      vendas|    SP|   4500|           4|   2|         2|4500|\n",
            "|    João|      vendas|    SP|   4500|           5|   2|         2|4500|\n",
            "|   Diego|      vendas|    SP|   4500|           6|   2|         2|4500|\n",
            "| Marilia|      vendas|    SP|   1200|           7|   7|         3|4500|\n",
            "+--------+------------+------+-------+------------+----+----------+----+\n",
            "\n"
          ]
        }
      ]
    },
    {
      "cell_type": "code",
      "source": [
        "# LEAD\n",
        "# retorna duas posições a frente\n",
        "df3 = df3.withColumn('lead', F.lead('salario', 2).over(w0))\n",
        "df3.show()"
      ],
      "metadata": {
        "colab": {
          "base_uri": "https://localhost:8080/"
        },
        "id": "zp9MT-OQRO4j",
        "outputId": "eb6319e3-1449-4a64-e133-7e123da3ccc5"
      },
      "execution_count": 35,
      "outputs": [
        {
          "output_type": "stream",
          "name": "stdout",
          "text": [
            "+--------+------------+------+-------+------------+----+----------+----+----+\n",
            "|    nome|departamento|estado|salario|numero_linha|rank|dense_rank| lag|lead|\n",
            "+--------+------------+------+-------+------------+----+----------+----+----+\n",
            "| Gustavo|  financeiro|    AM|   8000|           1|   1|         1|null|3000|\n",
            "| Leticia|  financeiro|    RJ|   7500|           2|   2|         2|null|2750|\n",
            "| Juliana|  financeiro|    MG|   3000|           3|   3|         3|8000|null|\n",
            "|   Pedro|  financeiro|    AM|   2750|           4|   4|         4|7500|null|\n",
            "| Oswaldo|   marketing|    RJ|   2450|           1|   1|         1|null|null|\n",
            "|   Denis|   marketing|    MG|   1300|           2|   2|         2|null|null|\n",
            "|Anderson|      vendas|    SP|   9000|           1|   1|         1|null|4500|\n",
            "| Kennedy|      vendas|    RJ|   4500|           2|   2|         2|null|4500|\n",
            "| Luciana|      vendas|    SP|   4500|           3|   2|         2|9000|4500|\n",
            "|   Marta|      vendas|    SP|   4500|           4|   2|         2|4500|4500|\n",
            "|    João|      vendas|    SP|   4500|           5|   2|         2|4500|1200|\n",
            "|   Diego|      vendas|    SP|   4500|           6|   2|         2|4500|null|\n",
            "| Marilia|      vendas|    SP|   1200|           7|   7|         3|4500|null|\n",
            "+--------+------------+------+-------+------------+----+----------+----+----+\n",
            "\n"
          ]
        }
      ]
    }
  ]
}