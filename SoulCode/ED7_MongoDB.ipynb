{
  "nbformat": 4,
  "nbformat_minor": 0,
  "metadata": {
    "colab": {
      "provenance": [],
      "include_colab_link": true
    },
    "kernelspec": {
      "name": "python3",
      "display_name": "Python 3"
    },
    "language_info": {
      "name": "python"
    }
  },
  "cells": [
    {
      "cell_type": "markdown",
      "metadata": {
        "id": "view-in-github",
        "colab_type": "text"
      },
      "source": [
        "<a href=\"https://colab.research.google.com/github/AndersonGabrielCalasans/BootCamp-SoulCode-Engenharia-Dados/blob/main/SoulCode/ED7_MongoDB.ipynb\" target=\"_parent\"><img src=\"https://colab.research.google.com/assets/colab-badge.svg\" alt=\"Open In Colab\"/></a>"
      ]
    },
    {
      "cell_type": "markdown",
      "source": [
        "##Importação das Bibli"
      ],
      "metadata": {
        "id": "45S2Rydz7PEc"
      }
    },
    {
      "cell_type": "code",
      "source": [
        "#pip install pymongo[srv]\n",
        "import pymongo\n",
        "from pymongo import MongoClient"
      ],
      "metadata": {
        "id": "E1NzB2WI7Vj8"
      },
      "execution_count": 1,
      "outputs": []
    },
    {
      "cell_type": "markdown",
      "source": [
        "##Conector do mongo atlas"
      ],
      "metadata": {
        "id": "ms1lg8LY39ir"
      }
    },
    {
      "cell_type": "code",
      "execution_count": 2,
      "metadata": {
        "id": "kr0-FZM7Z7S1"
      },
      "outputs": [],
      "source": [
        "# Enderenço do cluster\n",
        "uri = \"mongodb+srv://cluster0.2qynihy.mongodb.net/?authSource=%24external&authMechanism=MONGODB-X509&retryWrites=true&w=majority\"\n",
        "\n",
        "# Altenticando o Mongo\n",
        "client = MongoClient(uri, tls=True, tlsCertificateKeyFile='/content/password_mongodb.pem')"
      ]
    },
    {
      "cell_type": "code",
      "source": [
        "#Escolha do DataBase e Coleção\n",
        "db = client['Aula1']\n",
        "colecao = db['primeira']"
      ],
      "metadata": {
        "id": "ys6ELS6ihv37"
      },
      "execution_count": 3,
      "outputs": []
    },
    {
      "cell_type": "code",
      "source": [
        "#verificar conexão/Qtd . documentos da coleção\n",
        "colecao.count_documents({})"
      ],
      "metadata": {
        "colab": {
          "base_uri": "https://localhost:8080/"
        },
        "id": "LzjIkKMBATIn",
        "outputId": "6249c1f0-5b3f-4f4a-b6c1-a6706c978aae"
      },
      "execution_count": 4,
      "outputs": [
        {
          "output_type": "execute_result",
          "data": {
            "text/plain": [
              "0"
            ]
          },
          "metadata": {},
          "execution_count": 4
        }
      ]
    },
    {
      "cell_type": "markdown",
      "source": [
        "##Create "
      ],
      "metadata": {
        "id": "cx-3aDXIBIKv"
      }
    },
    {
      "cell_type": "code",
      "source": [
        "colecao.insert_one({'nome':'cliente 12','idade':19})"
      ],
      "metadata": {
        "colab": {
          "base_uri": "https://localhost:8080/"
        },
        "id": "0ZKvx6HyBXrv",
        "outputId": "1912c7bc-3542-47e3-c537-c2b18edce375"
      },
      "execution_count": 5,
      "outputs": [
        {
          "output_type": "execute_result",
          "data": {
            "text/plain": [
              "<pymongo.results.InsertOneResult at 0x7f03a44f8490>"
            ]
          },
          "metadata": {},
          "execution_count": 5
        }
      ]
    },
    {
      "cell_type": "code",
      "source": [
        "colecao.insert_many([{'nome':'Suzana','idade':31},{'nome':'Paulo','idade':23},{'idade':60}])"
      ],
      "metadata": {
        "colab": {
          "base_uri": "https://localhost:8080/"
        },
        "id": "INXNQRMQN11N",
        "outputId": "d095a913-1004-4a5b-8815-37f528cb5e7f"
      },
      "execution_count": 6,
      "outputs": [
        {
          "output_type": "execute_result",
          "data": {
            "text/plain": [
              "<pymongo.results.InsertManyResult at 0x7f03a2661e50>"
            ]
          },
          "metadata": {},
          "execution_count": 6
        }
      ]
    },
    {
      "cell_type": "code",
      "source": [
        "#Retorna o id do documento criado\n",
        "dados = {'nome':'Victor','idade':27}\n",
        "info = colecao.insert_one(dados)\n",
        "print(info.inserted_id)"
      ],
      "metadata": {
        "colab": {
          "base_uri": "https://localhost:8080/"
        },
        "id": "cnv29o4EVewR",
        "outputId": "7048784f-68a7-4d14-a42e-69db3edd1a6d"
      },
      "execution_count": 7,
      "outputs": [
        {
          "output_type": "stream",
          "name": "stdout",
          "text": [
            "638a0d4f51fb7add13550207\n"
          ]
        }
      ]
    },
    {
      "cell_type": "code",
      "source": [
        "n = 10\n",
        "y = 20\n",
        "\n",
        "while n<50:\n",
        "  dados = {'nome':'cliente '+str(y), 'idade':n}\n",
        "  i = colecao.insert_one(dados)\n",
        "  n+=1\n",
        "  y-=1\n",
        "  print(i.inserted_id)"
      ],
      "metadata": {
        "id": "QXmc7QjvW62x",
        "colab": {
          "base_uri": "https://localhost:8080/"
        },
        "outputId": "5f97f1c1-a1f4-4612-d9f4-0f1252afa6cb"
      },
      "execution_count": 8,
      "outputs": [
        {
          "output_type": "stream",
          "name": "stdout",
          "text": [
            "638a0d4f51fb7add13550208\n",
            "638a0d5051fb7add13550209\n",
            "638a0d5051fb7add1355020a\n",
            "638a0d5051fb7add1355020b\n",
            "638a0d5051fb7add1355020c\n",
            "638a0d5051fb7add1355020d\n",
            "638a0d5051fb7add1355020e\n",
            "638a0d5051fb7add1355020f\n",
            "638a0d5151fb7add13550210\n",
            "638a0d5151fb7add13550211\n",
            "638a0d5151fb7add13550212\n",
            "638a0d5151fb7add13550213\n",
            "638a0d5151fb7add13550214\n",
            "638a0d5151fb7add13550215\n",
            "638a0d5151fb7add13550216\n",
            "638a0d5251fb7add13550217\n",
            "638a0d5251fb7add13550218\n",
            "638a0d5251fb7add13550219\n",
            "638a0d5251fb7add1355021a\n",
            "638a0d5251fb7add1355021b\n",
            "638a0d5251fb7add1355021c\n",
            "638a0d5251fb7add1355021d\n",
            "638a0d5351fb7add1355021e\n",
            "638a0d5351fb7add1355021f\n",
            "638a0d5351fb7add13550220\n",
            "638a0d5351fb7add13550221\n",
            "638a0d5351fb7add13550222\n",
            "638a0d5351fb7add13550223\n",
            "638a0d5351fb7add13550224\n",
            "638a0d5451fb7add13550225\n",
            "638a0d5451fb7add13550226\n",
            "638a0d5451fb7add13550227\n",
            "638a0d5451fb7add13550228\n",
            "638a0d5451fb7add13550229\n",
            "638a0d5451fb7add1355022a\n",
            "638a0d5451fb7add1355022b\n",
            "638a0d5551fb7add1355022c\n",
            "638a0d5551fb7add1355022d\n",
            "638a0d5551fb7add1355022e\n",
            "638a0d5551fb7add1355022f\n"
          ]
        }
      ]
    },
    {
      "cell_type": "markdown",
      "source": [
        "##Read"
      ],
      "metadata": {
        "id": "GllgzBYbKKnK"
      }
    },
    {
      "cell_type": "code",
      "source": [
        "#Buscar arquivos em toda a coleção\n",
        "for x in colecao.find():\n",
        "  print(x)"
      ],
      "metadata": {
        "id": "c5WlT3wnKMKU",
        "colab": {
          "base_uri": "https://localhost:8080/"
        },
        "outputId": "1fb3307a-4f55-4eaa-eaae-6eae1568e938"
      },
      "execution_count": 9,
      "outputs": [
        {
          "output_type": "stream",
          "name": "stdout",
          "text": [
            "{'_id': ObjectId('638a0d4f51fb7add13550203'), 'nome': 'cliente 12', 'idade': 19}\n",
            "{'_id': ObjectId('638a0d4f51fb7add13550204'), 'nome': 'Suzana', 'idade': 31}\n",
            "{'_id': ObjectId('638a0d4f51fb7add13550205'), 'nome': 'Paulo', 'idade': 23}\n",
            "{'_id': ObjectId('638a0d4f51fb7add13550206'), 'idade': 60}\n",
            "{'_id': ObjectId('638a0d4f51fb7add13550207'), 'nome': 'Victor', 'idade': 27}\n",
            "{'_id': ObjectId('638a0d4f51fb7add13550208'), 'nome': 'cliente 20', 'idade': 10}\n",
            "{'_id': ObjectId('638a0d5051fb7add13550209'), 'nome': 'cliente 19', 'idade': 11}\n",
            "{'_id': ObjectId('638a0d5051fb7add1355020a'), 'nome': 'cliente 18', 'idade': 12}\n",
            "{'_id': ObjectId('638a0d5051fb7add1355020b'), 'nome': 'cliente 17', 'idade': 13}\n",
            "{'_id': ObjectId('638a0d5051fb7add1355020c'), 'nome': 'cliente 16', 'idade': 14}\n",
            "{'_id': ObjectId('638a0d5051fb7add1355020d'), 'nome': 'cliente 15', 'idade': 15}\n",
            "{'_id': ObjectId('638a0d5051fb7add1355020e'), 'nome': 'cliente 14', 'idade': 16}\n",
            "{'_id': ObjectId('638a0d5051fb7add1355020f'), 'nome': 'cliente 13', 'idade': 17}\n",
            "{'_id': ObjectId('638a0d5151fb7add13550210'), 'nome': 'cliente 12', 'idade': 18}\n",
            "{'_id': ObjectId('638a0d5151fb7add13550211'), 'nome': 'cliente 11', 'idade': 19}\n",
            "{'_id': ObjectId('638a0d5151fb7add13550212'), 'nome': 'cliente 10', 'idade': 20}\n",
            "{'_id': ObjectId('638a0d5151fb7add13550213'), 'nome': 'cliente 9', 'idade': 21}\n",
            "{'_id': ObjectId('638a0d5151fb7add13550214'), 'nome': 'cliente 8', 'idade': 22}\n",
            "{'_id': ObjectId('638a0d5151fb7add13550215'), 'nome': 'cliente 7', 'idade': 23}\n",
            "{'_id': ObjectId('638a0d5151fb7add13550216'), 'nome': 'cliente 6', 'idade': 24}\n",
            "{'_id': ObjectId('638a0d5251fb7add13550217'), 'nome': 'cliente 5', 'idade': 25}\n",
            "{'_id': ObjectId('638a0d5251fb7add13550218'), 'nome': 'cliente 4', 'idade': 26}\n",
            "{'_id': ObjectId('638a0d5251fb7add13550219'), 'nome': 'cliente 3', 'idade': 27}\n",
            "{'_id': ObjectId('638a0d5251fb7add1355021a'), 'nome': 'cliente 2', 'idade': 28}\n",
            "{'_id': ObjectId('638a0d5251fb7add1355021b'), 'nome': 'cliente 1', 'idade': 29}\n",
            "{'_id': ObjectId('638a0d5251fb7add1355021c'), 'nome': 'cliente 0', 'idade': 30}\n",
            "{'_id': ObjectId('638a0d5251fb7add1355021d'), 'nome': 'cliente -1', 'idade': 31}\n",
            "{'_id': ObjectId('638a0d5351fb7add1355021e'), 'nome': 'cliente -2', 'idade': 32}\n",
            "{'_id': ObjectId('638a0d5351fb7add1355021f'), 'nome': 'cliente -3', 'idade': 33}\n",
            "{'_id': ObjectId('638a0d5351fb7add13550220'), 'nome': 'cliente -4', 'idade': 34}\n",
            "{'_id': ObjectId('638a0d5351fb7add13550221'), 'nome': 'cliente -5', 'idade': 35}\n",
            "{'_id': ObjectId('638a0d5351fb7add13550222'), 'nome': 'cliente -6', 'idade': 36}\n",
            "{'_id': ObjectId('638a0d5351fb7add13550223'), 'nome': 'cliente -7', 'idade': 37}\n",
            "{'_id': ObjectId('638a0d5351fb7add13550224'), 'nome': 'cliente -8', 'idade': 38}\n",
            "{'_id': ObjectId('638a0d5451fb7add13550225'), 'nome': 'cliente -9', 'idade': 39}\n",
            "{'_id': ObjectId('638a0d5451fb7add13550226'), 'nome': 'cliente -10', 'idade': 40}\n",
            "{'_id': ObjectId('638a0d5451fb7add13550227'), 'nome': 'cliente -11', 'idade': 41}\n",
            "{'_id': ObjectId('638a0d5451fb7add13550228'), 'nome': 'cliente -12', 'idade': 42}\n",
            "{'_id': ObjectId('638a0d5451fb7add13550229'), 'nome': 'cliente -13', 'idade': 43}\n",
            "{'_id': ObjectId('638a0d5451fb7add1355022a'), 'nome': 'cliente -14', 'idade': 44}\n",
            "{'_id': ObjectId('638a0d5451fb7add1355022b'), 'nome': 'cliente -15', 'idade': 45}\n",
            "{'_id': ObjectId('638a0d5551fb7add1355022c'), 'nome': 'cliente -16', 'idade': 46}\n",
            "{'_id': ObjectId('638a0d5551fb7add1355022d'), 'nome': 'cliente -17', 'idade': 47}\n",
            "{'_id': ObjectId('638a0d5551fb7add1355022e'), 'nome': 'cliente -18', 'idade': 48}\n",
            "{'_id': ObjectId('638a0d5551fb7add1355022f'), 'nome': 'cliente -19', 'idade': 49}\n"
          ]
        }
      ]
    },
    {
      "cell_type": "markdown",
      "source": [
        "`$lt = Menor que | $gt = maior que | $lte = Menor igual | $gte = Maior e igual | $ne = Diferente`"
      ],
      "metadata": {
        "id": "UbGz39VNcT8U"
      }
    },
    {
      "cell_type": "code",
      "source": [
        "#Localizar por parametro especifico\n",
        "busca = {'idade':{'$gte':18}}\n",
        "\n",
        "doc = colecao.find(busca)\n",
        "\n",
        "for x in doc:\n",
        "  print(x)"
      ],
      "metadata": {
        "colab": {
          "base_uri": "https://localhost:8080/"
        },
        "id": "x09-WAmYY2SL",
        "outputId": "7ed3f8a4-b271-41e6-886f-6cdcd998f668"
      },
      "execution_count": 10,
      "outputs": [
        {
          "output_type": "stream",
          "name": "stdout",
          "text": [
            "{'_id': ObjectId('638a0d4f51fb7add13550203'), 'nome': 'cliente 12', 'idade': 19}\n",
            "{'_id': ObjectId('638a0d4f51fb7add13550204'), 'nome': 'Suzana', 'idade': 31}\n",
            "{'_id': ObjectId('638a0d4f51fb7add13550205'), 'nome': 'Paulo', 'idade': 23}\n",
            "{'_id': ObjectId('638a0d4f51fb7add13550206'), 'idade': 60}\n",
            "{'_id': ObjectId('638a0d4f51fb7add13550207'), 'nome': 'Victor', 'idade': 27}\n",
            "{'_id': ObjectId('638a0d5151fb7add13550210'), 'nome': 'cliente 12', 'idade': 18}\n",
            "{'_id': ObjectId('638a0d5151fb7add13550211'), 'nome': 'cliente 11', 'idade': 19}\n",
            "{'_id': ObjectId('638a0d5151fb7add13550212'), 'nome': 'cliente 10', 'idade': 20}\n",
            "{'_id': ObjectId('638a0d5151fb7add13550213'), 'nome': 'cliente 9', 'idade': 21}\n",
            "{'_id': ObjectId('638a0d5151fb7add13550214'), 'nome': 'cliente 8', 'idade': 22}\n",
            "{'_id': ObjectId('638a0d5151fb7add13550215'), 'nome': 'cliente 7', 'idade': 23}\n",
            "{'_id': ObjectId('638a0d5151fb7add13550216'), 'nome': 'cliente 6', 'idade': 24}\n",
            "{'_id': ObjectId('638a0d5251fb7add13550217'), 'nome': 'cliente 5', 'idade': 25}\n",
            "{'_id': ObjectId('638a0d5251fb7add13550218'), 'nome': 'cliente 4', 'idade': 26}\n",
            "{'_id': ObjectId('638a0d5251fb7add13550219'), 'nome': 'cliente 3', 'idade': 27}\n",
            "{'_id': ObjectId('638a0d5251fb7add1355021a'), 'nome': 'cliente 2', 'idade': 28}\n",
            "{'_id': ObjectId('638a0d5251fb7add1355021b'), 'nome': 'cliente 1', 'idade': 29}\n",
            "{'_id': ObjectId('638a0d5251fb7add1355021c'), 'nome': 'cliente 0', 'idade': 30}\n",
            "{'_id': ObjectId('638a0d5251fb7add1355021d'), 'nome': 'cliente -1', 'idade': 31}\n",
            "{'_id': ObjectId('638a0d5351fb7add1355021e'), 'nome': 'cliente -2', 'idade': 32}\n",
            "{'_id': ObjectId('638a0d5351fb7add1355021f'), 'nome': 'cliente -3', 'idade': 33}\n",
            "{'_id': ObjectId('638a0d5351fb7add13550220'), 'nome': 'cliente -4', 'idade': 34}\n",
            "{'_id': ObjectId('638a0d5351fb7add13550221'), 'nome': 'cliente -5', 'idade': 35}\n",
            "{'_id': ObjectId('638a0d5351fb7add13550222'), 'nome': 'cliente -6', 'idade': 36}\n",
            "{'_id': ObjectId('638a0d5351fb7add13550223'), 'nome': 'cliente -7', 'idade': 37}\n",
            "{'_id': ObjectId('638a0d5351fb7add13550224'), 'nome': 'cliente -8', 'idade': 38}\n",
            "{'_id': ObjectId('638a0d5451fb7add13550225'), 'nome': 'cliente -9', 'idade': 39}\n",
            "{'_id': ObjectId('638a0d5451fb7add13550226'), 'nome': 'cliente -10', 'idade': 40}\n",
            "{'_id': ObjectId('638a0d5451fb7add13550227'), 'nome': 'cliente -11', 'idade': 41}\n",
            "{'_id': ObjectId('638a0d5451fb7add13550228'), 'nome': 'cliente -12', 'idade': 42}\n",
            "{'_id': ObjectId('638a0d5451fb7add13550229'), 'nome': 'cliente -13', 'idade': 43}\n",
            "{'_id': ObjectId('638a0d5451fb7add1355022a'), 'nome': 'cliente -14', 'idade': 44}\n",
            "{'_id': ObjectId('638a0d5451fb7add1355022b'), 'nome': 'cliente -15', 'idade': 45}\n",
            "{'_id': ObjectId('638a0d5551fb7add1355022c'), 'nome': 'cliente -16', 'idade': 46}\n",
            "{'_id': ObjectId('638a0d5551fb7add1355022d'), 'nome': 'cliente -17', 'idade': 47}\n",
            "{'_id': ObjectId('638a0d5551fb7add1355022e'), 'nome': 'cliente -18', 'idade': 48}\n",
            "{'_id': ObjectId('638a0d5551fb7add1355022f'), 'nome': 'cliente -19', 'idade': 49}\n"
          ]
        }
      ]
    },
    {
      "cell_type": "code",
      "source": [
        "#Localizar por parametro exato\n",
        "busca = {'idade':20}\n",
        "\n",
        "doc = colecao.find(busca)\n",
        "\n",
        "for x in doc:\n",
        "  print(x)"
      ],
      "metadata": {
        "colab": {
          "base_uri": "https://localhost:8080/"
        },
        "id": "IYo1dSVxm4q7",
        "outputId": "9cee382b-6f4c-409f-8ba3-3fbef969a4a3"
      },
      "execution_count": 11,
      "outputs": [
        {
          "output_type": "stream",
          "name": "stdout",
          "text": [
            "{'_id': ObjectId('638a0d5151fb7add13550212'), 'nome': 'cliente 10', 'idade': 20}\n"
          ]
        }
      ]
    },
    {
      "cell_type": "code",
      "source": [
        "busca = {'nome':'cliente 12'}\n",
        "\n",
        "doc = colecao.find(busca)\n",
        "\n",
        "for x in doc:\n",
        "  print(x)"
      ],
      "metadata": {
        "id": "nzXZNcbLnW8i",
        "colab": {
          "base_uri": "https://localhost:8080/"
        },
        "outputId": "95bb3f9e-0afa-4959-b48d-8607d631a895"
      },
      "execution_count": 12,
      "outputs": [
        {
          "output_type": "stream",
          "name": "stdout",
          "text": [
            "{'_id': ObjectId('638a0d4f51fb7add13550203'), 'nome': 'cliente 12', 'idade': 19}\n",
            "{'_id': ObjectId('638a0d5151fb7add13550210'), 'nome': 'cliente 12', 'idade': 18}\n"
          ]
        }
      ]
    },
    {
      "cell_type": "code",
      "source": [
        "busca = {'nome':{'$in' : ['cliente 10','cliente 2','cliente 3']}}\n",
        "\n",
        "doc = colecao.find(busca)\n",
        "\n",
        "for x in doc:\n",
        "  print(x)"
      ],
      "metadata": {
        "colab": {
          "base_uri": "https://localhost:8080/"
        },
        "id": "CvtBhRPqoL0C",
        "outputId": "62367c5f-7f58-4196-9d6a-cb843a9c6e5a"
      },
      "execution_count": 13,
      "outputs": [
        {
          "output_type": "stream",
          "name": "stdout",
          "text": [
            "{'_id': ObjectId('638a0d5151fb7add13550212'), 'nome': 'cliente 10', 'idade': 20}\n",
            "{'_id': ObjectId('638a0d5251fb7add13550219'), 'nome': 'cliente 3', 'idade': 27}\n",
            "{'_id': ObjectId('638a0d5251fb7add1355021a'), 'nome': 'cliente 2', 'idade': 28}\n"
          ]
        }
      ]
    },
    {
      "cell_type": "code",
      "source": [
        "busca = {'idade':{'$in' : [18 , 19]}}\n",
        "\n",
        "doc = colecao.find(busca)\n",
        "\n",
        "for x in doc:\n",
        "  print(x)"
      ],
      "metadata": {
        "colab": {
          "base_uri": "https://localhost:8080/"
        },
        "id": "KqUbGXTfpLuB",
        "outputId": "04152bbf-dde7-4342-fb9f-16415d9e4189"
      },
      "execution_count": 14,
      "outputs": [
        {
          "output_type": "stream",
          "name": "stdout",
          "text": [
            "{'_id': ObjectId('638a0d4f51fb7add13550203'), 'nome': 'cliente 12', 'idade': 19}\n",
            "{'_id': ObjectId('638a0d5151fb7add13550210'), 'nome': 'cliente 12', 'idade': 18}\n",
            "{'_id': ObjectId('638a0d5151fb7add13550211'), 'nome': 'cliente 11', 'idade': 19}\n"
          ]
        }
      ]
    },
    {
      "cell_type": "code",
      "source": [
        "busca = {'nome':'cliente 12','idade': 18}\n",
        "\n",
        "doc = colecao.find(busca)\n",
        "\n",
        "for x in doc:\n",
        "  print(x)"
      ],
      "metadata": {
        "colab": {
          "base_uri": "https://localhost:8080/"
        },
        "id": "gHEtDFsrp2_6",
        "outputId": "737a50aa-0073-40bb-f853-5cb0bfb66f32"
      },
      "execution_count": 15,
      "outputs": [
        {
          "output_type": "stream",
          "name": "stdout",
          "text": [
            "{'_id': ObjectId('638a0d5151fb7add13550210'), 'nome': 'cliente 12', 'idade': 18}\n"
          ]
        }
      ]
    },
    {
      "cell_type": "code",
      "source": [
        "busca = {'$or':[{'nome':'IGOR GONDIM'},{'idade':25}]}\n",
        "\n",
        "doc = colecao.find(busca)\n",
        "\n",
        "for x in doc:\n",
        "  print(x)"
      ],
      "metadata": {
        "colab": {
          "base_uri": "https://localhost:8080/"
        },
        "id": "-0kJupfOszVh",
        "outputId": "7b929665-c384-44f2-d933-60e530da919b"
      },
      "execution_count": 16,
      "outputs": [
        {
          "output_type": "stream",
          "name": "stdout",
          "text": [
            "{'_id': ObjectId('638a0d5251fb7add13550217'), 'nome': 'cliente 5', 'idade': 25}\n"
          ]
        }
      ]
    },
    {
      "cell_type": "markdown",
      "source": [
        "##Update | Atualização"
      ],
      "metadata": {
        "id": "O4tw8MfixavB"
      }
    },
    {
      "cell_type": "code",
      "source": [
        "busca = {'idade':{'$gte':18}}\n",
        "\n",
        "modifica = {'$set':{'emancipado':'SIM'}}\n",
        "\n",
        "colecao.update_many(busca , modifica)"
      ],
      "metadata": {
        "colab": {
          "base_uri": "https://localhost:8080/"
        },
        "id": "yRPLDp9axe84",
        "outputId": "237430e6-c65a-40b7-e650-1226a2c58093"
      },
      "execution_count": 17,
      "outputs": [
        {
          "output_type": "execute_result",
          "data": {
            "text/plain": [
              "<pymongo.results.UpdateResult at 0x7f03a267a4f0>"
            ]
          },
          "metadata": {},
          "execution_count": 17
        }
      ]
    },
    {
      "cell_type": "code",
      "source": [
        "#atualização Simples\n",
        "busca = {'idade':{'$lt':18}}\n",
        "\n",
        "modifica = {'$set':{'emancipado':'NAO'}}\n",
        "\n",
        "colecao.update_many(busca , modifica)"
      ],
      "metadata": {
        "colab": {
          "base_uri": "https://localhost:8080/"
        },
        "id": "Sj8mUJ9y092A",
        "outputId": "896e0419-1143-4acc-ba8c-04ff6d64dae7"
      },
      "execution_count": 18,
      "outputs": [
        {
          "output_type": "execute_result",
          "data": {
            "text/plain": [
              "<pymongo.results.UpdateResult at 0x7f03a0e1b520>"
            ]
          },
          "metadata": {},
          "execution_count": 18
        }
      ]
    },
    {
      "cell_type": "code",
      "source": [
        "#atualização com or\n",
        "busca = {'$or':[{'nome':'ANDRÉ'},{'idade':27}]}\n",
        "\n",
        "modifica = {'$set':{'achou':'SIM'}}\n",
        "\n",
        "colecao.update_many(busca , modifica)"
      ],
      "metadata": {
        "colab": {
          "base_uri": "https://localhost:8080/"
        },
        "id": "R422ocoL3Yjh",
        "outputId": "c3b7d9e5-7f78-4ad7-b7a0-c1aecaa624f5"
      },
      "execution_count": 19,
      "outputs": [
        {
          "output_type": "execute_result",
          "data": {
            "text/plain": [
              "<pymongo.results.UpdateResult at 0x7f03a0e18c10>"
            ]
          },
          "metadata": {},
          "execution_count": 19
        }
      ]
    },
    {
      "cell_type": "code",
      "source": [
        "\n",
        "busca = {'idade':{'$gte':18}}\n",
        "\n",
        "doc = colecao.find(busca)\n",
        "\n",
        "for x in doc:\n",
        "  print(x)"
      ],
      "metadata": {
        "colab": {
          "base_uri": "https://localhost:8080/"
        },
        "id": "-z5FSfZE0VCh",
        "outputId": "37d6d82e-146c-41b6-c29d-0e3c2895adbe"
      },
      "execution_count": 20,
      "outputs": [
        {
          "output_type": "stream",
          "name": "stdout",
          "text": [
            "{'_id': ObjectId('638a0d4f51fb7add13550203'), 'nome': 'cliente 12', 'idade': 19, 'emancipado': 'SIM'}\n",
            "{'_id': ObjectId('638a0d4f51fb7add13550204'), 'nome': 'Suzana', 'idade': 31, 'emancipado': 'SIM'}\n",
            "{'_id': ObjectId('638a0d4f51fb7add13550205'), 'nome': 'Paulo', 'idade': 23, 'emancipado': 'SIM'}\n",
            "{'_id': ObjectId('638a0d4f51fb7add13550206'), 'idade': 60, 'emancipado': 'SIM'}\n",
            "{'_id': ObjectId('638a0d4f51fb7add13550207'), 'nome': 'Victor', 'idade': 27, 'emancipado': 'SIM', 'achou': 'SIM'}\n",
            "{'_id': ObjectId('638a0d5151fb7add13550210'), 'nome': 'cliente 12', 'idade': 18, 'emancipado': 'SIM'}\n",
            "{'_id': ObjectId('638a0d5151fb7add13550211'), 'nome': 'cliente 11', 'idade': 19, 'emancipado': 'SIM'}\n",
            "{'_id': ObjectId('638a0d5151fb7add13550212'), 'nome': 'cliente 10', 'idade': 20, 'emancipado': 'SIM'}\n",
            "{'_id': ObjectId('638a0d5151fb7add13550213'), 'nome': 'cliente 9', 'idade': 21, 'emancipado': 'SIM'}\n",
            "{'_id': ObjectId('638a0d5151fb7add13550214'), 'nome': 'cliente 8', 'idade': 22, 'emancipado': 'SIM'}\n",
            "{'_id': ObjectId('638a0d5151fb7add13550215'), 'nome': 'cliente 7', 'idade': 23, 'emancipado': 'SIM'}\n",
            "{'_id': ObjectId('638a0d5151fb7add13550216'), 'nome': 'cliente 6', 'idade': 24, 'emancipado': 'SIM'}\n",
            "{'_id': ObjectId('638a0d5251fb7add13550217'), 'nome': 'cliente 5', 'idade': 25, 'emancipado': 'SIM'}\n",
            "{'_id': ObjectId('638a0d5251fb7add13550218'), 'nome': 'cliente 4', 'idade': 26, 'emancipado': 'SIM'}\n",
            "{'_id': ObjectId('638a0d5251fb7add13550219'), 'nome': 'cliente 3', 'idade': 27, 'emancipado': 'SIM', 'achou': 'SIM'}\n",
            "{'_id': ObjectId('638a0d5251fb7add1355021a'), 'nome': 'cliente 2', 'idade': 28, 'emancipado': 'SIM'}\n",
            "{'_id': ObjectId('638a0d5251fb7add1355021b'), 'nome': 'cliente 1', 'idade': 29, 'emancipado': 'SIM'}\n",
            "{'_id': ObjectId('638a0d5251fb7add1355021c'), 'nome': 'cliente 0', 'idade': 30, 'emancipado': 'SIM'}\n",
            "{'_id': ObjectId('638a0d5251fb7add1355021d'), 'nome': 'cliente -1', 'idade': 31, 'emancipado': 'SIM'}\n",
            "{'_id': ObjectId('638a0d5351fb7add1355021e'), 'nome': 'cliente -2', 'idade': 32, 'emancipado': 'SIM'}\n",
            "{'_id': ObjectId('638a0d5351fb7add1355021f'), 'nome': 'cliente -3', 'idade': 33, 'emancipado': 'SIM'}\n",
            "{'_id': ObjectId('638a0d5351fb7add13550220'), 'nome': 'cliente -4', 'idade': 34, 'emancipado': 'SIM'}\n",
            "{'_id': ObjectId('638a0d5351fb7add13550221'), 'nome': 'cliente -5', 'idade': 35, 'emancipado': 'SIM'}\n",
            "{'_id': ObjectId('638a0d5351fb7add13550222'), 'nome': 'cliente -6', 'idade': 36, 'emancipado': 'SIM'}\n",
            "{'_id': ObjectId('638a0d5351fb7add13550223'), 'nome': 'cliente -7', 'idade': 37, 'emancipado': 'SIM'}\n",
            "{'_id': ObjectId('638a0d5351fb7add13550224'), 'nome': 'cliente -8', 'idade': 38, 'emancipado': 'SIM'}\n",
            "{'_id': ObjectId('638a0d5451fb7add13550225'), 'nome': 'cliente -9', 'idade': 39, 'emancipado': 'SIM'}\n",
            "{'_id': ObjectId('638a0d5451fb7add13550226'), 'nome': 'cliente -10', 'idade': 40, 'emancipado': 'SIM'}\n",
            "{'_id': ObjectId('638a0d5451fb7add13550227'), 'nome': 'cliente -11', 'idade': 41, 'emancipado': 'SIM'}\n",
            "{'_id': ObjectId('638a0d5451fb7add13550228'), 'nome': 'cliente -12', 'idade': 42, 'emancipado': 'SIM'}\n",
            "{'_id': ObjectId('638a0d5451fb7add13550229'), 'nome': 'cliente -13', 'idade': 43, 'emancipado': 'SIM'}\n",
            "{'_id': ObjectId('638a0d5451fb7add1355022a'), 'nome': 'cliente -14', 'idade': 44, 'emancipado': 'SIM'}\n",
            "{'_id': ObjectId('638a0d5451fb7add1355022b'), 'nome': 'cliente -15', 'idade': 45, 'emancipado': 'SIM'}\n",
            "{'_id': ObjectId('638a0d5551fb7add1355022c'), 'nome': 'cliente -16', 'idade': 46, 'emancipado': 'SIM'}\n",
            "{'_id': ObjectId('638a0d5551fb7add1355022d'), 'nome': 'cliente -17', 'idade': 47, 'emancipado': 'SIM'}\n",
            "{'_id': ObjectId('638a0d5551fb7add1355022e'), 'nome': 'cliente -18', 'idade': 48, 'emancipado': 'SIM'}\n",
            "{'_id': ObjectId('638a0d5551fb7add1355022f'), 'nome': 'cliente -19', 'idade': 49, 'emancipado': 'SIM'}\n"
          ]
        }
      ]
    },
    {
      "cell_type": "markdown",
      "source": [
        "##Delete | APAGAR ou Deletar"
      ],
      "metadata": {
        "id": "bvC9-dCZ41kX"
      }
    },
    {
      "cell_type": "code",
      "source": [
        "colecao.delete_one({'nome':'IGOR GONDIM'})"
      ],
      "metadata": {
        "colab": {
          "base_uri": "https://localhost:8080/"
        },
        "id": "Q-O5G9k_45NP",
        "outputId": "cd710c2c-4042-4327-805c-79444a980a8a"
      },
      "execution_count": 21,
      "outputs": [
        {
          "output_type": "execute_result",
          "data": {
            "text/plain": [
              "<pymongo.results.DeleteResult at 0x7f03a0e28040>"
            ]
          },
          "metadata": {},
          "execution_count": 21
        }
      ]
    },
    {
      "cell_type": "code",
      "source": [
        "busca = {'idade':{'$gte':18}}\n",
        "\n",
        "doc = colecao.find(busca)\n",
        "\n",
        "for x in doc:\n",
        "  print(x)"
      ],
      "metadata": {
        "colab": {
          "base_uri": "https://localhost:8080/"
        },
        "id": "RJOLGt9a5_3n",
        "outputId": "fb671b37-1e5c-46a2-b689-f74b0b7caca0"
      },
      "execution_count": 22,
      "outputs": [
        {
          "output_type": "stream",
          "name": "stdout",
          "text": [
            "{'_id': ObjectId('638a0d4f51fb7add13550203'), 'nome': 'cliente 12', 'idade': 19, 'emancipado': 'SIM'}\n",
            "{'_id': ObjectId('638a0d4f51fb7add13550204'), 'nome': 'Suzana', 'idade': 31, 'emancipado': 'SIM'}\n",
            "{'_id': ObjectId('638a0d4f51fb7add13550205'), 'nome': 'Paulo', 'idade': 23, 'emancipado': 'SIM'}\n",
            "{'_id': ObjectId('638a0d4f51fb7add13550206'), 'idade': 60, 'emancipado': 'SIM'}\n",
            "{'_id': ObjectId('638a0d4f51fb7add13550207'), 'nome': 'Victor', 'idade': 27, 'emancipado': 'SIM', 'achou': 'SIM'}\n",
            "{'_id': ObjectId('638a0d5151fb7add13550210'), 'nome': 'cliente 12', 'idade': 18, 'emancipado': 'SIM'}\n",
            "{'_id': ObjectId('638a0d5151fb7add13550211'), 'nome': 'cliente 11', 'idade': 19, 'emancipado': 'SIM'}\n",
            "{'_id': ObjectId('638a0d5151fb7add13550212'), 'nome': 'cliente 10', 'idade': 20, 'emancipado': 'SIM'}\n",
            "{'_id': ObjectId('638a0d5151fb7add13550213'), 'nome': 'cliente 9', 'idade': 21, 'emancipado': 'SIM'}\n",
            "{'_id': ObjectId('638a0d5151fb7add13550214'), 'nome': 'cliente 8', 'idade': 22, 'emancipado': 'SIM'}\n",
            "{'_id': ObjectId('638a0d5151fb7add13550215'), 'nome': 'cliente 7', 'idade': 23, 'emancipado': 'SIM'}\n",
            "{'_id': ObjectId('638a0d5151fb7add13550216'), 'nome': 'cliente 6', 'idade': 24, 'emancipado': 'SIM'}\n",
            "{'_id': ObjectId('638a0d5251fb7add13550217'), 'nome': 'cliente 5', 'idade': 25, 'emancipado': 'SIM'}\n",
            "{'_id': ObjectId('638a0d5251fb7add13550218'), 'nome': 'cliente 4', 'idade': 26, 'emancipado': 'SIM'}\n",
            "{'_id': ObjectId('638a0d5251fb7add13550219'), 'nome': 'cliente 3', 'idade': 27, 'emancipado': 'SIM', 'achou': 'SIM'}\n",
            "{'_id': ObjectId('638a0d5251fb7add1355021a'), 'nome': 'cliente 2', 'idade': 28, 'emancipado': 'SIM'}\n",
            "{'_id': ObjectId('638a0d5251fb7add1355021b'), 'nome': 'cliente 1', 'idade': 29, 'emancipado': 'SIM'}\n",
            "{'_id': ObjectId('638a0d5251fb7add1355021c'), 'nome': 'cliente 0', 'idade': 30, 'emancipado': 'SIM'}\n",
            "{'_id': ObjectId('638a0d5251fb7add1355021d'), 'nome': 'cliente -1', 'idade': 31, 'emancipado': 'SIM'}\n",
            "{'_id': ObjectId('638a0d5351fb7add1355021e'), 'nome': 'cliente -2', 'idade': 32, 'emancipado': 'SIM'}\n",
            "{'_id': ObjectId('638a0d5351fb7add1355021f'), 'nome': 'cliente -3', 'idade': 33, 'emancipado': 'SIM'}\n",
            "{'_id': ObjectId('638a0d5351fb7add13550220'), 'nome': 'cliente -4', 'idade': 34, 'emancipado': 'SIM'}\n",
            "{'_id': ObjectId('638a0d5351fb7add13550221'), 'nome': 'cliente -5', 'idade': 35, 'emancipado': 'SIM'}\n",
            "{'_id': ObjectId('638a0d5351fb7add13550222'), 'nome': 'cliente -6', 'idade': 36, 'emancipado': 'SIM'}\n",
            "{'_id': ObjectId('638a0d5351fb7add13550223'), 'nome': 'cliente -7', 'idade': 37, 'emancipado': 'SIM'}\n",
            "{'_id': ObjectId('638a0d5351fb7add13550224'), 'nome': 'cliente -8', 'idade': 38, 'emancipado': 'SIM'}\n",
            "{'_id': ObjectId('638a0d5451fb7add13550225'), 'nome': 'cliente -9', 'idade': 39, 'emancipado': 'SIM'}\n",
            "{'_id': ObjectId('638a0d5451fb7add13550226'), 'nome': 'cliente -10', 'idade': 40, 'emancipado': 'SIM'}\n",
            "{'_id': ObjectId('638a0d5451fb7add13550227'), 'nome': 'cliente -11', 'idade': 41, 'emancipado': 'SIM'}\n",
            "{'_id': ObjectId('638a0d5451fb7add13550228'), 'nome': 'cliente -12', 'idade': 42, 'emancipado': 'SIM'}\n",
            "{'_id': ObjectId('638a0d5451fb7add13550229'), 'nome': 'cliente -13', 'idade': 43, 'emancipado': 'SIM'}\n",
            "{'_id': ObjectId('638a0d5451fb7add1355022a'), 'nome': 'cliente -14', 'idade': 44, 'emancipado': 'SIM'}\n",
            "{'_id': ObjectId('638a0d5451fb7add1355022b'), 'nome': 'cliente -15', 'idade': 45, 'emancipado': 'SIM'}\n",
            "{'_id': ObjectId('638a0d5551fb7add1355022c'), 'nome': 'cliente -16', 'idade': 46, 'emancipado': 'SIM'}\n",
            "{'_id': ObjectId('638a0d5551fb7add1355022d'), 'nome': 'cliente -17', 'idade': 47, 'emancipado': 'SIM'}\n",
            "{'_id': ObjectId('638a0d5551fb7add1355022e'), 'nome': 'cliente -18', 'idade': 48, 'emancipado': 'SIM'}\n",
            "{'_id': ObjectId('638a0d5551fb7add1355022f'), 'nome': 'cliente -19', 'idade': 49, 'emancipado': 'SIM'}\n"
          ]
        }
      ]
    },
    {
      "cell_type": "code",
      "source": [
        "colecao.delete_many({'emancipado':'NAO'})"
      ],
      "metadata": {
        "colab": {
          "base_uri": "https://localhost:8080/"
        },
        "id": "ccY5hMAP6wJw",
        "outputId": "848b9e89-5038-4eca-b964-0591667f57c0"
      },
      "execution_count": 23,
      "outputs": [
        {
          "output_type": "execute_result",
          "data": {
            "text/plain": [
              "<pymongo.results.DeleteResult at 0x7f03a0e1b130>"
            ]
          },
          "metadata": {},
          "execution_count": 23
        }
      ]
    },
    {
      "cell_type": "code",
      "source": [
        "busca = {'idade':{'$lte':18}}\n",
        "\n",
        "doc = colecao.find(busca)\n",
        "\n",
        "for x in doc:\n",
        "  print(x)"
      ],
      "metadata": {
        "colab": {
          "base_uri": "https://localhost:8080/"
        },
        "id": "kWUqNVf466OG",
        "outputId": "d5e6064e-e81f-49bc-fe0d-0d3852595dfb"
      },
      "execution_count": 24,
      "outputs": [
        {
          "output_type": "stream",
          "name": "stdout",
          "text": [
            "{'_id': ObjectId('638a0d5151fb7add13550210'), 'nome': 'cliente 12', 'idade': 18, 'emancipado': 'SIM'}\n"
          ]
        }
      ]
    },
    {
      "cell_type": "code",
      "source": [
        "# a resolver \n",
        "#colecao.delete_one({'_id':'63890eb2d776fa1aa2e04b30'})"
      ],
      "metadata": {
        "id": "Pk1eeguu8Xqv"
      },
      "execution_count": 25,
      "outputs": []
    },
    {
      "cell_type": "code",
      "source": [
        "#Dropa toda a colecao\n",
        "colecao.drop()"
      ],
      "metadata": {
        "id": "jmQor6dAAoo-"
      },
      "execution_count": 26,
      "outputs": []
    },
    {
      "cell_type": "markdown",
      "source": [
        "##Integração com Pandas"
      ],
      "metadata": {
        "id": "QC9XnlQjBcRF"
      }
    },
    {
      "cell_type": "code",
      "source": [
        "import pandas as pd\n",
        "import numpy as np"
      ],
      "metadata": {
        "id": "GerQCu8CBf8t"
      },
      "execution_count": 27,
      "outputs": []
    },
    {
      "cell_type": "markdown",
      "source": [
        "##Extrair do mongo"
      ],
      "metadata": {
        "id": "qykSKtJ_ByHt"
      }
    },
    {
      "cell_type": "code",
      "source": [
        "#Extrair de uma colecao\n",
        "cursor = colecao.find({})\n",
        "dfmongo = pd.DataFrame(list(cursor))"
      ],
      "metadata": {
        "id": "z2GdI3pVB1tl"
      },
      "execution_count": 28,
      "outputs": []
    },
    {
      "cell_type": "code",
      "source": [
        "dfmongo"
      ],
      "metadata": {
        "id": "nqHSszplCpB1",
        "colab": {
          "base_uri": "https://localhost:8080/",
          "height": 0
        },
        "outputId": "fa71b6ba-64ab-47bd-c0af-c73eb63feb76"
      },
      "execution_count": 29,
      "outputs": [
        {
          "output_type": "execute_result",
          "data": {
            "text/plain": [
              "Empty DataFrame\n",
              "Columns: []\n",
              "Index: []"
            ],
            "text/html": [
              "\n",
              "  <div id=\"df-69771a51-da39-4c78-9c8c-7666ee732163\">\n",
              "    <div class=\"colab-df-container\">\n",
              "      <div>\n",
              "<style scoped>\n",
              "    .dataframe tbody tr th:only-of-type {\n",
              "        vertical-align: middle;\n",
              "    }\n",
              "\n",
              "    .dataframe tbody tr th {\n",
              "        vertical-align: top;\n",
              "    }\n",
              "\n",
              "    .dataframe thead th {\n",
              "        text-align: right;\n",
              "    }\n",
              "</style>\n",
              "<table border=\"1\" class=\"dataframe\">\n",
              "  <thead>\n",
              "    <tr style=\"text-align: right;\">\n",
              "      <th></th>\n",
              "    </tr>\n",
              "  </thead>\n",
              "  <tbody>\n",
              "  </tbody>\n",
              "</table>\n",
              "</div>\n",
              "      <button class=\"colab-df-convert\" onclick=\"convertToInteractive('df-69771a51-da39-4c78-9c8c-7666ee732163')\"\n",
              "              title=\"Convert this dataframe to an interactive table.\"\n",
              "              style=\"display:none;\">\n",
              "        \n",
              "  <svg xmlns=\"http://www.w3.org/2000/svg\" height=\"24px\"viewBox=\"0 0 24 24\"\n",
              "       width=\"24px\">\n",
              "    <path d=\"M0 0h24v24H0V0z\" fill=\"none\"/>\n",
              "    <path d=\"M18.56 5.44l.94 2.06.94-2.06 2.06-.94-2.06-.94-.94-2.06-.94 2.06-2.06.94zm-11 1L8.5 8.5l.94-2.06 2.06-.94-2.06-.94L8.5 2.5l-.94 2.06-2.06.94zm10 10l.94 2.06.94-2.06 2.06-.94-2.06-.94-.94-2.06-.94 2.06-2.06.94z\"/><path d=\"M17.41 7.96l-1.37-1.37c-.4-.4-.92-.59-1.43-.59-.52 0-1.04.2-1.43.59L10.3 9.45l-7.72 7.72c-.78.78-.78 2.05 0 2.83L4 21.41c.39.39.9.59 1.41.59.51 0 1.02-.2 1.41-.59l7.78-7.78 2.81-2.81c.8-.78.8-2.07 0-2.86zM5.41 20L4 18.59l7.72-7.72 1.47 1.35L5.41 20z\"/>\n",
              "  </svg>\n",
              "      </button>\n",
              "      \n",
              "  <style>\n",
              "    .colab-df-container {\n",
              "      display:flex;\n",
              "      flex-wrap:wrap;\n",
              "      gap: 12px;\n",
              "    }\n",
              "\n",
              "    .colab-df-convert {\n",
              "      background-color: #E8F0FE;\n",
              "      border: none;\n",
              "      border-radius: 50%;\n",
              "      cursor: pointer;\n",
              "      display: none;\n",
              "      fill: #1967D2;\n",
              "      height: 32px;\n",
              "      padding: 0 0 0 0;\n",
              "      width: 32px;\n",
              "    }\n",
              "\n",
              "    .colab-df-convert:hover {\n",
              "      background-color: #E2EBFA;\n",
              "      box-shadow: 0px 1px 2px rgba(60, 64, 67, 0.3), 0px 1px 3px 1px rgba(60, 64, 67, 0.15);\n",
              "      fill: #174EA6;\n",
              "    }\n",
              "\n",
              "    [theme=dark] .colab-df-convert {\n",
              "      background-color: #3B4455;\n",
              "      fill: #D2E3FC;\n",
              "    }\n",
              "\n",
              "    [theme=dark] .colab-df-convert:hover {\n",
              "      background-color: #434B5C;\n",
              "      box-shadow: 0px 1px 3px 1px rgba(0, 0, 0, 0.15);\n",
              "      filter: drop-shadow(0px 1px 2px rgba(0, 0, 0, 0.3));\n",
              "      fill: #FFFFFF;\n",
              "    }\n",
              "  </style>\n",
              "\n",
              "      <script>\n",
              "        const buttonEl =\n",
              "          document.querySelector('#df-69771a51-da39-4c78-9c8c-7666ee732163 button.colab-df-convert');\n",
              "        buttonEl.style.display =\n",
              "          google.colab.kernel.accessAllowed ? 'block' : 'none';\n",
              "\n",
              "        async function convertToInteractive(key) {\n",
              "          const element = document.querySelector('#df-69771a51-da39-4c78-9c8c-7666ee732163');\n",
              "          const dataTable =\n",
              "            await google.colab.kernel.invokeFunction('convertToInteractive',\n",
              "                                                     [key], {});\n",
              "          if (!dataTable) return;\n",
              "\n",
              "          const docLinkHtml = 'Like what you see? Visit the ' +\n",
              "            '<a target=\"_blank\" href=https://colab.research.google.com/notebooks/data_table.ipynb>data table notebook</a>'\n",
              "            + ' to learn more about interactive tables.';\n",
              "          element.innerHTML = '';\n",
              "          dataTable['output_type'] = 'display_data';\n",
              "          await google.colab.output.renderOutput(dataTable, element);\n",
              "          const docLink = document.createElement('div');\n",
              "          docLink.innerHTML = docLinkHtml;\n",
              "          element.appendChild(docLink);\n",
              "        }\n",
              "      </script>\n",
              "    </div>\n",
              "  </div>\n",
              "  "
            ]
          },
          "metadata": {},
          "execution_count": 29
        }
      ]
    },
    {
      "cell_type": "markdown",
      "source": [
        "#Base Cenipa"
      ],
      "metadata": {
        "id": "NfekQJY_FvsV"
      }
    },
    {
      "cell_type": "code",
      "source": [
        "df = pd.read_csv('https://storage.googleapis.com/bc26-bucket/ocorrencia.csv',sep=';',encoding = 'ISO-8859-1',parse_dates=['ocorrencia_dia'],dayfirst=True)"
      ],
      "metadata": {
        "id": "7nAoGGe6Fx8u"
      },
      "execution_count": 43,
      "outputs": []
    },
    {
      "cell_type": "code",
      "source": [
        "#Dropagem das colunas que tinham dados repetidos\n",
        "df.drop(['codigo_ocorrencia1','codigo_ocorrencia2','codigo_ocorrencia3','codigo_ocorrencia4'],axis=1,inplace=True)\n",
        "#Drop de colunas que não serão utilizadas\n",
        "df.drop(['ocorrencia_latitude','ocorrencia_longitude','investigacao_aeronave_liberada','investigacao_status','divulgacao_relatorio_numero','divulgacao_relatorio_publicado','divulgacao_dia_publicacao'],axis=1,inplace=True)"
      ],
      "metadata": {
        "id": "1rgE4-1Iq_3P"
      },
      "execution_count": 44,
      "outputs": []
    },
    {
      "cell_type": "code",
      "source": [
        "#Renomear as colunas\n",
        "df.rename(columns={'codigo_ocorrencia':'ocorrencia','ocorrencia_classificacao':'classificacao','ocorrencia_cidade':'cidade','ocorrencia_uf':'uf','ocorrencia_pais':'pais','ocorrencia_aerodromo':'aerodromo'},inplace=True)\n",
        "df.rename(columns={'ocorrencia_dia':'dia','ocorrencia_hora':'horario','total_recomendacoes':'recomendacoes','total_aeronaves_envolvidas':'n_aeronaves','ocorrencia_saida_pista':'saida_pista'},inplace=True)"
      ],
      "metadata": {
        "id": "6N8tBic6ADHN"
      },
      "execution_count": 45,
      "outputs": []
    },
    {
      "cell_type": "code",
      "source": [
        "df.replace(['***','**NI'],pd.NA,inplace=True)"
      ],
      "metadata": {
        "id": "hU1DjofxGRlf"
      },
      "execution_count": 46,
      "outputs": []
    },
    {
      "cell_type": "code",
      "source": [
        "df.replace(pd.NA,np.NaN,inplace=True)"
      ],
      "metadata": {
        "id": "Ra5GwK03rMEc"
      },
      "execution_count": 47,
      "outputs": []
    },
    {
      "cell_type": "code",
      "source": [
        "df.dtypes"
      ],
      "metadata": {
        "colab": {
          "base_uri": "https://localhost:8080/"
        },
        "id": "_SoBJ3SQRY8J",
        "outputId": "c9b1b6a1-6e70-4125-f73b-d4580c06caf6"
      },
      "execution_count": 48,
      "outputs": [
        {
          "output_type": "execute_result",
          "data": {
            "text/plain": [
              "ocorrencia                int64\n",
              "classificacao            object\n",
              "cidade                   object\n",
              "uf                       object\n",
              "pais                     object\n",
              "aerodromo                object\n",
              "dia              datetime64[ns]\n",
              "horario                  object\n",
              "recomendacoes             int64\n",
              "n_aeronaves               int64\n",
              "saida_pista              object\n",
              "dtype: object"
            ]
          },
          "metadata": {},
          "execution_count": 48
        }
      ]
    },
    {
      "cell_type": "code",
      "source": [
        "#converter coluna dia\n",
        "# df['dia'] = df['dia'].astype(str)"
      ],
      "metadata": {
        "id": "FgE4s23_Y0ja"
      },
      "execution_count": 35,
      "outputs": []
    },
    {
      "cell_type": "code",
      "source": [
        "#criar a coluna de data\n",
        "# df['data'] = pd.to_datetime(df['dia']+' '+df['horario'])"
      ],
      "metadata": {
        "id": "Vj6oaIVegFSy"
      },
      "execution_count": 36,
      "outputs": []
    },
    {
      "cell_type": "code",
      "source": [
        "# df.drop(['dia','horario'],axis=1,inplace=True)"
      ],
      "metadata": {
        "id": "1CdewOt6jd3f"
      },
      "execution_count": 37,
      "outputs": []
    },
    {
      "cell_type": "code",
      "source": [
        "df"
      ],
      "metadata": {
        "id": "QTBBeg1dGa6O",
        "colab": {
          "base_uri": "https://localhost:8080/",
          "height": 424
        },
        "outputId": "b8f4673b-fc2b-4cd7-c18c-7eb43a87a7c6"
      },
      "execution_count": 49,
      "outputs": [
        {
          "output_type": "execute_result",
          "data": {
            "text/plain": [
              "      ocorrencia    classificacao              cidade  uf    pais aerodromo  \\\n",
              "0          81027  INCIDENTE GRAVE           SÃO PAULO  SP  BRASIL      SBSP   \n",
              "1          81030        INCIDENTE             VITÓRIA  ES  BRASIL      SBVT   \n",
              "2          81023  INCIDENTE GRAVE           AMERICANA  SP  BRASIL      SDAI   \n",
              "3          81029        INCIDENTE      BELO HORIZONTE  MG  BRASIL      SBBH   \n",
              "4          81025        INCIDENTE              MANAUS  AM  BRASIL      SBEG   \n",
              "...          ...              ...                 ...  ..     ...       ...   \n",
              "6764       40324        INCIDENTE             PELOTAS  RS  BRASIL      SBPK   \n",
              "6765       39527         ACIDENTE  LUCAS DO RIO VERDE  MT  BRASIL       NaN   \n",
              "6766       40211        INCIDENTE      RIO DE JANEIRO  RJ  BRASIL       NaN   \n",
              "6767       40349        INCIDENTE               BELÉM  PA  BRASIL      SBBE   \n",
              "6768       40351        INCIDENTE      RIO DE JANEIRO  RJ  BRASIL      SBRJ   \n",
              "\n",
              "            dia   horario  recomendacoes  n_aeronaves saida_pista  \n",
              "0    2022-10-09  16:30:00              0            1         SIM  \n",
              "1    2022-10-09  16:20:00              0            1         NÃO  \n",
              "2    2022-10-06  15:30:00              0            1         SIM  \n",
              "3    2022-10-06  00:44:00              0            1         NÃO  \n",
              "4    2022-10-05  20:56:00              0            1         NÃO  \n",
              "...         ...       ...            ...          ...         ...  \n",
              "6764 2010-01-05  19:25:00              0            1         NÃO  \n",
              "6765 2010-01-04  17:30:00              0            1         NÃO  \n",
              "6766 2010-01-03  12:00:00              0            1         NÃO  \n",
              "6767 2010-01-03  11:05:00              0            1         NÃO  \n",
              "6768 2010-01-03  03:00:00              0            1         NÃO  \n",
              "\n",
              "[6769 rows x 11 columns]"
            ],
            "text/html": [
              "\n",
              "  <div id=\"df-9e217cd7-b2a2-406b-9e06-1abd99672ff9\">\n",
              "    <div class=\"colab-df-container\">\n",
              "      <div>\n",
              "<style scoped>\n",
              "    .dataframe tbody tr th:only-of-type {\n",
              "        vertical-align: middle;\n",
              "    }\n",
              "\n",
              "    .dataframe tbody tr th {\n",
              "        vertical-align: top;\n",
              "    }\n",
              "\n",
              "    .dataframe thead th {\n",
              "        text-align: right;\n",
              "    }\n",
              "</style>\n",
              "<table border=\"1\" class=\"dataframe\">\n",
              "  <thead>\n",
              "    <tr style=\"text-align: right;\">\n",
              "      <th></th>\n",
              "      <th>ocorrencia</th>\n",
              "      <th>classificacao</th>\n",
              "      <th>cidade</th>\n",
              "      <th>uf</th>\n",
              "      <th>pais</th>\n",
              "      <th>aerodromo</th>\n",
              "      <th>dia</th>\n",
              "      <th>horario</th>\n",
              "      <th>recomendacoes</th>\n",
              "      <th>n_aeronaves</th>\n",
              "      <th>saida_pista</th>\n",
              "    </tr>\n",
              "  </thead>\n",
              "  <tbody>\n",
              "    <tr>\n",
              "      <th>0</th>\n",
              "      <td>81027</td>\n",
              "      <td>INCIDENTE GRAVE</td>\n",
              "      <td>SÃO PAULO</td>\n",
              "      <td>SP</td>\n",
              "      <td>BRASIL</td>\n",
              "      <td>SBSP</td>\n",
              "      <td>2022-10-09</td>\n",
              "      <td>16:30:00</td>\n",
              "      <td>0</td>\n",
              "      <td>1</td>\n",
              "      <td>SIM</td>\n",
              "    </tr>\n",
              "    <tr>\n",
              "      <th>1</th>\n",
              "      <td>81030</td>\n",
              "      <td>INCIDENTE</td>\n",
              "      <td>VITÓRIA</td>\n",
              "      <td>ES</td>\n",
              "      <td>BRASIL</td>\n",
              "      <td>SBVT</td>\n",
              "      <td>2022-10-09</td>\n",
              "      <td>16:20:00</td>\n",
              "      <td>0</td>\n",
              "      <td>1</td>\n",
              "      <td>NÃO</td>\n",
              "    </tr>\n",
              "    <tr>\n",
              "      <th>2</th>\n",
              "      <td>81023</td>\n",
              "      <td>INCIDENTE GRAVE</td>\n",
              "      <td>AMERICANA</td>\n",
              "      <td>SP</td>\n",
              "      <td>BRASIL</td>\n",
              "      <td>SDAI</td>\n",
              "      <td>2022-10-06</td>\n",
              "      <td>15:30:00</td>\n",
              "      <td>0</td>\n",
              "      <td>1</td>\n",
              "      <td>SIM</td>\n",
              "    </tr>\n",
              "    <tr>\n",
              "      <th>3</th>\n",
              "      <td>81029</td>\n",
              "      <td>INCIDENTE</td>\n",
              "      <td>BELO HORIZONTE</td>\n",
              "      <td>MG</td>\n",
              "      <td>BRASIL</td>\n",
              "      <td>SBBH</td>\n",
              "      <td>2022-10-06</td>\n",
              "      <td>00:44:00</td>\n",
              "      <td>0</td>\n",
              "      <td>1</td>\n",
              "      <td>NÃO</td>\n",
              "    </tr>\n",
              "    <tr>\n",
              "      <th>4</th>\n",
              "      <td>81025</td>\n",
              "      <td>INCIDENTE</td>\n",
              "      <td>MANAUS</td>\n",
              "      <td>AM</td>\n",
              "      <td>BRASIL</td>\n",
              "      <td>SBEG</td>\n",
              "      <td>2022-10-05</td>\n",
              "      <td>20:56:00</td>\n",
              "      <td>0</td>\n",
              "      <td>1</td>\n",
              "      <td>NÃO</td>\n",
              "    </tr>\n",
              "    <tr>\n",
              "      <th>...</th>\n",
              "      <td>...</td>\n",
              "      <td>...</td>\n",
              "      <td>...</td>\n",
              "      <td>...</td>\n",
              "      <td>...</td>\n",
              "      <td>...</td>\n",
              "      <td>...</td>\n",
              "      <td>...</td>\n",
              "      <td>...</td>\n",
              "      <td>...</td>\n",
              "      <td>...</td>\n",
              "    </tr>\n",
              "    <tr>\n",
              "      <th>6764</th>\n",
              "      <td>40324</td>\n",
              "      <td>INCIDENTE</td>\n",
              "      <td>PELOTAS</td>\n",
              "      <td>RS</td>\n",
              "      <td>BRASIL</td>\n",
              "      <td>SBPK</td>\n",
              "      <td>2010-01-05</td>\n",
              "      <td>19:25:00</td>\n",
              "      <td>0</td>\n",
              "      <td>1</td>\n",
              "      <td>NÃO</td>\n",
              "    </tr>\n",
              "    <tr>\n",
              "      <th>6765</th>\n",
              "      <td>39527</td>\n",
              "      <td>ACIDENTE</td>\n",
              "      <td>LUCAS DO RIO VERDE</td>\n",
              "      <td>MT</td>\n",
              "      <td>BRASIL</td>\n",
              "      <td>NaN</td>\n",
              "      <td>2010-01-04</td>\n",
              "      <td>17:30:00</td>\n",
              "      <td>0</td>\n",
              "      <td>1</td>\n",
              "      <td>NÃO</td>\n",
              "    </tr>\n",
              "    <tr>\n",
              "      <th>6766</th>\n",
              "      <td>40211</td>\n",
              "      <td>INCIDENTE</td>\n",
              "      <td>RIO DE JANEIRO</td>\n",
              "      <td>RJ</td>\n",
              "      <td>BRASIL</td>\n",
              "      <td>NaN</td>\n",
              "      <td>2010-01-03</td>\n",
              "      <td>12:00:00</td>\n",
              "      <td>0</td>\n",
              "      <td>1</td>\n",
              "      <td>NÃO</td>\n",
              "    </tr>\n",
              "    <tr>\n",
              "      <th>6767</th>\n",
              "      <td>40349</td>\n",
              "      <td>INCIDENTE</td>\n",
              "      <td>BELÉM</td>\n",
              "      <td>PA</td>\n",
              "      <td>BRASIL</td>\n",
              "      <td>SBBE</td>\n",
              "      <td>2010-01-03</td>\n",
              "      <td>11:05:00</td>\n",
              "      <td>0</td>\n",
              "      <td>1</td>\n",
              "      <td>NÃO</td>\n",
              "    </tr>\n",
              "    <tr>\n",
              "      <th>6768</th>\n",
              "      <td>40351</td>\n",
              "      <td>INCIDENTE</td>\n",
              "      <td>RIO DE JANEIRO</td>\n",
              "      <td>RJ</td>\n",
              "      <td>BRASIL</td>\n",
              "      <td>SBRJ</td>\n",
              "      <td>2010-01-03</td>\n",
              "      <td>03:00:00</td>\n",
              "      <td>0</td>\n",
              "      <td>1</td>\n",
              "      <td>NÃO</td>\n",
              "    </tr>\n",
              "  </tbody>\n",
              "</table>\n",
              "<p>6769 rows × 11 columns</p>\n",
              "</div>\n",
              "      <button class=\"colab-df-convert\" onclick=\"convertToInteractive('df-9e217cd7-b2a2-406b-9e06-1abd99672ff9')\"\n",
              "              title=\"Convert this dataframe to an interactive table.\"\n",
              "              style=\"display:none;\">\n",
              "        \n",
              "  <svg xmlns=\"http://www.w3.org/2000/svg\" height=\"24px\"viewBox=\"0 0 24 24\"\n",
              "       width=\"24px\">\n",
              "    <path d=\"M0 0h24v24H0V0z\" fill=\"none\"/>\n",
              "    <path d=\"M18.56 5.44l.94 2.06.94-2.06 2.06-.94-2.06-.94-.94-2.06-.94 2.06-2.06.94zm-11 1L8.5 8.5l.94-2.06 2.06-.94-2.06-.94L8.5 2.5l-.94 2.06-2.06.94zm10 10l.94 2.06.94-2.06 2.06-.94-2.06-.94-.94-2.06-.94 2.06-2.06.94z\"/><path d=\"M17.41 7.96l-1.37-1.37c-.4-.4-.92-.59-1.43-.59-.52 0-1.04.2-1.43.59L10.3 9.45l-7.72 7.72c-.78.78-.78 2.05 0 2.83L4 21.41c.39.39.9.59 1.41.59.51 0 1.02-.2 1.41-.59l7.78-7.78 2.81-2.81c.8-.78.8-2.07 0-2.86zM5.41 20L4 18.59l7.72-7.72 1.47 1.35L5.41 20z\"/>\n",
              "  </svg>\n",
              "      </button>\n",
              "      \n",
              "  <style>\n",
              "    .colab-df-container {\n",
              "      display:flex;\n",
              "      flex-wrap:wrap;\n",
              "      gap: 12px;\n",
              "    }\n",
              "\n",
              "    .colab-df-convert {\n",
              "      background-color: #E8F0FE;\n",
              "      border: none;\n",
              "      border-radius: 50%;\n",
              "      cursor: pointer;\n",
              "      display: none;\n",
              "      fill: #1967D2;\n",
              "      height: 32px;\n",
              "      padding: 0 0 0 0;\n",
              "      width: 32px;\n",
              "    }\n",
              "\n",
              "    .colab-df-convert:hover {\n",
              "      background-color: #E2EBFA;\n",
              "      box-shadow: 0px 1px 2px rgba(60, 64, 67, 0.3), 0px 1px 3px 1px rgba(60, 64, 67, 0.15);\n",
              "      fill: #174EA6;\n",
              "    }\n",
              "\n",
              "    [theme=dark] .colab-df-convert {\n",
              "      background-color: #3B4455;\n",
              "      fill: #D2E3FC;\n",
              "    }\n",
              "\n",
              "    [theme=dark] .colab-df-convert:hover {\n",
              "      background-color: #434B5C;\n",
              "      box-shadow: 0px 1px 3px 1px rgba(0, 0, 0, 0.15);\n",
              "      filter: drop-shadow(0px 1px 2px rgba(0, 0, 0, 0.3));\n",
              "      fill: #FFFFFF;\n",
              "    }\n",
              "  </style>\n",
              "\n",
              "      <script>\n",
              "        const buttonEl =\n",
              "          document.querySelector('#df-9e217cd7-b2a2-406b-9e06-1abd99672ff9 button.colab-df-convert');\n",
              "        buttonEl.style.display =\n",
              "          google.colab.kernel.accessAllowed ? 'block' : 'none';\n",
              "\n",
              "        async function convertToInteractive(key) {\n",
              "          const element = document.querySelector('#df-9e217cd7-b2a2-406b-9e06-1abd99672ff9');\n",
              "          const dataTable =\n",
              "            await google.colab.kernel.invokeFunction('convertToInteractive',\n",
              "                                                     [key], {});\n",
              "          if (!dataTable) return;\n",
              "\n",
              "          const docLinkHtml = 'Like what you see? Visit the ' +\n",
              "            '<a target=\"_blank\" href=https://colab.research.google.com/notebooks/data_table.ipynb>data table notebook</a>'\n",
              "            + ' to learn more about interactive tables.';\n",
              "          element.innerHTML = '';\n",
              "          dataTable['output_type'] = 'display_data';\n",
              "          await google.colab.output.renderOutput(dataTable, element);\n",
              "          const docLink = document.createElement('div');\n",
              "          docLink.innerHTML = docLinkHtml;\n",
              "          element.appendChild(docLink);\n",
              "        }\n",
              "      </script>\n",
              "    </div>\n",
              "  </div>\n",
              "  "
            ]
          },
          "metadata": {},
          "execution_count": 49
        }
      ]
    },
    {
      "cell_type": "code",
      "source": [
        "# df2 = df[['ocorrencia','data','aerodromo','cidade','uf','classificacao','n_aeronaves','saida_pista','recomendacoes']]"
      ],
      "metadata": {
        "id": "P9btNhOqGidN"
      },
      "execution_count": 39,
      "outputs": []
    },
    {
      "cell_type": "code",
      "source": [
        "# df2"
      ],
      "metadata": {
        "id": "hfxizPdrGjPd",
        "colab": {
          "base_uri": "https://localhost:8080/",
          "height": 424
        },
        "outputId": "fa17ee09-b6e7-40b5-c5cc-044c63a91122"
      },
      "execution_count": 40,
      "outputs": [
        {
          "output_type": "execute_result",
          "data": {
            "text/plain": [
              "      ocorrencia                data aerodromo              cidade  uf  \\\n",
              "0          81027 2022-10-09 16:30:00      SBSP           SÃO PAULO  SP   \n",
              "1          81030 2022-10-09 16:20:00      SBVT             VITÓRIA  ES   \n",
              "2          81023 2022-10-06 15:30:00      SDAI           AMERICANA  SP   \n",
              "3          81029 2022-10-06 00:44:00      SBBH      BELO HORIZONTE  MG   \n",
              "4          81025 2022-10-05 20:56:00      SBEG              MANAUS  AM   \n",
              "...          ...                 ...       ...                 ...  ..   \n",
              "6764       40324 2010-01-05 19:25:00      SBPK             PELOTAS  RS   \n",
              "6765       39527 2010-01-04 17:30:00       NaN  LUCAS DO RIO VERDE  MT   \n",
              "6766       40211 2010-01-03 12:00:00       NaN      RIO DE JANEIRO  RJ   \n",
              "6767       40349 2010-01-03 11:05:00      SBBE               BELÉM  PA   \n",
              "6768       40351 2010-01-03 03:00:00      SBRJ      RIO DE JANEIRO  RJ   \n",
              "\n",
              "        classificacao  n_aeronaves saida_pista  recomendacoes  \n",
              "0     INCIDENTE GRAVE            1         SIM              0  \n",
              "1           INCIDENTE            1         NÃO              0  \n",
              "2     INCIDENTE GRAVE            1         SIM              0  \n",
              "3           INCIDENTE            1         NÃO              0  \n",
              "4           INCIDENTE            1         NÃO              0  \n",
              "...               ...          ...         ...            ...  \n",
              "6764        INCIDENTE            1         NÃO              0  \n",
              "6765         ACIDENTE            1         NÃO              0  \n",
              "6766        INCIDENTE            1         NÃO              0  \n",
              "6767        INCIDENTE            1         NÃO              0  \n",
              "6768        INCIDENTE            1         NÃO              0  \n",
              "\n",
              "[6769 rows x 9 columns]"
            ],
            "text/html": [
              "\n",
              "  <div id=\"df-59557bf3-e204-4e88-a218-8e0805a1b300\">\n",
              "    <div class=\"colab-df-container\">\n",
              "      <div>\n",
              "<style scoped>\n",
              "    .dataframe tbody tr th:only-of-type {\n",
              "        vertical-align: middle;\n",
              "    }\n",
              "\n",
              "    .dataframe tbody tr th {\n",
              "        vertical-align: top;\n",
              "    }\n",
              "\n",
              "    .dataframe thead th {\n",
              "        text-align: right;\n",
              "    }\n",
              "</style>\n",
              "<table border=\"1\" class=\"dataframe\">\n",
              "  <thead>\n",
              "    <tr style=\"text-align: right;\">\n",
              "      <th></th>\n",
              "      <th>ocorrencia</th>\n",
              "      <th>data</th>\n",
              "      <th>aerodromo</th>\n",
              "      <th>cidade</th>\n",
              "      <th>uf</th>\n",
              "      <th>classificacao</th>\n",
              "      <th>n_aeronaves</th>\n",
              "      <th>saida_pista</th>\n",
              "      <th>recomendacoes</th>\n",
              "    </tr>\n",
              "  </thead>\n",
              "  <tbody>\n",
              "    <tr>\n",
              "      <th>0</th>\n",
              "      <td>81027</td>\n",
              "      <td>2022-10-09 16:30:00</td>\n",
              "      <td>SBSP</td>\n",
              "      <td>SÃO PAULO</td>\n",
              "      <td>SP</td>\n",
              "      <td>INCIDENTE GRAVE</td>\n",
              "      <td>1</td>\n",
              "      <td>SIM</td>\n",
              "      <td>0</td>\n",
              "    </tr>\n",
              "    <tr>\n",
              "      <th>1</th>\n",
              "      <td>81030</td>\n",
              "      <td>2022-10-09 16:20:00</td>\n",
              "      <td>SBVT</td>\n",
              "      <td>VITÓRIA</td>\n",
              "      <td>ES</td>\n",
              "      <td>INCIDENTE</td>\n",
              "      <td>1</td>\n",
              "      <td>NÃO</td>\n",
              "      <td>0</td>\n",
              "    </tr>\n",
              "    <tr>\n",
              "      <th>2</th>\n",
              "      <td>81023</td>\n",
              "      <td>2022-10-06 15:30:00</td>\n",
              "      <td>SDAI</td>\n",
              "      <td>AMERICANA</td>\n",
              "      <td>SP</td>\n",
              "      <td>INCIDENTE GRAVE</td>\n",
              "      <td>1</td>\n",
              "      <td>SIM</td>\n",
              "      <td>0</td>\n",
              "    </tr>\n",
              "    <tr>\n",
              "      <th>3</th>\n",
              "      <td>81029</td>\n",
              "      <td>2022-10-06 00:44:00</td>\n",
              "      <td>SBBH</td>\n",
              "      <td>BELO HORIZONTE</td>\n",
              "      <td>MG</td>\n",
              "      <td>INCIDENTE</td>\n",
              "      <td>1</td>\n",
              "      <td>NÃO</td>\n",
              "      <td>0</td>\n",
              "    </tr>\n",
              "    <tr>\n",
              "      <th>4</th>\n",
              "      <td>81025</td>\n",
              "      <td>2022-10-05 20:56:00</td>\n",
              "      <td>SBEG</td>\n",
              "      <td>MANAUS</td>\n",
              "      <td>AM</td>\n",
              "      <td>INCIDENTE</td>\n",
              "      <td>1</td>\n",
              "      <td>NÃO</td>\n",
              "      <td>0</td>\n",
              "    </tr>\n",
              "    <tr>\n",
              "      <th>...</th>\n",
              "      <td>...</td>\n",
              "      <td>...</td>\n",
              "      <td>...</td>\n",
              "      <td>...</td>\n",
              "      <td>...</td>\n",
              "      <td>...</td>\n",
              "      <td>...</td>\n",
              "      <td>...</td>\n",
              "      <td>...</td>\n",
              "    </tr>\n",
              "    <tr>\n",
              "      <th>6764</th>\n",
              "      <td>40324</td>\n",
              "      <td>2010-01-05 19:25:00</td>\n",
              "      <td>SBPK</td>\n",
              "      <td>PELOTAS</td>\n",
              "      <td>RS</td>\n",
              "      <td>INCIDENTE</td>\n",
              "      <td>1</td>\n",
              "      <td>NÃO</td>\n",
              "      <td>0</td>\n",
              "    </tr>\n",
              "    <tr>\n",
              "      <th>6765</th>\n",
              "      <td>39527</td>\n",
              "      <td>2010-01-04 17:30:00</td>\n",
              "      <td>NaN</td>\n",
              "      <td>LUCAS DO RIO VERDE</td>\n",
              "      <td>MT</td>\n",
              "      <td>ACIDENTE</td>\n",
              "      <td>1</td>\n",
              "      <td>NÃO</td>\n",
              "      <td>0</td>\n",
              "    </tr>\n",
              "    <tr>\n",
              "      <th>6766</th>\n",
              "      <td>40211</td>\n",
              "      <td>2010-01-03 12:00:00</td>\n",
              "      <td>NaN</td>\n",
              "      <td>RIO DE JANEIRO</td>\n",
              "      <td>RJ</td>\n",
              "      <td>INCIDENTE</td>\n",
              "      <td>1</td>\n",
              "      <td>NÃO</td>\n",
              "      <td>0</td>\n",
              "    </tr>\n",
              "    <tr>\n",
              "      <th>6767</th>\n",
              "      <td>40349</td>\n",
              "      <td>2010-01-03 11:05:00</td>\n",
              "      <td>SBBE</td>\n",
              "      <td>BELÉM</td>\n",
              "      <td>PA</td>\n",
              "      <td>INCIDENTE</td>\n",
              "      <td>1</td>\n",
              "      <td>NÃO</td>\n",
              "      <td>0</td>\n",
              "    </tr>\n",
              "    <tr>\n",
              "      <th>6768</th>\n",
              "      <td>40351</td>\n",
              "      <td>2010-01-03 03:00:00</td>\n",
              "      <td>SBRJ</td>\n",
              "      <td>RIO DE JANEIRO</td>\n",
              "      <td>RJ</td>\n",
              "      <td>INCIDENTE</td>\n",
              "      <td>1</td>\n",
              "      <td>NÃO</td>\n",
              "      <td>0</td>\n",
              "    </tr>\n",
              "  </tbody>\n",
              "</table>\n",
              "<p>6769 rows × 9 columns</p>\n",
              "</div>\n",
              "      <button class=\"colab-df-convert\" onclick=\"convertToInteractive('df-59557bf3-e204-4e88-a218-8e0805a1b300')\"\n",
              "              title=\"Convert this dataframe to an interactive table.\"\n",
              "              style=\"display:none;\">\n",
              "        \n",
              "  <svg xmlns=\"http://www.w3.org/2000/svg\" height=\"24px\"viewBox=\"0 0 24 24\"\n",
              "       width=\"24px\">\n",
              "    <path d=\"M0 0h24v24H0V0z\" fill=\"none\"/>\n",
              "    <path d=\"M18.56 5.44l.94 2.06.94-2.06 2.06-.94-2.06-.94-.94-2.06-.94 2.06-2.06.94zm-11 1L8.5 8.5l.94-2.06 2.06-.94-2.06-.94L8.5 2.5l-.94 2.06-2.06.94zm10 10l.94 2.06.94-2.06 2.06-.94-2.06-.94-.94-2.06-.94 2.06-2.06.94z\"/><path d=\"M17.41 7.96l-1.37-1.37c-.4-.4-.92-.59-1.43-.59-.52 0-1.04.2-1.43.59L10.3 9.45l-7.72 7.72c-.78.78-.78 2.05 0 2.83L4 21.41c.39.39.9.59 1.41.59.51 0 1.02-.2 1.41-.59l7.78-7.78 2.81-2.81c.8-.78.8-2.07 0-2.86zM5.41 20L4 18.59l7.72-7.72 1.47 1.35L5.41 20z\"/>\n",
              "  </svg>\n",
              "      </button>\n",
              "      \n",
              "  <style>\n",
              "    .colab-df-container {\n",
              "      display:flex;\n",
              "      flex-wrap:wrap;\n",
              "      gap: 12px;\n",
              "    }\n",
              "\n",
              "    .colab-df-convert {\n",
              "      background-color: #E8F0FE;\n",
              "      border: none;\n",
              "      border-radius: 50%;\n",
              "      cursor: pointer;\n",
              "      display: none;\n",
              "      fill: #1967D2;\n",
              "      height: 32px;\n",
              "      padding: 0 0 0 0;\n",
              "      width: 32px;\n",
              "    }\n",
              "\n",
              "    .colab-df-convert:hover {\n",
              "      background-color: #E2EBFA;\n",
              "      box-shadow: 0px 1px 2px rgba(60, 64, 67, 0.3), 0px 1px 3px 1px rgba(60, 64, 67, 0.15);\n",
              "      fill: #174EA6;\n",
              "    }\n",
              "\n",
              "    [theme=dark] .colab-df-convert {\n",
              "      background-color: #3B4455;\n",
              "      fill: #D2E3FC;\n",
              "    }\n",
              "\n",
              "    [theme=dark] .colab-df-convert:hover {\n",
              "      background-color: #434B5C;\n",
              "      box-shadow: 0px 1px 3px 1px rgba(0, 0, 0, 0.15);\n",
              "      filter: drop-shadow(0px 1px 2px rgba(0, 0, 0, 0.3));\n",
              "      fill: #FFFFFF;\n",
              "    }\n",
              "  </style>\n",
              "\n",
              "      <script>\n",
              "        const buttonEl =\n",
              "          document.querySelector('#df-59557bf3-e204-4e88-a218-8e0805a1b300 button.colab-df-convert');\n",
              "        buttonEl.style.display =\n",
              "          google.colab.kernel.accessAllowed ? 'block' : 'none';\n",
              "\n",
              "        async function convertToInteractive(key) {\n",
              "          const element = document.querySelector('#df-59557bf3-e204-4e88-a218-8e0805a1b300');\n",
              "          const dataTable =\n",
              "            await google.colab.kernel.invokeFunction('convertToInteractive',\n",
              "                                                     [key], {});\n",
              "          if (!dataTable) return;\n",
              "\n",
              "          const docLinkHtml = 'Like what you see? Visit the ' +\n",
              "            '<a target=\"_blank\" href=https://colab.research.google.com/notebooks/data_table.ipynb>data table notebook</a>'\n",
              "            + ' to learn more about interactive tables.';\n",
              "          element.innerHTML = '';\n",
              "          dataTable['output_type'] = 'display_data';\n",
              "          await google.colab.output.renderOutput(dataTable, element);\n",
              "          const docLink = document.createElement('div');\n",
              "          docLink.innerHTML = docLinkHtml;\n",
              "          element.appendChild(docLink);\n",
              "        }\n",
              "      </script>\n",
              "    </div>\n",
              "  </div>\n",
              "  "
            ]
          },
          "metadata": {},
          "execution_count": 40
        }
      ]
    },
    {
      "cell_type": "markdown",
      "source": [
        "##Enviar o DataFrame para o mongo"
      ],
      "metadata": {
        "id": "P0KIAh1KGsNl"
      }
    },
    {
      "cell_type": "code",
      "source": [
        "db2 = client['cenipa']\n",
        "colecaocenipa = db2['tratado']\n",
        "colecaocenipa.count_documents({})"
      ],
      "metadata": {
        "colab": {
          "base_uri": "https://localhost:8080/"
        },
        "id": "7U2TAL6oGr8N",
        "outputId": "9191fa3a-fca6-409b-93f8-549b9a13376d"
      },
      "execution_count": 50,
      "outputs": [
        {
          "output_type": "execute_result",
          "data": {
            "text/plain": [
              "0"
            ]
          },
          "metadata": {},
          "execution_count": 50
        }
      ]
    },
    {
      "cell_type": "code",
      "source": [
        "#Enviar o DF para colecao selecionada no mongo\n",
        "df_dict = df.to_dict(\"records\")\n",
        "\n",
        "colecaocenipa.insert_many(df_dict)"
      ],
      "metadata": {
        "colab": {
          "base_uri": "https://localhost:8080/"
        },
        "id": "rfgYOVgIHctU",
        "outputId": "cd70c9d9-f0d7-4024-d2fb-b4040ff3467c"
      },
      "execution_count": 51,
      "outputs": [
        {
          "output_type": "execute_result",
          "data": {
            "text/plain": [
              "<pymongo.results.InsertManyResult at 0x7f03a267ab20>"
            ]
          },
          "metadata": {},
          "execution_count": 51
        }
      ]
    },
    {
      "cell_type": "code",
      "source": [
        "colecaocenipa.count_documents({})"
      ],
      "metadata": {
        "colab": {
          "base_uri": "https://localhost:8080/"
        },
        "id": "NK9CBUUqIjBN",
        "outputId": "f9355f7e-8090-41cd-827e-6338bfd7a8c2"
      },
      "execution_count": 52,
      "outputs": [
        {
          "output_type": "execute_result",
          "data": {
            "text/plain": [
              "6769"
            ]
          },
          "metadata": {},
          "execution_count": 52
        }
      ]
    },
    {
      "cell_type": "code",
      "source": [
        "for x in colecaocenipa.find():\n",
        "  print(x)"
      ],
      "metadata": {
        "id": "dZtV-Vk1ItWk"
      },
      "execution_count": null,
      "outputs": []
    },
    {
      "cell_type": "code",
      "source": [
        "cursor = colecaocenipa.find({})\n",
        "dfcenipa = pd.DataFrame(list(cursor))"
      ],
      "metadata": {
        "id": "x85sA3_1KAcs"
      },
      "execution_count": 53,
      "outputs": []
    },
    {
      "cell_type": "code",
      "source": [
        "dfcenipa"
      ],
      "metadata": {
        "id": "W-S97DSQKIkk",
        "outputId": "a6b107c2-c5be-4353-804d-143de29d12ea",
        "colab": {
          "base_uri": "https://localhost:8080/",
          "height": 641
        }
      },
      "execution_count": 54,
      "outputs": [
        {
          "output_type": "execute_result",
          "data": {
            "text/plain": [
              "                           _id  ocorrencia    classificacao  \\\n",
              "0     638a0de451fb7add13551ca1       81027  INCIDENTE GRAVE   \n",
              "1     638a0de451fb7add13551ca2       81030        INCIDENTE   \n",
              "2     638a0de451fb7add13551ca3       81023  INCIDENTE GRAVE   \n",
              "3     638a0de451fb7add13551ca4       81029        INCIDENTE   \n",
              "4     638a0de451fb7add13551ca5       81025        INCIDENTE   \n",
              "...                        ...         ...              ...   \n",
              "6764  638a0de451fb7add1355370d       40324        INCIDENTE   \n",
              "6765  638a0de451fb7add1355370e       39527         ACIDENTE   \n",
              "6766  638a0de451fb7add1355370f       40211        INCIDENTE   \n",
              "6767  638a0de451fb7add13553710       40349        INCIDENTE   \n",
              "6768  638a0de451fb7add13553711       40351        INCIDENTE   \n",
              "\n",
              "                  cidade  uf    pais aerodromo        dia   horario  \\\n",
              "0              SÃO PAULO  SP  BRASIL      SBSP 2022-10-09  16:30:00   \n",
              "1                VITÓRIA  ES  BRASIL      SBVT 2022-10-09  16:20:00   \n",
              "2              AMERICANA  SP  BRASIL      SDAI 2022-10-06  15:30:00   \n",
              "3         BELO HORIZONTE  MG  BRASIL      SBBH 2022-10-06  00:44:00   \n",
              "4                 MANAUS  AM  BRASIL      SBEG 2022-10-05  20:56:00   \n",
              "...                  ...  ..     ...       ...        ...       ...   \n",
              "6764             PELOTAS  RS  BRASIL      SBPK 2010-01-05  19:25:00   \n",
              "6765  LUCAS DO RIO VERDE  MT  BRASIL       NaN 2010-01-04  17:30:00   \n",
              "6766      RIO DE JANEIRO  RJ  BRASIL       NaN 2010-01-03  12:00:00   \n",
              "6767               BELÉM  PA  BRASIL      SBBE 2010-01-03  11:05:00   \n",
              "6768      RIO DE JANEIRO  RJ  BRASIL      SBRJ 2010-01-03  03:00:00   \n",
              "\n",
              "      recomendacoes  n_aeronaves saida_pista  \n",
              "0                 0            1         SIM  \n",
              "1                 0            1         NÃO  \n",
              "2                 0            1         SIM  \n",
              "3                 0            1         NÃO  \n",
              "4                 0            1         NÃO  \n",
              "...             ...          ...         ...  \n",
              "6764              0            1         NÃO  \n",
              "6765              0            1         NÃO  \n",
              "6766              0            1         NÃO  \n",
              "6767              0            1         NÃO  \n",
              "6768              0            1         NÃO  \n",
              "\n",
              "[6769 rows x 12 columns]"
            ],
            "text/html": [
              "\n",
              "  <div id=\"df-676c15b0-8b75-485a-9704-431aa3cbb3c0\">\n",
              "    <div class=\"colab-df-container\">\n",
              "      <div>\n",
              "<style scoped>\n",
              "    .dataframe tbody tr th:only-of-type {\n",
              "        vertical-align: middle;\n",
              "    }\n",
              "\n",
              "    .dataframe tbody tr th {\n",
              "        vertical-align: top;\n",
              "    }\n",
              "\n",
              "    .dataframe thead th {\n",
              "        text-align: right;\n",
              "    }\n",
              "</style>\n",
              "<table border=\"1\" class=\"dataframe\">\n",
              "  <thead>\n",
              "    <tr style=\"text-align: right;\">\n",
              "      <th></th>\n",
              "      <th>_id</th>\n",
              "      <th>ocorrencia</th>\n",
              "      <th>classificacao</th>\n",
              "      <th>cidade</th>\n",
              "      <th>uf</th>\n",
              "      <th>pais</th>\n",
              "      <th>aerodromo</th>\n",
              "      <th>dia</th>\n",
              "      <th>horario</th>\n",
              "      <th>recomendacoes</th>\n",
              "      <th>n_aeronaves</th>\n",
              "      <th>saida_pista</th>\n",
              "    </tr>\n",
              "  </thead>\n",
              "  <tbody>\n",
              "    <tr>\n",
              "      <th>0</th>\n",
              "      <td>638a0de451fb7add13551ca1</td>\n",
              "      <td>81027</td>\n",
              "      <td>INCIDENTE GRAVE</td>\n",
              "      <td>SÃO PAULO</td>\n",
              "      <td>SP</td>\n",
              "      <td>BRASIL</td>\n",
              "      <td>SBSP</td>\n",
              "      <td>2022-10-09</td>\n",
              "      <td>16:30:00</td>\n",
              "      <td>0</td>\n",
              "      <td>1</td>\n",
              "      <td>SIM</td>\n",
              "    </tr>\n",
              "    <tr>\n",
              "      <th>1</th>\n",
              "      <td>638a0de451fb7add13551ca2</td>\n",
              "      <td>81030</td>\n",
              "      <td>INCIDENTE</td>\n",
              "      <td>VITÓRIA</td>\n",
              "      <td>ES</td>\n",
              "      <td>BRASIL</td>\n",
              "      <td>SBVT</td>\n",
              "      <td>2022-10-09</td>\n",
              "      <td>16:20:00</td>\n",
              "      <td>0</td>\n",
              "      <td>1</td>\n",
              "      <td>NÃO</td>\n",
              "    </tr>\n",
              "    <tr>\n",
              "      <th>2</th>\n",
              "      <td>638a0de451fb7add13551ca3</td>\n",
              "      <td>81023</td>\n",
              "      <td>INCIDENTE GRAVE</td>\n",
              "      <td>AMERICANA</td>\n",
              "      <td>SP</td>\n",
              "      <td>BRASIL</td>\n",
              "      <td>SDAI</td>\n",
              "      <td>2022-10-06</td>\n",
              "      <td>15:30:00</td>\n",
              "      <td>0</td>\n",
              "      <td>1</td>\n",
              "      <td>SIM</td>\n",
              "    </tr>\n",
              "    <tr>\n",
              "      <th>3</th>\n",
              "      <td>638a0de451fb7add13551ca4</td>\n",
              "      <td>81029</td>\n",
              "      <td>INCIDENTE</td>\n",
              "      <td>BELO HORIZONTE</td>\n",
              "      <td>MG</td>\n",
              "      <td>BRASIL</td>\n",
              "      <td>SBBH</td>\n",
              "      <td>2022-10-06</td>\n",
              "      <td>00:44:00</td>\n",
              "      <td>0</td>\n",
              "      <td>1</td>\n",
              "      <td>NÃO</td>\n",
              "    </tr>\n",
              "    <tr>\n",
              "      <th>4</th>\n",
              "      <td>638a0de451fb7add13551ca5</td>\n",
              "      <td>81025</td>\n",
              "      <td>INCIDENTE</td>\n",
              "      <td>MANAUS</td>\n",
              "      <td>AM</td>\n",
              "      <td>BRASIL</td>\n",
              "      <td>SBEG</td>\n",
              "      <td>2022-10-05</td>\n",
              "      <td>20:56:00</td>\n",
              "      <td>0</td>\n",
              "      <td>1</td>\n",
              "      <td>NÃO</td>\n",
              "    </tr>\n",
              "    <tr>\n",
              "      <th>...</th>\n",
              "      <td>...</td>\n",
              "      <td>...</td>\n",
              "      <td>...</td>\n",
              "      <td>...</td>\n",
              "      <td>...</td>\n",
              "      <td>...</td>\n",
              "      <td>...</td>\n",
              "      <td>...</td>\n",
              "      <td>...</td>\n",
              "      <td>...</td>\n",
              "      <td>...</td>\n",
              "      <td>...</td>\n",
              "    </tr>\n",
              "    <tr>\n",
              "      <th>6764</th>\n",
              "      <td>638a0de451fb7add1355370d</td>\n",
              "      <td>40324</td>\n",
              "      <td>INCIDENTE</td>\n",
              "      <td>PELOTAS</td>\n",
              "      <td>RS</td>\n",
              "      <td>BRASIL</td>\n",
              "      <td>SBPK</td>\n",
              "      <td>2010-01-05</td>\n",
              "      <td>19:25:00</td>\n",
              "      <td>0</td>\n",
              "      <td>1</td>\n",
              "      <td>NÃO</td>\n",
              "    </tr>\n",
              "    <tr>\n",
              "      <th>6765</th>\n",
              "      <td>638a0de451fb7add1355370e</td>\n",
              "      <td>39527</td>\n",
              "      <td>ACIDENTE</td>\n",
              "      <td>LUCAS DO RIO VERDE</td>\n",
              "      <td>MT</td>\n",
              "      <td>BRASIL</td>\n",
              "      <td>NaN</td>\n",
              "      <td>2010-01-04</td>\n",
              "      <td>17:30:00</td>\n",
              "      <td>0</td>\n",
              "      <td>1</td>\n",
              "      <td>NÃO</td>\n",
              "    </tr>\n",
              "    <tr>\n",
              "      <th>6766</th>\n",
              "      <td>638a0de451fb7add1355370f</td>\n",
              "      <td>40211</td>\n",
              "      <td>INCIDENTE</td>\n",
              "      <td>RIO DE JANEIRO</td>\n",
              "      <td>RJ</td>\n",
              "      <td>BRASIL</td>\n",
              "      <td>NaN</td>\n",
              "      <td>2010-01-03</td>\n",
              "      <td>12:00:00</td>\n",
              "      <td>0</td>\n",
              "      <td>1</td>\n",
              "      <td>NÃO</td>\n",
              "    </tr>\n",
              "    <tr>\n",
              "      <th>6767</th>\n",
              "      <td>638a0de451fb7add13553710</td>\n",
              "      <td>40349</td>\n",
              "      <td>INCIDENTE</td>\n",
              "      <td>BELÉM</td>\n",
              "      <td>PA</td>\n",
              "      <td>BRASIL</td>\n",
              "      <td>SBBE</td>\n",
              "      <td>2010-01-03</td>\n",
              "      <td>11:05:00</td>\n",
              "      <td>0</td>\n",
              "      <td>1</td>\n",
              "      <td>NÃO</td>\n",
              "    </tr>\n",
              "    <tr>\n",
              "      <th>6768</th>\n",
              "      <td>638a0de451fb7add13553711</td>\n",
              "      <td>40351</td>\n",
              "      <td>INCIDENTE</td>\n",
              "      <td>RIO DE JANEIRO</td>\n",
              "      <td>RJ</td>\n",
              "      <td>BRASIL</td>\n",
              "      <td>SBRJ</td>\n",
              "      <td>2010-01-03</td>\n",
              "      <td>03:00:00</td>\n",
              "      <td>0</td>\n",
              "      <td>1</td>\n",
              "      <td>NÃO</td>\n",
              "    </tr>\n",
              "  </tbody>\n",
              "</table>\n",
              "<p>6769 rows × 12 columns</p>\n",
              "</div>\n",
              "      <button class=\"colab-df-convert\" onclick=\"convertToInteractive('df-676c15b0-8b75-485a-9704-431aa3cbb3c0')\"\n",
              "              title=\"Convert this dataframe to an interactive table.\"\n",
              "              style=\"display:none;\">\n",
              "        \n",
              "  <svg xmlns=\"http://www.w3.org/2000/svg\" height=\"24px\"viewBox=\"0 0 24 24\"\n",
              "       width=\"24px\">\n",
              "    <path d=\"M0 0h24v24H0V0z\" fill=\"none\"/>\n",
              "    <path d=\"M18.56 5.44l.94 2.06.94-2.06 2.06-.94-2.06-.94-.94-2.06-.94 2.06-2.06.94zm-11 1L8.5 8.5l.94-2.06 2.06-.94-2.06-.94L8.5 2.5l-.94 2.06-2.06.94zm10 10l.94 2.06.94-2.06 2.06-.94-2.06-.94-.94-2.06-.94 2.06-2.06.94z\"/><path d=\"M17.41 7.96l-1.37-1.37c-.4-.4-.92-.59-1.43-.59-.52 0-1.04.2-1.43.59L10.3 9.45l-7.72 7.72c-.78.78-.78 2.05 0 2.83L4 21.41c.39.39.9.59 1.41.59.51 0 1.02-.2 1.41-.59l7.78-7.78 2.81-2.81c.8-.78.8-2.07 0-2.86zM5.41 20L4 18.59l7.72-7.72 1.47 1.35L5.41 20z\"/>\n",
              "  </svg>\n",
              "      </button>\n",
              "      \n",
              "  <style>\n",
              "    .colab-df-container {\n",
              "      display:flex;\n",
              "      flex-wrap:wrap;\n",
              "      gap: 12px;\n",
              "    }\n",
              "\n",
              "    .colab-df-convert {\n",
              "      background-color: #E8F0FE;\n",
              "      border: none;\n",
              "      border-radius: 50%;\n",
              "      cursor: pointer;\n",
              "      display: none;\n",
              "      fill: #1967D2;\n",
              "      height: 32px;\n",
              "      padding: 0 0 0 0;\n",
              "      width: 32px;\n",
              "    }\n",
              "\n",
              "    .colab-df-convert:hover {\n",
              "      background-color: #E2EBFA;\n",
              "      box-shadow: 0px 1px 2px rgba(60, 64, 67, 0.3), 0px 1px 3px 1px rgba(60, 64, 67, 0.15);\n",
              "      fill: #174EA6;\n",
              "    }\n",
              "\n",
              "    [theme=dark] .colab-df-convert {\n",
              "      background-color: #3B4455;\n",
              "      fill: #D2E3FC;\n",
              "    }\n",
              "\n",
              "    [theme=dark] .colab-df-convert:hover {\n",
              "      background-color: #434B5C;\n",
              "      box-shadow: 0px 1px 3px 1px rgba(0, 0, 0, 0.15);\n",
              "      filter: drop-shadow(0px 1px 2px rgba(0, 0, 0, 0.3));\n",
              "      fill: #FFFFFF;\n",
              "    }\n",
              "  </style>\n",
              "\n",
              "      <script>\n",
              "        const buttonEl =\n",
              "          document.querySelector('#df-676c15b0-8b75-485a-9704-431aa3cbb3c0 button.colab-df-convert');\n",
              "        buttonEl.style.display =\n",
              "          google.colab.kernel.accessAllowed ? 'block' : 'none';\n",
              "\n",
              "        async function convertToInteractive(key) {\n",
              "          const element = document.querySelector('#df-676c15b0-8b75-485a-9704-431aa3cbb3c0');\n",
              "          const dataTable =\n",
              "            await google.colab.kernel.invokeFunction('convertToInteractive',\n",
              "                                                     [key], {});\n",
              "          if (!dataTable) return;\n",
              "\n",
              "          const docLinkHtml = 'Like what you see? Visit the ' +\n",
              "            '<a target=\"_blank\" href=https://colab.research.google.com/notebooks/data_table.ipynb>data table notebook</a>'\n",
              "            + ' to learn more about interactive tables.';\n",
              "          element.innerHTML = '';\n",
              "          dataTable['output_type'] = 'display_data';\n",
              "          await google.colab.output.renderOutput(dataTable, element);\n",
              "          const docLink = document.createElement('div');\n",
              "          docLink.innerHTML = docLinkHtml;\n",
              "          element.appendChild(docLink);\n",
              "        }\n",
              "      </script>\n",
              "    </div>\n",
              "  </div>\n",
              "  "
            ]
          },
          "metadata": {},
          "execution_count": 54
        }
      ]
    }
  ]
}